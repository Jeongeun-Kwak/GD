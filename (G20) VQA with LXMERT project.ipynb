{
 "cells": [
  {
   "cell_type": "markdown",
   "id": "confused-adolescent",
   "metadata": {},
   "source": [
    "# (G20) LXMERT로 살펴보는 VQA\n",
    "\n",
    "# 들어가기\n",
    "\n",
    "# LXMERT 모델구조 복습"
   ]
  },
  {
   "cell_type": "code",
   "execution_count": 2,
   "id": "characteristic-period",
   "metadata": {},
   "outputs": [
    {
     "name": "stdout",
     "output_type": "stream",
     "text": [
      "1.8.1+cu102\n"
     ]
    }
   ],
   "source": [
    "# 오늘 실습을 위한 작업디렉토리로 이동합니다.\n",
    "!cd ~/aiffel/lxmert\n",
    "\n",
    "from IPython.display import clear_output, Image, display\n",
    "import PIL.Image\n",
    "import io\n",
    "import json\n",
    "import torch\n",
    "import numpy as np\n",
    "from transformers import LxmertForQuestionAnswering, LxmertTokenizer\n",
    "import wget\n",
    "import pickle\n",
    "import os, sys\n",
    "\n",
    "# 추가해준 모듈을 임포트하기 위해 아래 경로를 path에 추가합니다. \n",
    "sys.path.append(os.getenv('HOME')+'/aiffel/lxmert')\n",
    "from processing_image import Preprocess\n",
    "from visualizing_image import SingleImageViz\n",
    "from modeling_frcnn import GeneralizedRCNN\n",
    "from utils import Config\n",
    "import utils\n",
    "\n",
    "print(torch.__version__)"
   ]
  },
  {
   "cell_type": "code",
   "execution_count": 3,
   "id": "lesser-binary",
   "metadata": {},
   "outputs": [
    {
     "name": "stdout",
     "output_type": "stream",
     "text": [
      "1600\n",
      "['yolk', 'goal', 'bathroom', 'macaroni', 'umpire', 'toothpick', 'alarm clock', 'ceiling fan', 'photos', 'parrot', 'tail fin', 'birthday cake', 'calculator', 'catcher', 'toilet', 'batter', 'stop sign,stopsign', 'cone', 'microwave,microwave oven', 'skateboard ramp', 'tea', 'dugout', 'products', 'halter', 'kettle', 'kitchen', 'refrigerator,fridge', 'ostrich', 'bathtub', 'blinds']\n"
     ]
    }
   ],
   "source": [
    "# object definition\n",
    "OBJ_URL = \"https://raw.githubusercontent.com/airsplay/py-bottom-up-attention/master/demo/data/genome/1600-400-20/objects_vocab.txt\"\n",
    "objids = utils.get_data(OBJ_URL)\n",
    "print(len(objids))\n",
    "print(objids[:30])  #1600개의 단어사전 중 30개만 출력"
   ]
  },
  {
   "cell_type": "code",
   "execution_count": 4,
   "id": "coordinated-catalyst",
   "metadata": {},
   "outputs": [
    {
     "name": "stdout",
     "output_type": "stream",
     "text": [
      "400\n",
      "['gray,grey', 'multi colored,multi-colored,multicolored', 'double decker,double-decker', 'unmade', 'red', 'camouflage', 'blue', 'white', 'green', 'pink', 'yellow', 'black', 'ivory', 'throwing', 'orange', 'spiky', 'plaid', 'purple', 'soccer', 'brake', 'blonde', 'american', 'flat screen', 'brown', 'wooden', 'performing', 'pulled back', 'windshield', 'bald', 'chocolate']\n"
     ]
    }
   ],
   "source": [
    "# attribute definition\n",
    "ATTR_URL = \"https://raw.githubusercontent.com/airsplay/py-bottom-up-attention/master/demo/data/genome/1600-400-20/attributes_vocab.txt\"\n",
    "attrids = utils.get_data(ATTR_URL)\n",
    "print(len(attrids))\n",
    "print(attrids[:30])   #400개의 단어사전 중 30개만 출력"
   ]
  },
  {
   "cell_type": "code",
   "execution_count": 5,
   "id": "magnetic-remains",
   "metadata": {},
   "outputs": [
    {
     "name": "stdout",
     "output_type": "stream",
     "text": [
      "3129\n",
      "['', 'woods', 'trash can', 'hanging', 'wooden', 'cooking', 'china', 'kids', 'bike rack', 'on phone', 'music', 'travel', 'tulip', 'arrow', 'branch', 'chevron', 'mouth', 'on right', 'rice', 'plate', 'lots', 'nature', 'fruits', 'throwing frisbee', 'blonde', 'life jacket', 'ham', 'hay', 'hat', 'to get to other side']\n"
     ]
    }
   ],
   "source": [
    "# VQA answer definition\n",
    "VQA_URL = \"https://raw.githubusercontent.com/airsplay/lxmert/master/data/vqa/trainval_label2ans.json\"\n",
    "vqa_answers = utils.get_data(VQA_URL)\n",
    "print(len(vqa_answers))\n",
    "print(vqa_answers[:30])  #3129개의 단어사전 중 30개만 출력"
   ]
  },
  {
   "cell_type": "code",
   "execution_count": 6,
   "id": "diverse-moment",
   "metadata": {},
   "outputs": [
    {
     "name": "stdout",
     "output_type": "stream",
     "text": [
      "loading configuration file cache\n"
     ]
    }
   ],
   "source": [
    "# 위 이미지의 URL\n",
    "URL = \"https://raw.githubusercontent.com/airsplay/py-bottom-up-attention/master/demo/data/images/input.jpg\"\n",
    "\n",
    "frcnn_cfg = Config.from_pretrained(\"unc-nlp/frcnn-vg-finetuned\")\n",
    "image_preprocess = Preprocess(frcnn_cfg)\n",
    "\n",
    "images, sizes, scales_yx = image_preprocess(URL)"
   ]
  },
  {
   "cell_type": "code",
   "execution_count": 7,
   "id": "looking-highway",
   "metadata": {},
   "outputs": [
    {
     "name": "stdout",
     "output_type": "stream",
     "text": [
      "tensor([[[[  37.0199,   32.2233,   25.0255,  ...,  -40.9723,  -31.3756,\n",
      "            -24.9801],\n",
      "          [  31.0199,   27.6623,   22.6238,  ...,  -42.1717,  -31.8553,\n",
      "            -24.9801],\n",
      "          [  22.0199,   20.8207,   19.0213,  ...,  -43.9708,  -32.5748,\n",
      "            -24.9801],\n",
      "          ...,\n",
      "          [ -85.9802,  -83.9816,  -80.9824,  ...,   71.0138,   63.8164,\n",
      "             59.0198],\n",
      "          [ -87.7801,  -85.0620,  -80.9833,  ...,   66.2157,   61.1775,\n",
      "             57.8199],\n",
      "          [ -88.9801,  -85.7823,  -80.9838,  ...,   63.0170,   59.4182,\n",
      "             57.0199]],\n",
      "\n",
      "         [[  44.0535,   42.4546,   40.0554,  ...,  -27.9406,  -20.7431,\n",
      "            -15.9465],\n",
      "          [  49.2535,   44.4569,   37.2591,  ...,  -25.1393,  -16.2624,\n",
      "            -10.3465],\n",
      "          [  57.0535,   47.4602,   33.0647,  ...,  -20.9372,   -9.5412,\n",
      "             -1.9465],\n",
      "          ...,\n",
      "          [ -99.9466,  -97.5482,  -93.9492,  ...,   52.0463,   43.6493,\n",
      "             38.0533],\n",
      "          [-101.7465,  -98.1490,  -92.7507,  ...,   44.8480,   38.2504,\n",
      "             33.8535],\n",
      "          [-102.9465,  -98.5496,  -91.9517,  ...,   40.0491,   34.6510,\n",
      "             31.0535]],\n",
      "\n",
      "         [[  -4.7717,   -3.9723,   -2.7726,  ...,  -70.7619,  -58.7661,\n",
      "            -50.7717],\n",
      "          [  -1.9717,   -4.0502,   -7.1693,  ...,  -63.1602,  -49.0051,\n",
      "            -39.5717],\n",
      "          [   2.2283,   -4.1672,  -13.7642,  ...,  -51.7575,  -34.3636,\n",
      "            -22.7717],\n",
      "          ...,\n",
      "          [-104.7718, -103.1728, -100.7735,  ...,   68.2211,   59.8241,\n",
      "             54.2281],\n",
      "          [-106.5717, -103.5338,  -98.9752,  ...,   61.0231,   54.7853,\n",
      "             50.6283],\n",
      "          [-107.7717, -103.7745,  -97.7764,  ...,   56.2244,   51.4261,\n",
      "             48.2283]]]])\n",
      "tensor([[ 800, 1067]])\n"
     ]
    }
   ],
   "source": [
    "print(images)\n",
    "print(sizes)"
   ]
  },
  {
   "cell_type": "code",
   "execution_count": 8,
   "id": "criminal-decision",
   "metadata": {},
   "outputs": [],
   "source": [
    "test_questions_for_url1 = [\n",
    "    \"Where is this scene?\",\n",
    "    \"what is the man riding?\",\n",
    "    \"What is the man wearing?\",\n",
    "    \"What is the color of the horse?\"\n",
    "]"
   ]
  },
  {
   "cell_type": "markdown",
   "id": "changed-dependence",
   "metadata": {},
   "source": [
    "# 모델 구성(1) F-RCNN"
   ]
  },
  {
   "cell_type": "code",
   "execution_count": 9,
   "id": "imported-junior",
   "metadata": {},
   "outputs": [
    {
     "name": "stdout",
     "output_type": "stream",
     "text": [
      "loading configuration file cache\n",
      "loading weights file https://cdn.huggingface.co/unc-nlp/frcnn-vg-finetuned/pytorch_model.bin from cache at /home/aiffel-dj20/.cache/torch/transformers/57f6df6abe353be2773f2700159c65615babf39ab5b48114d2b49267672ae10f.77b59256a4cf8343ae0f923246a81489fc8d82f98d082edc2d2037c977c0d9d0\n",
      "All model checkpoint weights were used when initializing GeneralizedRCNN.\n",
      "\n",
      "All the weights of GeneralizedRCNN were initialized from the model checkpoint at unc-nlp/frcnn-vg-finetuned.\n",
      "If your task is similar to the task the model of the checkpoint was trained on, you can already use GeneralizedRCNN for predictions without further training.\n"
     ]
    }
   ],
   "source": [
    "frcnn_cfg = Config.from_pretrained(\"unc-nlp/frcnn-vg-finetuned\")\n",
    "\n",
    "frcnn = GeneralizedRCNN.from_pretrained(\"unc-nlp/frcnn-vg-finetuned\", config=frcnn_cfg)"
   ]
  },
  {
   "cell_type": "code",
   "execution_count": 10,
   "id": "acute-inside",
   "metadata": {},
   "outputs": [
    {
     "data": {
      "text/plain": [
       "36"
      ]
     },
     "execution_count": 10,
     "metadata": {},
     "output_type": "execute_result"
    }
   ],
   "source": [
    "frcnn_cfg.max_detections  # object detection 모델이 검출할 최대 object 개수"
   ]
  },
  {
   "cell_type": "code",
   "execution_count": 11,
   "id": "sunrise-latitude",
   "metadata": {},
   "outputs": [],
   "source": [
    "output_dict = frcnn(\n",
    "    images, \n",
    "    sizes, \n",
    "    scales_yx=scales_yx, \n",
    "    padding=\"max_detections\",\n",
    "    max_detections=frcnn_cfg.max_detections,\n",
    "    return_tensors=\"pt\"\n",
    ")"
   ]
  },
  {
   "cell_type": "code",
   "execution_count": 12,
   "id": "conditional-harris",
   "metadata": {},
   "outputs": [
    {
     "name": "stdout",
     "output_type": "stream",
     "text": [
      "tensor([[[1.6930e+02, 2.1428e+02, 4.8507e+02, 4.6975e+02],\n",
      "         [1.0072e+02, 2.5157e+02, 3.9440e+02, 4.8000e+02],\n",
      "         [5.8607e+02, 0.0000e+00, 6.3892e+02, 3.5348e+02],\n",
      "         [6.0813e+02, 6.1844e+01, 6.3753e+02, 4.2312e+02],\n",
      "         [2.8151e+02, 1.6208e+02, 3.2836e+02, 1.9436e+02],\n",
      "         [1.5756e+02, 9.3071e+01, 3.9201e+02, 4.6143e+02],\n",
      "         [2.2245e+02, 2.9141e+02, 5.6593e+02, 4.8000e+02],\n",
      "         [4.1366e+01, 1.8160e+02, 3.4989e+02, 4.5049e+02],\n",
      "         [1.3899e+01, 1.7041e+00, 2.0780e+02, 4.3721e+02],\n",
      "         [3.8143e+02, 3.1056e+02, 6.1871e+02, 4.1796e+02],\n",
      "         [2.6148e+02, 1.9268e+02, 3.6299e+02, 4.2911e+02],\n",
      "         [2.0384e+02, 0.0000e+00, 3.0062e+02, 2.7995e+02],\n",
      "         [2.9271e+00, 0.0000e+00, 1.2306e+02, 3.5311e+02],\n",
      "         [2.4660e+02, 1.5944e+02, 3.4745e+02, 3.6034e+02],\n",
      "         [5.5263e+01, 2.7269e+01, 1.2843e+02, 3.8614e+02],\n",
      "         [4.4270e-01, 3.3880e+02, 5.0326e+02, 4.7818e+02],\n",
      "         [1.7163e+02, 3.7074e+02, 4.6254e+02, 4.6932e+02],\n",
      "         [1.0095e+02, 1.6604e+02, 5.5064e+02, 4.1651e+02],\n",
      "         [1.5804e+00, 0.0000e+00, 5.2965e+02, 2.8064e+02],\n",
      "         [1.5900e+02, 1.3831e+00, 3.5435e+02, 3.1691e+02],\n",
      "         [5.5594e+02, 2.6986e+02, 6.0296e+02, 3.7290e+02],\n",
      "         [3.7103e+02, 2.6561e+02, 6.3782e+02, 3.8166e+02],\n",
      "         [3.3236e+02, 1.6124e+01, 6.3379e+02, 3.5423e+02],\n",
      "         [1.2503e+02, 4.1742e+02, 6.2055e+02, 4.7971e+02],\n",
      "         [8.0712e+01, 0.0000e+00, 6.3404e+02, 1.3555e+02],\n",
      "         [2.7845e+02, 2.0657e+02, 3.3999e+02, 3.1343e+02],\n",
      "         [4.9920e+02, 2.7338e+02, 5.6927e+02, 3.6314e+02],\n",
      "         [0.0000e+00, 0.0000e+00, 2.2583e+02, 2.3336e+02],\n",
      "         [0.0000e+00, 2.7051e+02, 2.9955e+02, 4.7693e+02],\n",
      "         [5.4911e+00, 2.7253e+02, 9.1678e+01, 4.6170e+02],\n",
      "         [5.9929e+02, 1.9917e+02, 6.3997e+02, 4.0855e+02],\n",
      "         [2.5114e+02, 1.0120e+02, 5.9824e+02, 4.0908e+02],\n",
      "         [4.0340e+02, 0.0000e+00, 6.3419e+02, 2.3670e+02],\n",
      "         [2.8208e+02, 1.9724e+02, 6.4000e+02, 4.6537e+02],\n",
      "         [2.5728e+00, 2.4182e+02, 1.5470e+02, 4.7816e+02],\n",
      "         [0.0000e+00, 5.4884e+01, 3.9842e+02, 3.7030e+02]]])\n",
      "-------------\n",
      "torch.Size([1, 36, 4])\n"
     ]
    }
   ],
   "source": [
    "print(output_dict.get(\"boxes\"))\n",
    "print('-------------')\n",
    "print(output_dict.get(\"boxes\").shape)"
   ]
  },
  {
   "cell_type": "code",
   "execution_count": 13,
   "id": "widespread-layout",
   "metadata": {},
   "outputs": [
    {
     "name": "stdout",
     "output_type": "stream",
     "text": [
      "tensor([[[0.0000e+00, 0.0000e+00, 0.0000e+00,  ..., 6.3681e+00,\n",
      "          3.4300e-03, 7.7600e+00],\n",
      "         [0.0000e+00, 1.4429e-02, 1.7533e-01,  ..., 6.4004e+00,\n",
      "          0.0000e+00, 6.6364e+00],\n",
      "         [0.0000e+00, 0.0000e+00, 4.1719e-03,  ..., 2.0413e-01,\n",
      "          8.4239e-01, 3.4729e+00],\n",
      "         ...,\n",
      "         [0.0000e+00, 8.2577e-01, 4.4683e-01,  ..., 6.3485e+00,\n",
      "          4.1949e-02, 3.9396e-01],\n",
      "         [0.0000e+00, 1.7906e-01, 1.4289e-01,  ..., 2.8292e+00,\n",
      "          6.5108e-01, 1.2135e-02],\n",
      "         [0.0000e+00, 2.0028e-01, 3.7835e-03,  ..., 8.0951e+00,\n",
      "          6.9268e-01, 1.3321e-01]]])\n",
      "-------------\n",
      "torch.Size([1, 36, 2048])\n"
     ]
    }
   ],
   "source": [
    "print(output_dict.get(\"roi_features\"))\n",
    "print('-------------')\n",
    "print(output_dict.get(\"roi_features\").shape)"
   ]
  },
  {
   "cell_type": "code",
   "execution_count": 14,
   "id": "greenhouse-defense",
   "metadata": {},
   "outputs": [
    {
     "data": {
      "image/jpeg": "[encoded data removed]",
      "text/plain": [
       "<IPython.core.display.Image object>"
      ]
     },
     "metadata": {},
     "output_type": "display_data"
    }
   ],
   "source": [
    "# for visualizing output\n",
    "def showarray(a, fmt='jpeg'):\n",
    "    a = np.uint8(np.clip(a, 0, 255))\n",
    "    f = io.BytesIO()\n",
    "    PIL.Image.fromarray(a).save(f, fmt)\n",
    "    display(Image(data=f.getvalue()))\n",
    "\n",
    "#image viz\n",
    "frcnn_visualizer = SingleImageViz(URL, id2obj=objids, id2attr=attrids)\n",
    "\n",
    "frcnn_visualizer.draw_boxes(\n",
    "    output_dict.get(\"boxes\"),\n",
    "    output_dict.pop(\"obj_ids\"),\n",
    "    output_dict.pop(\"obj_probs\"),\n",
    "    output_dict.pop(\"attr_ids\"),\n",
    "    output_dict.pop(\"attr_probs\"),\n",
    ")\n",
    "showarray(frcnn_visualizer._get_buffer())"
   ]
  },
  {
   "cell_type": "code",
   "execution_count": 15,
   "id": "permanent-martial",
   "metadata": {},
   "outputs": [],
   "source": [
    "#Very important that the boxes are normalized\n",
    "normalized_boxes = output_dict.get(\"normalized_boxes\")\n",
    "features = output_dict.get(\"roi_features\")"
   ]
  },
  {
   "cell_type": "markdown",
   "id": "communist-brief",
   "metadata": {},
   "source": [
    "# 모델 구성(2) LxmertTokenizer"
   ]
  },
  {
   "cell_type": "code",
   "execution_count": 16,
   "id": "curious-investing",
   "metadata": {},
   "outputs": [
    {
     "data": {
      "application/vnd.jupyter.widget-view+json": {
       "model_id": "7125a95cf0914dbb92ae431a7ab485bb",
       "version_major": 2,
       "version_minor": 0
      },
      "text/plain": [
       "Downloading:   0%|          | 0.00/232k [00:00<?, ?B/s]"
      ]
     },
     "metadata": {},
     "output_type": "display_data"
    },
    {
     "data": {
      "application/vnd.jupyter.widget-view+json": {
       "model_id": "02505af379024237bf3ca8e0e9f6b9ec",
       "version_major": 2,
       "version_minor": 0
      },
      "text/plain": [
       "Downloading:   0%|          | 0.00/112 [00:00<?, ?B/s]"
      ]
     },
     "metadata": {},
     "output_type": "display_data"
    },
    {
     "data": {
      "application/vnd.jupyter.widget-view+json": {
       "model_id": "c797928fc98f4564891054bb6ff44e92",
       "version_major": 2,
       "version_minor": 0
      },
      "text/plain": [
       "Downloading:   0%|          | 0.00/466k [00:00<?, ?B/s]"
      ]
     },
     "metadata": {},
     "output_type": "display_data"
    }
   ],
   "source": [
    "lxmert_tokenizer = LxmertTokenizer.from_pretrained(\"unc-nlp/lxmert-base-uncased\")"
   ]
  },
  {
   "cell_type": "code",
   "execution_count": 17,
   "id": "descending-banana",
   "metadata": {},
   "outputs": [],
   "source": [
    "test_question = [\"what is the man riding?\"]\n",
    "\n",
    "inputs = lxmert_tokenizer(\n",
    "    test_question,\n",
    "    padding=\"max_length\",\n",
    "    max_length=20,\n",
    "    truncation=True,\n",
    "    return_token_type_ids=True,\n",
    "    return_attention_mask=True,\n",
    "    add_special_tokens=True,\n",
    "    return_tensors=\"pt\"\n",
    ")"
   ]
  },
  {
   "cell_type": "code",
   "execution_count": 18,
   "id": "ordered-eligibility",
   "metadata": {},
   "outputs": [
    {
     "name": "stdout",
     "output_type": "stream",
     "text": [
      "tensor([[ 101, 2054, 2003, 1996, 2158, 5559, 1029,  102,    0,    0,    0,    0,\n",
      "            0,    0,    0,    0,    0,    0,    0,    0]])\n",
      "tensor([[1, 1, 1, 1, 1, 1, 1, 1, 0, 0, 0, 0, 0, 0, 0, 0, 0, 0, 0, 0]])\n"
     ]
    }
   ],
   "source": [
    "print(inputs.input_ids)\n",
    "print(inputs.attention_mask)"
   ]
  },
  {
   "cell_type": "markdown",
   "id": "informal-immune",
   "metadata": {},
   "source": [
    "# 모델 구성(3) LxmertModel"
   ]
  },
  {
   "cell_type": "code",
   "execution_count": 19,
   "id": "federal-armor",
   "metadata": {},
   "outputs": [],
   "source": [
    "lxmert_vqa = LxmertForQuestionAnswering.from_pretrained(\"unc-nlp/lxmert-vqa-uncased\")"
   ]
  },
  {
   "cell_type": "code",
   "execution_count": 20,
   "id": "humanitarian-disposal",
   "metadata": {},
   "outputs": [
    {
     "data": {
      "text/plain": [
       "LxmertForQuestionAnsweringOutput(loss=None, question_answering_score=tensor([[-4.8003, -2.0933, -5.0623,  ..., -3.4784,  0.5502, -0.9368]],\n",
       "       grad_fn=<AddmmBackward>), language_hidden_states=None, vision_hidden_states=None, language_attentions=None, vision_attentions=None, cross_encoder_attentions=None)"
      ]
     },
     "execution_count": 20,
     "metadata": {},
     "output_type": "execute_result"
    }
   ],
   "source": [
    "output_vqa = lxmert_vqa(\n",
    "    input_ids=inputs.input_ids,\n",
    "    attention_mask=inputs.attention_mask,\n",
    "    visual_feats=features,\n",
    "    visual_pos=normalized_boxes,\n",
    "    token_type_ids=inputs.token_type_ids,\n",
    "    output_attentions=False,\n",
    ")\n",
    "\n",
    "output_vqa"
   ]
  },
  {
   "cell_type": "code",
   "execution_count": 21,
   "id": "broad-crown",
   "metadata": {},
   "outputs": [
    {
     "data": {
      "text/plain": [
       "3129"
      ]
     },
     "execution_count": 21,
     "metadata": {},
     "output_type": "execute_result"
    }
   ],
   "source": [
    "len(output_vqa[\"question_answering_score\"][0])"
   ]
  },
  {
   "cell_type": "code",
   "execution_count": 22,
   "id": "competitive-jones",
   "metadata": {},
   "outputs": [
    {
     "data": {
      "text/plain": [
       "tensor([315])"
      ]
     },
     "execution_count": 22,
     "metadata": {},
     "output_type": "execute_result"
    }
   ],
   "source": [
    "# get prediction\n",
    "pred_vqa = output_vqa[\"question_answering_score\"].argmax(-1)\n",
    "\n",
    "pred_vqa"
   ]
  },
  {
   "cell_type": "code",
   "execution_count": 23,
   "id": "applicable-killing",
   "metadata": {},
   "outputs": [
    {
     "data": {
      "text/plain": [
       "'horse'"
      ]
     },
     "execution_count": 23,
     "metadata": {},
     "output_type": "execute_result"
    }
   ],
   "source": [
    "vqa_answers[315]"
   ]
  },
  {
   "cell_type": "code",
   "execution_count": 24,
   "id": "southeast-buffer",
   "metadata": {},
   "outputs": [
    {
     "name": "stdout",
     "output_type": "stream",
     "text": [
      "Question: ['what is the man riding?']\n",
      "prediction from LXMERT VQA: horse\n"
     ]
    }
   ],
   "source": [
    "print(\"Question:\", test_question)\n",
    "print(\"prediction from LXMERT VQA:\", vqa_answers[pred_vqa])"
   ]
  },
  {
   "cell_type": "markdown",
   "id": "speaking-exhibition",
   "metadata": {},
   "source": [
    "# VQA Inference"
   ]
  },
  {
   "cell_type": "code",
   "execution_count": 25,
   "id": "palestinian-tractor",
   "metadata": {},
   "outputs": [
    {
     "name": "stdout",
     "output_type": "stream",
     "text": [
      "Question: ['Where is this scene?']\n",
      "prediction from LXMERT VQA: outdoors\n",
      "Question: ['what is the man riding?']\n",
      "prediction from LXMERT VQA: horse\n",
      "Question: ['What is the man wearing?']\n",
      "prediction from LXMERT VQA: suit\n",
      "Question: ['What is the color of the horse?']\n",
      "prediction from LXMERT VQA: brown\n"
     ]
    }
   ],
   "source": [
    "test_questions_for_url1 = [\n",
    "    \"Where is this scene?\",\n",
    "    \"what is the man riding?\",\n",
    "    \"What is the man wearing?\",\n",
    "    \"What is the color of the horse?\"\n",
    "]\n",
    "\n",
    "for test_question in test_questions_for_url1:\n",
    "    # run lxmert\n",
    "    test_question = [test_question]\n",
    "\n",
    "    inputs = lxmert_tokenizer(\n",
    "        test_question,\n",
    "        padding=\"max_length\",\n",
    "        max_length=20,\n",
    "        truncation=True,\n",
    "        return_token_type_ids=True,\n",
    "        return_attention_mask=True,\n",
    "        add_special_tokens=True,\n",
    "        return_tensors=\"pt\"\n",
    "    )\n",
    "\n",
    "    # run lxmert(s)\n",
    "    output_vqa = lxmert_vqa(\n",
    "        input_ids=inputs.input_ids,\n",
    "        attention_mask=inputs.attention_mask,\n",
    "        visual_feats=features,\n",
    "        visual_pos=normalized_boxes,\n",
    "        token_type_ids=inputs.token_type_ids,\n",
    "        output_attentions=False,\n",
    "    )\n",
    "    # get prediction\n",
    "    pred_vqa = output_vqa[\"question_answering_score\"].argmax(-1)\n",
    "    print(\"Question:\", test_question)\n",
    "    print(\"prediction from LXMERT VQA:\", vqa_answers[pred_vqa])"
   ]
  },
  {
   "cell_type": "markdown",
   "id": "wicked-conversation",
   "metadata": {},
   "source": [
    "# 프로젝트 : GQA 모델 활용하기\n",
    "\n",
    "## Step 1. 다른 이미지 테스트해 보기"
   ]
  },
  {
   "cell_type": "code",
   "execution_count": 1,
   "id": "configured-granny",
   "metadata": {},
   "outputs": [
    {
     "name": "stdout",
     "output_type": "stream",
     "text": [
      "1.8.1+cu102\n"
     ]
    }
   ],
   "source": [
    "# 오늘 실습을 위한 작업디렉토리로 이동합니다.\n",
    "!cd ~/aiffel/lxmert\n",
    "\n",
    "from IPython.display import clear_output, Image, display\n",
    "import PIL.Image\n",
    "import io\n",
    "import json\n",
    "import torch\n",
    "import numpy as np\n",
    "from transformers import LxmertForQuestionAnswering, LxmertTokenizer\n",
    "import wget\n",
    "import pickle\n",
    "import os, sys\n",
    "\n",
    "# 추가해준 모듈을 임포트하기 위해 아래 경로를 path에 추가합니다. \n",
    "sys.path.append(os.getenv('HOME')+'/aiffel/lxmert')\n",
    "from processing_image import Preprocess\n",
    "from visualizing_image import SingleImageViz\n",
    "from modeling_frcnn import GeneralizedRCNN\n",
    "from utils import Config\n",
    "import utils\n",
    "\n",
    "print(torch.__version__)"
   ]
  },
  {
   "cell_type": "code",
   "execution_count": 2,
   "id": "royal-citizenship",
   "metadata": {},
   "outputs": [
    {
     "name": "stdout",
     "output_type": "stream",
     "text": [
      "1600\n",
      "['yolk', 'goal', 'bathroom', 'macaroni', 'umpire', 'toothpick', 'alarm clock', 'ceiling fan', 'photos', 'parrot', 'tail fin', 'birthday cake', 'calculator', 'catcher', 'toilet', 'batter', 'stop sign,stopsign', 'cone', 'microwave,microwave oven', 'skateboard ramp', 'tea', 'dugout', 'products', 'halter', 'kettle', 'kitchen', 'refrigerator,fridge', 'ostrich', 'bathtub', 'blinds']\n"
     ]
    }
   ],
   "source": [
    "# object definition\n",
    "OBJ_URL = \"https://raw.githubusercontent.com/airsplay/py-bottom-up-attention/master/demo/data/genome/1600-400-20/objects_vocab.txt\"\n",
    "objids = utils.get_data(OBJ_URL)\n",
    "print(len(objids))\n",
    "print(objids[:30])  #1600개의 단어사전 중 30개만 출력"
   ]
  },
  {
   "cell_type": "code",
   "execution_count": 3,
   "id": "brown-perry",
   "metadata": {},
   "outputs": [
    {
     "name": "stdout",
     "output_type": "stream",
     "text": [
      "400\n",
      "['gray,grey', 'multi colored,multi-colored,multicolored', 'double decker,double-decker', 'unmade', 'red', 'camouflage', 'blue', 'white', 'green', 'pink', 'yellow', 'black', 'ivory', 'throwing', 'orange', 'spiky', 'plaid', 'purple', 'soccer', 'brake', 'blonde', 'american', 'flat screen', 'brown', 'wooden', 'performing', 'pulled back', 'windshield', 'bald', 'chocolate']\n"
     ]
    }
   ],
   "source": [
    "# attribute definition\n",
    "ATTR_URL = \"https://raw.githubusercontent.com/airsplay/py-bottom-up-attention/master/demo/data/genome/1600-400-20/attributes_vocab.txt\"\n",
    "attrids = utils.get_data(ATTR_URL)\n",
    "print(len(attrids))\n",
    "print(attrids[:30])   #400개의 단어사전 중 30개만 출력"
   ]
  },
  {
   "cell_type": "code",
   "execution_count": 4,
   "id": "animal-cyprus",
   "metadata": {},
   "outputs": [
    {
     "name": "stdout",
     "output_type": "stream",
     "text": [
      "3129\n",
      "['', 'woods', 'trash can', 'hanging', 'wooden', 'cooking', 'china', 'kids', 'bike rack', 'on phone', 'music', 'travel', 'tulip', 'arrow', 'branch', 'chevron', 'mouth', 'on right', 'rice', 'plate', 'lots', 'nature', 'fruits', 'throwing frisbee', 'blonde', 'life jacket', 'ham', 'hay', 'hat', 'to get to other side']\n"
     ]
    }
   ],
   "source": [
    "# VQA answer definition\n",
    "VQA_URL = \"https://raw.githubusercontent.com/airsplay/lxmert/master/data/vqa/trainval_label2ans.json\"\n",
    "vqa_answers = utils.get_data(VQA_URL)\n",
    "print(len(vqa_answers))\n",
    "print(vqa_answers[:30])  #3129개의 단어사전 중 30개만 출력"
   ]
  },
  {
   "cell_type": "code",
   "execution_count": 5,
   "id": "numerical-kinase",
   "metadata": {},
   "outputs": [
    {
     "name": "stdout",
     "output_type": "stream",
     "text": [
      "loading configuration file cache\n"
     ]
    }
   ],
   "source": [
    "# 위 이미지의 URL\n",
    "URL = \"https://vqa.cloudcv.org/media/test2014/COCO_test2014_000000262567.jpg\"\n",
    "\n",
    "frcnn_cfg = Config.from_pretrained(\"unc-nlp/frcnn-vg-finetuned\")\n",
    "image_preprocess = Preprocess(frcnn_cfg)\n",
    "\n",
    "images, sizes, scales_yx = image_preprocess(URL)"
   ]
  },
  {
   "cell_type": "code",
   "execution_count": 6,
   "id": "unsigned-disease",
   "metadata": {},
   "outputs": [
    {
     "name": "stdout",
     "output_type": "stream",
     "text": [
      "tensor([[[[  61.0199,   61.2689,   62.1015,  ...,   50.5607,   50.1444,\n",
      "             50.0199],\n",
      "          [  60.8955,   61.1445,   61.9771,  ...,   50.8094,   50.3931,\n",
      "             50.2686],\n",
      "          [  60.4793,   60.7282,   61.5609,  ...,   51.6420,   51.2256,\n",
      "             51.1012],\n",
      "          ...,\n",
      "          [ -87.9801,  -88.0373,  -88.2285,  ...,   21.7716,   21.5466,\n",
      "             21.4793],\n",
      "          [ -87.9801,  -88.0891,  -88.4536,  ...,   21.9628,   21.9110,\n",
      "             21.8955],\n",
      "          [ -87.9801,  -88.1046,  -88.5209,  ...,   22.0199,   22.0199,\n",
      "             22.0199]],\n",
      "\n",
      "         [[  48.0535,   48.4269,   49.6759,  ...,   41.5943,   41.1780,\n",
      "             41.0535],\n",
      "          [  47.9291,   48.2871,   49.4843,  ...,   41.5943,   41.1780,\n",
      "             41.0535],\n",
      "          [  47.5129,   47.8190,   48.8429,  ...,   41.5943,   41.1780,\n",
      "             41.0535],\n",
      "          ...,\n",
      "          [ -99.9465,  -99.9364,  -99.9026,  ...,   13.8052,   13.5802,\n",
      "             13.5129],\n",
      "          [ -99.9465, -100.0400, -100.3528,  ...,   13.9964,   13.9446,\n",
      "             13.9291],\n",
      "          [ -99.9465, -100.0710, -100.4873,  ...,   14.0535,   14.0535,\n",
      "             14.0535]],\n",
      "\n",
      "         [[  41.2283,   41.3528,   41.7691,  ...,   35.7691,   35.3528,\n",
      "             35.2283],\n",
      "          [  41.1039,   41.2439,   41.7120,  ...,   35.7691,   35.3528,\n",
      "             35.2283],\n",
      "          [  40.6877,   40.8795,   41.5208,  ...,   35.7691,   35.3528,\n",
      "             35.2283],\n",
      "          ...,\n",
      "          [-102.7717, -102.9635, -103.6049,  ...,    9.9800,    9.7550,\n",
      "              9.6877],\n",
      "          [-102.7717, -102.9117, -103.3798,  ...,   10.1712,   10.1194,\n",
      "             10.1039],\n",
      "          [-102.7717, -102.8962, -103.3125,  ...,   10.2283,   10.2283,\n",
      "             10.2283]]]])\n",
      "tensor([[ 800, 1201]])\n"
     ]
    }
   ],
   "source": [
    "print(images)\n",
    "print(sizes)"
   ]
  },
  {
   "cell_type": "code",
   "execution_count": 8,
   "id": "composed-healthcare",
   "metadata": {},
   "outputs": [],
   "source": [
    "test_questions_for_url2 = [\n",
    "    \"Where is the cat?\",\n",
    "    \"What is near the disk?\",\n",
    "    \"What is the color of the table?\",\n",
    "    \"What is the color of the cat?\",\n",
    "    \"What is the shape of the monitor?\",\n",
    "    \"What is the color of the keyboard?\",\n",
    "]"
   ]
  },
  {
   "cell_type": "code",
   "execution_count": 9,
   "id": "small-sampling",
   "metadata": {},
   "outputs": [
    {
     "name": "stdout",
     "output_type": "stream",
     "text": [
      "loading configuration file cache\n",
      "loading weights file https://cdn.huggingface.co/unc-nlp/frcnn-vg-finetuned/pytorch_model.bin from cache at /home/aiffel-dj20/.cache/torch/transformers/57f6df6abe353be2773f2700159c65615babf39ab5b48114d2b49267672ae10f.77b59256a4cf8343ae0f923246a81489fc8d82f98d082edc2d2037c977c0d9d0\n",
      "All model checkpoint weights were used when initializing GeneralizedRCNN.\n",
      "\n",
      "All the weights of GeneralizedRCNN were initialized from the model checkpoint at unc-nlp/frcnn-vg-finetuned.\n",
      "If your task is similar to the task the model of the checkpoint was trained on, you can already use GeneralizedRCNN for predictions without further training.\n"
     ]
    }
   ],
   "source": [
    "frcnn_cfg = Config.from_pretrained(\"unc-nlp/frcnn-vg-finetuned\")\n",
    "\n",
    "frcnn = GeneralizedRCNN.from_pretrained(\"unc-nlp/frcnn-vg-finetuned\", config=frcnn_cfg)"
   ]
  },
  {
   "cell_type": "code",
   "execution_count": 10,
   "id": "committed-liberal",
   "metadata": {},
   "outputs": [
    {
     "data": {
      "text/plain": [
       "36"
      ]
     },
     "execution_count": 10,
     "metadata": {},
     "output_type": "execute_result"
    }
   ],
   "source": [
    "frcnn_cfg.max_detections  # object detection 모델이 검출할 최대 object 개수"
   ]
  },
  {
   "cell_type": "code",
   "execution_count": 11,
   "id": "finite-heart",
   "metadata": {},
   "outputs": [],
   "source": [
    "output_dict = frcnn(\n",
    "    images, \n",
    "    sizes, \n",
    "    scales_yx=scales_yx, \n",
    "    padding=\"max_detections\",\n",
    "    max_detections=frcnn_cfg.max_detections,\n",
    "    return_tensors=\"pt\"\n",
    ")"
   ]
  },
  {
   "cell_type": "code",
   "execution_count": 12,
   "id": "prospective-script",
   "metadata": {},
   "outputs": [
    {
     "name": "stdout",
     "output_type": "stream",
     "text": [
      "tensor([[[1.0372e+02, 1.3613e+02, 2.2735e+02, 1.6974e+02],\n",
      "         [8.4005e+01, 1.1941e+02, 2.4814e+02, 1.7585e+02],\n",
      "         [0.0000e+00, 8.1354e+01, 3.2642e+02, 2.6568e+02],\n",
      "         [3.8475e+02, 3.7221e+01, 4.9974e+02, 3.3300e+02],\n",
      "         [2.9875e+01, 0.0000e+00, 4.3054e+02, 1.3465e+02],\n",
      "         [1.5929e+02, 9.1682e+01, 3.7275e+02, 2.4955e+02],\n",
      "         [6.7672e-01, 2.4750e+02, 2.7701e+02, 3.3300e+02],\n",
      "         [1.6578e+02, 1.2526e+02, 3.4723e+02, 2.1946e+02],\n",
      "         [0.0000e+00, 7.1275e+01, 2.1836e+02, 3.0790e+02],\n",
      "         [5.2669e+01, 1.7062e+00, 2.6646e+02, 1.8314e+02],\n",
      "         [6.1805e+01, 2.4761e+02, 4.2838e+02, 3.3299e+02],\n",
      "         [1.2076e+01, 1.1892e+02, 3.6657e+02, 3.0462e+02],\n",
      "         [1.9641e+02, 1.0624e+02, 3.5971e+02, 1.9710e+02],\n",
      "         [9.1356e+01, 1.1064e+02, 4.1889e+02, 2.8040e+02],\n",
      "         [1.2139e+02, 1.0626e+01, 4.8306e+02, 1.6577e+02],\n",
      "         [3.0271e+02, 1.0307e+02, 3.2805e+02, 1.2879e+02],\n",
      "         [2.9658e+02, 5.5949e+00, 4.9991e+02, 2.7482e+02],\n",
      "         [9.8404e+01, 1.5139e+01, 3.3169e+02, 2.2902e+02],\n",
      "         [4.1154e+01, 4.6659e+01, 4.0556e+02, 2.3727e+02],\n",
      "         [3.7447e+02, 1.4963e+02, 4.3518e+02, 2.1157e+02],\n",
      "         [2.2865e+01, 1.8779e+02, 2.5988e+02, 3.3038e+02],\n",
      "         [3.0586e+00, 3.5118e+01, 2.2336e+02, 2.2989e+02],\n",
      "         [1.3853e+02, 2.4226e+02, 1.9631e+02, 2.9457e+02],\n",
      "         [4.9879e-01, 1.5006e+02, 1.0106e+02, 2.1906e+02],\n",
      "         [1.1803e+01, 2.4141e+02, 1.1398e+02, 3.3267e+02],\n",
      "         [8.9141e+01, 2.0670e+02, 3.5243e+02, 3.3096e+02],\n",
      "         [5.6239e+01, 1.5892e+02, 4.4291e+02, 3.3075e+02],\n",
      "         [1.0619e+02, 2.2133e+01, 2.3387e+02, 1.2720e+02],\n",
      "         [0.0000e+00, 7.0040e+01, 1.7056e+02, 2.5244e+02],\n",
      "         [2.7224e+00, 9.5407e-01, 2.0850e+02, 1.5567e+02],\n",
      "         [2.3999e+02, 0.0000e+00, 4.8553e+02, 1.9817e+02],\n",
      "         [4.0989e+01, 1.3819e+02, 2.9928e+02, 3.3141e+02],\n",
      "         [2.3482e+01, 2.4362e+02, 1.0252e+02, 3.0287e+02],\n",
      "         [1.2246e+02, 1.2571e+02, 4.9315e+02, 3.1505e+02],\n",
      "         [2.4742e+01, 1.0823e+02, 1.2136e+02, 1.4326e+02],\n",
      "         [1.9832e+02, 8.2017e+01, 4.5546e+02, 2.9892e+02]]])\n",
      "-------------\n",
      "torch.Size([1, 36, 4])\n"
     ]
    }
   ],
   "source": [
    "print(output_dict.get(\"boxes\"))\n",
    "print('-------------')\n",
    "print(output_dict.get(\"boxes\").shape)"
   ]
  },
  {
   "cell_type": "code",
   "execution_count": 13,
   "id": "alien-pharmacy",
   "metadata": {},
   "outputs": [
    {
     "name": "stdout",
     "output_type": "stream",
     "text": [
      "tensor([[[2.4822e-03, 2.3580e+00, 0.0000e+00,  ..., 0.0000e+00,\n",
      "          0.0000e+00, 3.3088e+00],\n",
      "         [2.6639e-01, 1.0124e+00, 0.0000e+00,  ..., 9.0339e-04,\n",
      "          1.5285e-02, 3.0090e+00],\n",
      "         [6.0975e-01, 0.0000e+00, 0.0000e+00,  ..., 1.0956e-01,\n",
      "          2.5223e-01, 1.7357e+00],\n",
      "         ...,\n",
      "         [7.9118e-01, 2.3213e-01, 0.0000e+00,  ..., 2.2883e-02,\n",
      "          7.2807e-03, 6.4609e-01],\n",
      "         [0.0000e+00, 1.4173e+00, 0.0000e+00,  ..., 0.0000e+00,\n",
      "          2.0937e+00, 1.9630e+00],\n",
      "         [1.0801e+00, 8.3446e-01, 0.0000e+00,  ..., 1.2504e-02,\n",
      "          3.0912e-01, 6.6703e-01]]])\n",
      "-------------\n",
      "torch.Size([1, 36, 2048])\n"
     ]
    }
   ],
   "source": [
    "print(output_dict.get(\"roi_features\"))\n",
    "print('-------------')\n",
    "print(output_dict.get(\"roi_features\").shape)"
   ]
  },
  {
   "cell_type": "code",
   "execution_count": 14,
   "id": "chemical-republic",
   "metadata": {},
   "outputs": [
    {
     "data": {
      "image/jpeg": "[encoded data removed]",
      "text/plain": [
       "<IPython.core.display.Image object>"
      ]
     },
     "metadata": {},
     "output_type": "display_data"
    }
   ],
   "source": [
    "# for visualizing output\n",
    "def showarray(a, fmt='jpeg'):\n",
    "    a = np.uint8(np.clip(a, 0, 255))\n",
    "    f = io.BytesIO()\n",
    "    PIL.Image.fromarray(a).save(f, fmt)\n",
    "    display(Image(data=f.getvalue()))\n",
    "\n",
    "#image viz\n",
    "frcnn_visualizer = SingleImageViz(URL, id2obj=objids, id2attr=attrids)\n",
    "\n",
    "frcnn_visualizer.draw_boxes(\n",
    "    output_dict.get(\"boxes\"),\n",
    "    output_dict.pop(\"obj_ids\"),\n",
    "    output_dict.pop(\"obj_probs\"),\n",
    "    output_dict.pop(\"attr_ids\"),\n",
    "    output_dict.pop(\"attr_probs\"),\n",
    ")\n",
    "showarray(frcnn_visualizer._get_buffer())"
   ]
  },
  {
   "cell_type": "code",
   "execution_count": 15,
   "id": "prompt-vampire",
   "metadata": {},
   "outputs": [],
   "source": [
    "#Very important that the boxes are normalized\n",
    "normalized_boxes = output_dict.get(\"normalized_boxes\")\n",
    "features = output_dict.get(\"roi_features\")"
   ]
  },
  {
   "cell_type": "code",
   "execution_count": 16,
   "id": "eastern-burden",
   "metadata": {},
   "outputs": [],
   "source": [
    "lxmert_tokenizer = LxmertTokenizer.from_pretrained(\"unc-nlp/lxmert-base-uncased\")"
   ]
  },
  {
   "cell_type": "code",
   "execution_count": 17,
   "id": "removed-subscriber",
   "metadata": {},
   "outputs": [],
   "source": [
    "test_question = [\"what is the man riding?\"]\n",
    "\n",
    "inputs = lxmert_tokenizer(\n",
    "    test_question,\n",
    "    padding=\"max_length\",\n",
    "    max_length=20,\n",
    "    truncation=True,\n",
    "    return_token_type_ids=True,\n",
    "    return_attention_mask=True,\n",
    "    add_special_tokens=True,\n",
    "    return_tensors=\"pt\"\n",
    ")"
   ]
  },
  {
   "cell_type": "code",
   "execution_count": 18,
   "id": "special-peter",
   "metadata": {},
   "outputs": [
    {
     "name": "stdout",
     "output_type": "stream",
     "text": [
      "tensor([[ 101, 2054, 2003, 1996, 2158, 5559, 1029,  102,    0,    0,    0,    0,\n",
      "            0,    0,    0,    0,    0,    0,    0,    0]])\n",
      "tensor([[1, 1, 1, 1, 1, 1, 1, 1, 0, 0, 0, 0, 0, 0, 0, 0, 0, 0, 0, 0]])\n"
     ]
    }
   ],
   "source": [
    "print(inputs.input_ids)\n",
    "print(inputs.attention_mask)"
   ]
  },
  {
   "cell_type": "code",
   "execution_count": 19,
   "id": "healthy-narrow",
   "metadata": {},
   "outputs": [],
   "source": [
    "lxmert_vqa = LxmertForQuestionAnswering.from_pretrained(\"unc-nlp/lxmert-vqa-uncased\")"
   ]
  },
  {
   "cell_type": "code",
   "execution_count": 20,
   "id": "welcome-burner",
   "metadata": {},
   "outputs": [
    {
     "data": {
      "text/plain": [
       "LxmertForQuestionAnsweringOutput(loss=None, question_answering_score=tensor([[-8.8629, -2.9882,  1.2814,  ..., -4.9313,  0.6163, -1.6971]],\n",
       "       grad_fn=<AddmmBackward>), language_hidden_states=None, vision_hidden_states=None, language_attentions=None, vision_attentions=None, cross_encoder_attentions=None)"
      ]
     },
     "execution_count": 20,
     "metadata": {},
     "output_type": "execute_result"
    }
   ],
   "source": [
    "output_vqa = lxmert_vqa(\n",
    "    input_ids=inputs.input_ids,\n",
    "    attention_mask=inputs.attention_mask,\n",
    "    visual_feats=features,\n",
    "    visual_pos=normalized_boxes,\n",
    "    token_type_ids=inputs.token_type_ids,\n",
    "    output_attentions=False,\n",
    ")\n",
    "\n",
    "output_vqa"
   ]
  },
  {
   "cell_type": "code",
   "execution_count": 21,
   "id": "alive-flooring",
   "metadata": {},
   "outputs": [
    {
     "data": {
      "text/plain": [
       "3129"
      ]
     },
     "execution_count": 21,
     "metadata": {},
     "output_type": "execute_result"
    }
   ],
   "source": [
    "len(output_vqa[\"question_answering_score\"][0])"
   ]
  },
  {
   "cell_type": "code",
   "execution_count": 22,
   "id": "supported-diameter",
   "metadata": {},
   "outputs": [
    {
     "data": {
      "text/plain": [
       "tensor([1770])"
      ]
     },
     "execution_count": 22,
     "metadata": {},
     "output_type": "execute_result"
    }
   ],
   "source": [
    "# get prediction\n",
    "pred_vqa = output_vqa[\"question_answering_score\"].argmax(-1)\n",
    "\n",
    "pred_vqa"
   ]
  },
  {
   "cell_type": "code",
   "execution_count": 23,
   "id": "chinese-coast",
   "metadata": {},
   "outputs": [
    {
     "data": {
      "text/plain": [
       "'horse'"
      ]
     },
     "execution_count": 23,
     "metadata": {},
     "output_type": "execute_result"
    }
   ],
   "source": [
    "vqa_answers[315]"
   ]
  },
  {
   "cell_type": "code",
   "execution_count": 24,
   "id": "olive-overview",
   "metadata": {},
   "outputs": [
    {
     "name": "stdout",
     "output_type": "stream",
     "text": [
      "Question: ['what is the man riding?']\n",
      "prediction from LXMERT VQA: cat\n"
     ]
    }
   ],
   "source": [
    "print(\"Question:\", test_question)\n",
    "print(\"prediction from LXMERT VQA:\", vqa_answers[pred_vqa])"
   ]
  },
  {
   "cell_type": "code",
   "execution_count": 25,
   "id": "atomic-moscow",
   "metadata": {},
   "outputs": [
    {
     "name": "stdout",
     "output_type": "stream",
     "text": [
      "Question: ['Where is the cat?']\n",
      "prediction from LXMERT VQA: desk\n",
      "Question: ['What is near the disk?']\n",
      "prediction from LXMERT VQA: cat\n",
      "Question: ['What is the color of the table?']\n",
      "prediction from LXMERT VQA: brown\n",
      "Question: ['What is the color of the cat?']\n",
      "prediction from LXMERT VQA: black and white\n",
      "Question: ['What is the shape of the monitor?']\n",
      "prediction from LXMERT VQA: rectangle\n",
      "Question: ['What is the color of the keyboard?']\n",
      "prediction from LXMERT VQA: white\n"
     ]
    }
   ],
   "source": [
    "test_questions_for_url1 = [\n",
    "    \"Where is the cat?\",\n",
    "    \"What is near the disk?\",\n",
    "    \"What is the color of the table?\",\n",
    "    \"What is the color of the cat?\",\n",
    "    \"What is the shape of the monitor?\",\n",
    "    \"What is the color of the keyboard?\"\n",
    "]\n",
    "\n",
    "for test_question in test_questions_for_url1:\n",
    "    # run lxmert\n",
    "    test_question = [test_question]\n",
    "\n",
    "    inputs = lxmert_tokenizer(\n",
    "        test_question,\n",
    "        padding=\"max_length\",\n",
    "        max_length=20,\n",
    "        truncation=True,\n",
    "        return_token_type_ids=True,\n",
    "        return_attention_mask=True,\n",
    "        add_special_tokens=True,\n",
    "        return_tensors=\"pt\"\n",
    "    )\n",
    "\n",
    "    # run lxmert(s)\n",
    "    output_vqa = lxmert_vqa(\n",
    "        input_ids=inputs.input_ids,\n",
    "        attention_mask=inputs.attention_mask,\n",
    "        visual_feats=features,\n",
    "        visual_pos=normalized_boxes,\n",
    "        token_type_ids=inputs.token_type_ids,\n",
    "        output_attentions=False,\n",
    "    )\n",
    "    # get prediction\n",
    "    pred_vqa = output_vqa[\"question_answering_score\"].argmax(-1)\n",
    "    print(\"Question:\", test_question)\n",
    "    print(\"prediction from LXMERT VQA:\", vqa_answers[pred_vqa])"
   ]
  },
  {
   "cell_type": "markdown",
   "id": "instrumental-mouth",
   "metadata": {},
   "source": [
    "## GQA 데이터셋 버전 모델 테스트해 보기"
   ]
  },
  {
   "cell_type": "code",
   "execution_count": null,
   "id": "attended-ontario",
   "metadata": {},
   "outputs": [],
   "source": [
    "# 오늘 실습을 위한 작업디렉토리로 이동합니다.\n",
    "!cd ~/aiffel/lxmert\n",
    "\n",
    "from IPython.display import clear_output, Image, display\n",
    "import PIL.Image\n",
    "import io\n",
    "import json\n",
    "import torch\n",
    "import numpy as np\n",
    "from transformers import LxmertForQuestionAnswering, LxmertTokenizer\n",
    "import wget\n",
    "import pickle\n",
    "import os, sys\n",
    "\n",
    "# 추가해준 모듈을 임포트하기 위해 아래 경로를 path에 추가합니다. \n",
    "sys.path.append(os.getenv('HOME')+'/aiffel/lxmert')\n",
    "from processing_image import Preprocess\n",
    "from visualizing_image import SingleImageViz\n",
    "from modeling_frcnn import GeneralizedRCNN\n",
    "from utils import Config\n",
    "import utils\n",
    "\n",
    "print(torch.__version__)"
   ]
  },
  {
   "cell_type": "code",
   "execution_count": null,
   "id": "induced-lawsuit",
   "metadata": {},
   "outputs": [],
   "source": [
    "# object definition\n",
    "OBJ_URL = \"https://raw.githubusercontent.com/airsplay/py-bottom-up-attention/master/demo/data/genome/1600-400-20/objects_vocab.txt\"\n",
    "objids = utils.get_data(OBJ_URL)\n",
    "print(len(objids))\n",
    "print(objids[:30])  #1600개의 단어사전 중 30개만 출력"
   ]
  },
  {
   "cell_type": "code",
   "execution_count": null,
   "id": "smart-pilot",
   "metadata": {},
   "outputs": [],
   "source": [
    "# attribute definition\n",
    "ATTR_URL = \"https://raw.githubusercontent.com/airsplay/py-bottom-up-attention/master/demo/data/genome/1600-400-20/attributes_vocab.txt\"\n",
    "attrids = utils.get_data(ATTR_URL)\n",
    "print(len(attrids))\n",
    "print(attrids[:30])   #400개의 단어사전 중 30개만 출력"
   ]
  },
  {
   "cell_type": "code",
   "execution_count": 28,
   "id": "innocent-money",
   "metadata": {},
   "outputs": [
    {
     "name": "stdout",
     "output_type": "stream",
     "text": [
      "3129\n",
      "['', 'woods', 'trash can', 'hanging', 'wooden', 'cooking', 'china', 'kids', 'bike rack', 'on phone', 'music', 'travel', 'tulip', 'arrow', 'branch', 'chevron', 'mouth', 'on right', 'rice', 'plate', 'lots', 'nature', 'fruits', 'throwing frisbee', 'blonde', 'life jacket', 'ham', 'hay', 'hat', 'to get to other side']\n"
     ]
    }
   ],
   "source": [
    "# GQA answer definition\n",
    "GQA_URL = \"https://raw.githubusercontent.com/airsplay/lxmert/master/data/gqa/trainval_label2ans.json\"\n",
    "gqa_answers = utils.get_data(GQA_URL)\n",
    "print(len(vqa_answers))\n",
    "print(vqa_answers[:30])  #3129개의 단어사전 중 30개만 출력"
   ]
  },
  {
   "cell_type": "code",
   "execution_count": 29,
   "id": "jewish-consortium",
   "metadata": {},
   "outputs": [
    {
     "ename": "AttributeError",
     "evalue": "'LxmertForQuestionAnswering' object has no attribute 'INPUT'",
     "output_type": "error",
     "traceback": [
      "\u001b[0;31m---------------------------------------------------------------------------\u001b[0m",
      "\u001b[0;31mAttributeError\u001b[0m                            Traceback (most recent call last)",
      "\u001b[0;32m<ipython-input-29-5197a824fa34>\u001b[0m in \u001b[0;36m<module>\u001b[0;34m\u001b[0m\n\u001b[1;32m      3\u001b[0m \u001b[0;34m\u001b[0m\u001b[0m\n\u001b[1;32m      4\u001b[0m \u001b[0mlxmert_gqa\u001b[0m \u001b[0;34m=\u001b[0m \u001b[0mLxmertForQuestionAnswering\u001b[0m\u001b[0;34m.\u001b[0m\u001b[0mfrom_pretrained\u001b[0m\u001b[0;34m(\u001b[0m\u001b[0;34m\"unc-nlp/lxmert-gqa-uncased\"\u001b[0m\u001b[0;34m)\u001b[0m\u001b[0;34m\u001b[0m\u001b[0;34m\u001b[0m\u001b[0m\n\u001b[0;32m----> 5\u001b[0;31m \u001b[0mimage_preprocess\u001b[0m \u001b[0;34m=\u001b[0m \u001b[0mPreprocess\u001b[0m\u001b[0;34m(\u001b[0m\u001b[0mlxmert_gqa\u001b[0m\u001b[0;34m)\u001b[0m\u001b[0;34m\u001b[0m\u001b[0;34m\u001b[0m\u001b[0m\n\u001b[0m\u001b[1;32m      6\u001b[0m \u001b[0;34m\u001b[0m\u001b[0m\n\u001b[1;32m      7\u001b[0m \u001b[0mimages\u001b[0m\u001b[0;34m,\u001b[0m \u001b[0msizes\u001b[0m\u001b[0;34m,\u001b[0m \u001b[0mscales_yx\u001b[0m \u001b[0;34m=\u001b[0m \u001b[0mimage_preprocess\u001b[0m\u001b[0;34m(\u001b[0m\u001b[0mURL\u001b[0m\u001b[0;34m)\u001b[0m\u001b[0;34m\u001b[0m\u001b[0;34m\u001b[0m\u001b[0m\n",
      "\u001b[0;32m~/aiffel/lxmert/processing_image.py\u001b[0m in \u001b[0;36m__init__\u001b[0;34m(self, cfg)\u001b[0m\n\u001b[1;32m     72\u001b[0m \u001b[0;32mclass\u001b[0m \u001b[0mPreprocess\u001b[0m\u001b[0;34m:\u001b[0m\u001b[0;34m\u001b[0m\u001b[0;34m\u001b[0m\u001b[0m\n\u001b[1;32m     73\u001b[0m     \u001b[0;32mdef\u001b[0m \u001b[0m__init__\u001b[0m\u001b[0;34m(\u001b[0m\u001b[0mself\u001b[0m\u001b[0;34m,\u001b[0m \u001b[0mcfg\u001b[0m\u001b[0;34m)\u001b[0m\u001b[0;34m:\u001b[0m\u001b[0;34m\u001b[0m\u001b[0;34m\u001b[0m\u001b[0m\n\u001b[0;32m---> 74\u001b[0;31m         \u001b[0mself\u001b[0m\u001b[0;34m.\u001b[0m\u001b[0maug\u001b[0m \u001b[0;34m=\u001b[0m \u001b[0mResizeShortestEdge\u001b[0m\u001b[0;34m(\u001b[0m\u001b[0;34m[\u001b[0m\u001b[0mcfg\u001b[0m\u001b[0;34m.\u001b[0m\u001b[0mINPUT\u001b[0m\u001b[0;34m.\u001b[0m\u001b[0mMIN_SIZE_TEST\u001b[0m\u001b[0;34m,\u001b[0m \u001b[0mcfg\u001b[0m\u001b[0;34m.\u001b[0m\u001b[0mINPUT\u001b[0m\u001b[0;34m.\u001b[0m\u001b[0mMIN_SIZE_TEST\u001b[0m\u001b[0;34m]\u001b[0m\u001b[0;34m,\u001b[0m \u001b[0mcfg\u001b[0m\u001b[0;34m.\u001b[0m\u001b[0mINPUT\u001b[0m\u001b[0;34m.\u001b[0m\u001b[0mMAX_SIZE_TEST\u001b[0m\u001b[0;34m)\u001b[0m\u001b[0;34m\u001b[0m\u001b[0;34m\u001b[0m\u001b[0m\n\u001b[0m\u001b[1;32m     75\u001b[0m         \u001b[0mself\u001b[0m\u001b[0;34m.\u001b[0m\u001b[0minput_format\u001b[0m \u001b[0;34m=\u001b[0m \u001b[0mcfg\u001b[0m\u001b[0;34m.\u001b[0m\u001b[0mINPUT\u001b[0m\u001b[0;34m.\u001b[0m\u001b[0mFORMAT\u001b[0m\u001b[0;34m\u001b[0m\u001b[0;34m\u001b[0m\u001b[0m\n\u001b[1;32m     76\u001b[0m         \u001b[0mself\u001b[0m\u001b[0;34m.\u001b[0m\u001b[0msize_divisibility\u001b[0m \u001b[0;34m=\u001b[0m \u001b[0mcfg\u001b[0m\u001b[0;34m.\u001b[0m\u001b[0mSIZE_DIVISIBILITY\u001b[0m\u001b[0;34m\u001b[0m\u001b[0;34m\u001b[0m\u001b[0m\n",
      "\u001b[0;32m~/anaconda3/envs/aiffel/lib/python3.7/site-packages/torch/nn/modules/module.py\u001b[0m in \u001b[0;36m__getattr__\u001b[0;34m(self, name)\u001b[0m\n\u001b[1;32m    946\u001b[0m                 \u001b[0;32mreturn\u001b[0m \u001b[0mmodules\u001b[0m\u001b[0;34m[\u001b[0m\u001b[0mname\u001b[0m\u001b[0;34m]\u001b[0m\u001b[0;34m\u001b[0m\u001b[0;34m\u001b[0m\u001b[0m\n\u001b[1;32m    947\u001b[0m         raise AttributeError(\"'{}' object has no attribute '{}'\".format(\n\u001b[0;32m--> 948\u001b[0;31m             type(self).__name__, name))\n\u001b[0m\u001b[1;32m    949\u001b[0m \u001b[0;34m\u001b[0m\u001b[0m\n\u001b[1;32m    950\u001b[0m     \u001b[0;32mdef\u001b[0m \u001b[0m__setattr__\u001b[0m\u001b[0;34m(\u001b[0m\u001b[0mself\u001b[0m\u001b[0;34m,\u001b[0m \u001b[0mname\u001b[0m\u001b[0;34m:\u001b[0m \u001b[0mstr\u001b[0m\u001b[0;34m,\u001b[0m \u001b[0mvalue\u001b[0m\u001b[0;34m:\u001b[0m \u001b[0mUnion\u001b[0m\u001b[0;34m[\u001b[0m\u001b[0mTensor\u001b[0m\u001b[0;34m,\u001b[0m \u001b[0;34m'Module'\u001b[0m\u001b[0;34m]\u001b[0m\u001b[0;34m)\u001b[0m \u001b[0;34m->\u001b[0m \u001b[0;32mNone\u001b[0m\u001b[0;34m:\u001b[0m\u001b[0;34m\u001b[0m\u001b[0;34m\u001b[0m\u001b[0m\n",
      "\u001b[0;31mAttributeError\u001b[0m: 'LxmertForQuestionAnswering' object has no attribute 'INPUT'"
     ]
    }
   ],
   "source": [
    "# 위 이미지의 URL\n",
    "URL = \"https://vqa.cloudcv.org/media/test2014/COCO_test2014_000000262567.jpg\"\n",
    "\n",
    "l\n",
    "image_preprocess = Preprocess(lxmert_gqa)\n",
    "\n",
    "images, sizes, scales_yx = image_preprocess(URL)"
   ]
  },
  {
   "cell_type": "markdown",
   "id": "useful-duration",
   "metadata": {},
   "source": [
    "# Step 3. 내가 선택한 이미지로 VQA/GQA 버전 비교해 보기\n"
   ]
  },
  {
   "cell_type": "markdown",
   "id": "black-tongue",
   "metadata": {},
   "source": [
    "# 루브릭 평가\n",
    "\n",
    "|평가문항|상세기준|\n",
    "|:----|:----|\n",
    "|1. LXMERT 모델을 활용해 새로운 이미지에 대한 VQA 작업을 진행하였다.|이미지 bounding box 시각화 및 question에 대한 answer 출력이 정상적으로 진행되었다.|\n",
    "|2. GQA 버전의 LXMERT 모델을 활용해 VQA 작업을 진행하였다.|GQA 버전 모델을 활용하여 question에 대한 answer 출력이 정상적으로 진행되었다.|\n",
    "|3. VQA, GQA 버전의 성능을 체계적으로 비교분석하였다.|자신이 선택한 다양한 이미지에 대해 두 모델의 답안이 어떻게 달라지는지 비교분석 결과를 제출하였다.|"
   ]
  },
  {
   "cell_type": "markdown",
   "id": "southwest-physics",
   "metadata": {},
   "source": [
    "1. 새로운 이미지에 대한 VQA 작업을 진행했다. 이미지만 바꿨는데, 바운딩박스가 알아서 그려지고 라벨링이 된다는 것이 신기했다.\n",
    "\n",
    "\n",
    "2,3은 시도 도중에 에러가 났다. "
   ]
  },
  {
   "cell_type": "markdown",
   "id": "funky-birth",
   "metadata": {},
   "source": [
    "# 회고"
   ]
  },
  {
   "cell_type": "markdown",
   "id": "respiratory-tactics",
   "metadata": {},
   "source": [
    "아이펠 노드가 끝났다. 유종의 미를 거두고 싶었지만 뒤로 갈수록 시간도 없고 흥미도 떨어졌다. 시원섭섭한 마음이다. \n",
    "\n",
    "\n",
    "부족한 노드 항상 읽어주셔서 감사합니다. 퍼실님들!"
   ]
  },
  {
   "cell_type": "code",
   "execution_count": null,
   "id": "armed-screen",
   "metadata": {},
   "outputs": [],
   "source": []
  }
 ],
 "metadata": {
  "kernelspec": {
   "display_name": "aiffel",
   "language": "python",
   "name": "aiffel"
  },
  "language_info": {
   "codemirror_mode": {
    "name": "ipython",
    "version": 3
   },
   "file_extension": ".py",
   "mimetype": "text/x-python",
   "name": "python",
   "nbconvert_exporter": "python",
   "pygments_lexer": "ipython3",
   "version": "3.7.9"
  }
 },
 "nbformat": 4,
 "nbformat_minor": 5
}
