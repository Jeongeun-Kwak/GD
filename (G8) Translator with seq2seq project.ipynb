{
 "cells": [
  {
   "cell_type": "markdown",
   "id": "tamil-bernard",
   "metadata": {},
   "source": [
    "# (G8) Seq2seq으로 번역기 만들기\n",
    "\n",
    "****\n",
    "\n",
    "# 프로젝트: 한영 번역기 만들기\n",
    "\n",
    "## Step 1. 데이터 다운로드\n",
    "\n",
    "- 아래 링크에서 ```korean-english-park.train.tar.gz```를 다운로드받아 한영 병렬 데이터를 확보한다.\n",
    "- [jungyeul/korean-parallel-corpora](https://github.com/jungyeul/korean-parallel-corpora/tree/master/korean-english-news-v1)\n",
    "```c\n",
    "$ wget https://github.com/jungyeul/korean-parallel-corpora/blob/master/korean-english-news-v1/korean-english-park.train.tar.gz\n",
    "```"
   ]
  },
  {
   "cell_type": "code",
   "execution_count": 2,
   "id": "norwegian-sally",
   "metadata": {},
   "outputs": [],
   "source": [
    "import matplotlib as mpl\n",
    "import matplotlib.pyplot as plt\n",
    " \n",
    "%config InlineBackend.figure_format = 'retina'\n",
    " \n",
    "import matplotlib.font_manager as fm\n",
    "fontpath = '/usr/share/fonts/truetype/nanum/NanumBarunGothic.ttf'\n",
    "font = fm.FontProperties(fname=fontpath, size=9)\n",
    "plt.rc('font', family='NanumBarunGothic') \n",
    "mpl.font_manager._rebuild()"
   ]
  },
  {
   "cell_type": "code",
   "execution_count": 3,
   "id": "manual-check",
   "metadata": {},
   "outputs": [
    {
     "name": "stdout",
     "output_type": "stream",
     "text": [
      "2.4.1\n"
     ]
    }
   ],
   "source": [
    "# 프로젝트에 사용될 라이브러리 import\n",
    "import tensorflow as tf\n",
    "import numpy as np\n",
    "\n",
    "import matplotlib.ticker as ticker\n",
    "\n",
    "import time\n",
    "import re\n",
    "import os\n",
    "import io\n",
    "\n",
    "import pandas as pd\n",
    "import urllib.request\n",
    "from konlpy.tag import Okt\n",
    "from tensorflow import keras\n",
    "import tensorflow as tf\n",
    "from tensorflow.keras.preprocessing.text import Tokenizer\n",
    "import numpy as np\n",
    "from tensorflow.keras.preprocessing.sequence import pad_sequences\n",
    "from collections import Counter\n",
    "\n",
    "print(tf.__version__)"
   ]
  },
  {
   "cell_type": "code",
   "execution_count": 4,
   "id": "inappropriate-first",
   "metadata": {},
   "outputs": [
    {
     "name": "stdout",
     "output_type": "stream",
     "text": [
      "Data Size: 94123\n",
      "Data Size: 94123\n",
      "Example:\n",
      ">> 개인용 컴퓨터 사용의 상당 부분은 \"이것보다 뛰어날 수 있느냐?\" Much of personal computing is about \"can you top this?\"\n",
      ">> 북한의 핵무기 계획을 포기하도록 하려는 압력이 거세지고 있는 가운데, 일본과 북한의 외교관들이 외교 관계를 정상화하려는 회담을 재개했다. Amid mounting pressure on North Korea to abandon its nuclear weapons program Japanese and North Korean diplomats have resumed talks on normalizing diplomatic relations.\n",
      ">> \"경호 로보트가 침입자나 화재를 탐지하기 위해서 개인적으로, 그리고 전문적으로 사용되고 있습니다.\" “Guard robots are used privately and professionally to detect intruders or fire,” Karlsson said.\n",
      ">> 수자원부 당국은 논란이 되고 있고, 막대한 비용이 드는 이 사업에 대해 내년에 건설을 시작할 계획이다. Authorities from the Water Resources Ministry plan to begin construction next year on the controversial and hugely expensive project.\n",
      ">> 또한 근력 운동은 활발하게 걷는 것이나 최소한 20분 동안 뛰는 것과 같은 유산소 활동에서 얻는 운동 효과를 심장과 폐에 주지 않기 때문에, 연구학자들은 근력 운동이 심장에 큰 영향을 미치는지 여부에 대해 논쟁을 해왔다. Researchers also have debated whether weight-training has a big impact on the heart, since it does not give the heart and lungs the kind of workout they get from aerobic activities such as brisk walking or running for at least 20 minutes.\n"
     ]
    }
   ],
   "source": [
    "path_to_file = os.getenv('HOME')+'/aiffel/s2s_translation/korean-english-park.train.ko'\n",
    "\n",
    "with open(path_to_file, \"r\") as f:\n",
    "    raw_ko = f.read().splitlines()\n",
    "\n",
    "path_to_file = os.getenv('HOME')+'/aiffel/s2s_translation/korean-english-park.train.en'\n",
    "\n",
    "with open(path_to_file, \"r\") as f:\n",
    "    raw_en = f.read().splitlines()\n",
    "    \n",
    "print(\"Data Size:\", len(raw_ko))\n",
    "print(\"Data Size:\", len(raw_en))\n",
    "\n",
    "print(\"Example:\")\n",
    "for sen_ko, sen_en in zip(raw_ko[0:100][::20], raw_en[0:100][::20]): \n",
    "    print(\">>\", sen_ko, sen_en)"
   ]
  },
  {
   "cell_type": "markdown",
   "id": "amino-louis",
   "metadata": {},
   "source": [
    "## Step 2. 데이터 정제\n",
    "\n",
    "> 1) ```set```데이터형이 **중복을 허용하지 않는다는 것을 활용**해 중복된 데이터를 제거하도록 한다. 데이터의 **병렬 쌍이 흐트러지지 않게 주의**하자. 중복을 제거한 데이터를 ```cleaned_corpus```에 저장한다.\n",
    ">\n",
    "> 2) 앞서 정의한 ```preprocessing()```함수는 한글에 대해 동작하지 않는다. **한글에 적용할 수 있는 정규식**을 추가하여 함수를 재정의하자.\n",
    ">\n",
    "> 3) 타겟 언어인 영문엔 ```<start>``` 토큰과 ```<end>``` 토큰을 추가하고 ```split()```함수로 토큰화한다. 한글 토큰화는 KoNLPy의 ```mecab```클래스를 사용한다.\n",
    "   \n",
    "    \n",
    "- 모든 데이터를 사용할 경우 학습에 굉장히 오랜 시간이 걸린다. \n",
    "- ```cleaned_corpus```로부터 **토큰의 길이가 40 이하인 데이터를 선별**하여 ```eng_corpus```와 ```kor_corpus```를 각각 구축하여라."
   ]
  },
  {
   "cell_type": "code",
   "execution_count": 5,
   "id": "accessory-floor",
   "metadata": {},
   "outputs": [
    {
     "name": "stdout",
     "output_type": "stream",
     "text": [
      "78968\n",
      ">> 영국에서 3번째로 규모가 큰 영화제인 레즈비언 앤 게이 영화제는 런던을 시작으로 영국에 다른 40여개 지역에서 열리며 매년 대략 25만명의 관객이 이 영화제에 몰려들고 있다. It is the third largest film festival in the UK, touring in almost 40 different UK locations after London, showing to an audience of approximately 250,000 people each year.\n",
      ">> 그러나 그가 지적한 대로 이 텐트는 시판용 제품이 아니며 3만유로(약 5700만원)나 하는 가격이 보통 캠핑을 즐기는 사람들의 구매 열의를 꺾는다. But as he points out, it is not a commercially available product, and the price tag of 30,000 euros usually dampens the enthusiasm of the average camper.\n",
      ">> 인도네시아와 다른 빈국들은 종종 자국에서 발견되는 바이러스 샘플을 이용해 제약 회사들이 결국 자신들이 살 수 없는 벡신을 생산할 수 있다는 우려를 나타냈다. Indonesia and other poor countries have often expressed concerns that some independent experts say are justified that samples from viruses in their country are used to make vaccines by drug companies that they then cannot afford to buy.\n",
      ">> 부시 대통령은 용종 제거수술을 받기 위해 대통령 권한을 딕 체니 부통령에게 2시간 5분 동안 넘겼었다. Nothing occurred during the 2 hours and 5 minutes of the transfer that required Cheney to take official action, aides said.\n",
      ">> 페데리코 롬바리 신부는 23일 “교황은 성전환자들에게 불쾌감을 주고 비난할 의도가 없었다”며 “교황이 말하고자 한 뜻은 신의 관점에서 인간은 남성이나 여성으로 태어나면 천주교 교리의 중심을 이루는 기본 개념을 부정하는 것이 혼란을 야기시킨다는 것이었다”고 밝혔다. \"The pope had no intention to offend or attack transgendered\" people, Father Federico Lombari said Tuesday. \"What the pope meant to say was that in God's eyes, a person is born either man or woman. And to deny this fundamental concept, central to Catholic teaching, is to create confusion.\n"
     ]
    }
   ],
   "source": [
    "pallel_corpus = list(set(zip(raw_ko,raw_en)))\n",
    "print(len(pallel_corpus))\n",
    "\n",
    "pallel_corpus = pallel_corpus[:30000]\n",
    "\n",
    "cleaned_corpus_ko = []\n",
    "cleaned_corpus_en =[]\n",
    "\n",
    "for i in range(len(pallel_corpus)):\n",
    "    cleaned_corpus_ko.append(pallel_corpus[i][0])\n",
    "    \n",
    "for i in range(len(pallel_corpus)):\n",
    "    cleaned_corpus_en.append(pallel_corpus[i][1])\n",
    "\n",
    "for sen_ko,sen_en in zip(cleaned_corpus_ko[:100:20],cleaned_corpus_en[:100:20]): \n",
    "    print(\">>\", sen_ko ,sen_en)    "
   ]
  },
  {
   "cell_type": "code",
   "execution_count": 6,
   "id": "realistic-slovakia",
   "metadata": {},
   "outputs": [],
   "source": [
    "from konlpy.tag import Mecab\n",
    "tokenizer = Mecab()\n",
    "\n",
    "def preprocess_sentence_ko(sentence, s_token=False, e_token=False):\n",
    "    sentence = sentence.lower().strip()\n",
    "\n",
    "    sentence = re.sub(r\"([?.!,])\", r\" \\1 \", sentence)\n",
    "    sentence = re.sub(r'[\" \"]+', \" \", sentence)\n",
    "    sentence = re.sub(r\"[^ㄱ-ㅎㅏ-ㅣ가-힣 a-z A-Z?.!,]+\", \" \", sentence)\n",
    "\n",
    "    sentence = sentence.strip()\n",
    "\n",
    "    sentence = tokenizer.morphs(sentence)\n",
    "    \n",
    "    return sentence\n",
    "\n",
    "def preprocess_sentence_en(sentence, s_token=False, e_token=False):\n",
    "    sentence = sentence.lower().strip()\n",
    "\n",
    "    sentence = re.sub(r\"([?.!,])\", r\" \\1 \", sentence)\n",
    "    sentence = re.sub(r'[\" \"]+', \" \", sentence)\n",
    "    sentence = re.sub(r\"[^ㄱ-ㅎㅏ-ㅣ가-힣 a-z A-Z?.!,]+\", \" \", sentence)\n",
    "\n",
    "    sentence = sentence.strip()\n",
    "\n",
    "    if s_token:\n",
    "        sentence = '<start> ' + sentence\n",
    "\n",
    "    if e_token:\n",
    "        sentence += ' <end>'\n",
    "    \n",
    "    sentence = sentence.split()\n",
    "    \n",
    "    return sentence"
   ]
  },
  {
   "cell_type": "code",
   "execution_count": 7,
   "id": "defensive-circular",
   "metadata": {},
   "outputs": [
    {
     "name": "stdout",
     "output_type": "stream",
     "text": [
      "Korean: ['한편', '윌슨', '부부', '의', '변호사', '인', '멜라니', '슬론', '은', '일', '항소', '할', '뜻', '을', '내비쳤', '다', '.']\n",
      "English: ['<start>', 'melanie', 'sloan', ',', 'the', 'wilsons', 'lawyer', ',', 'said', 'the', 'couple', 'plans', 'to', 'appeal', 'thursday', 's', 'ruling', '.', '<end>']\n"
     ]
    }
   ],
   "source": [
    "max_len = 40\n",
    "\n",
    "enc_corpus = []\n",
    "dec_corpus = []\n",
    "\n",
    "for sen_ko, sen_en in zip(cleaned_corpus_ko, cleaned_corpus_en):\n",
    "    if len(sen_ko) <= max_len:\n",
    "        enc_corpus.append(preprocess_sentence_ko(sen_ko))\n",
    "        dec_corpus.append(preprocess_sentence_en(sen_en, s_token=True, e_token=True))\n",
    "\n",
    "print(\"Korean:\", enc_corpus[99])  \n",
    "print(\"English:\", dec_corpus[99])  "
   ]
  },
  {
   "cell_type": "markdown",
   "id": "acceptable-binary",
   "metadata": {},
   "source": [
    "## Step 3. 데이터 토큰화\n",
    "\n",
    "- 앞서 정의한 ```tokenize()```함수를 사용해 데이터를 텐서로 변환하고 각각의 tokenizer를 얻어라.\n",
    "- 단어의 수는 실험을 통해 적당한 값을 맞춰주도록 한다. 다만, 최소 10,000 이상이어야 한다.\n",
    "- 난이도에 비해 데이터가 많지 않아 훈련 데이터와 검증 데이터를 따로 나누지는 않는다."
   ]
  },
  {
   "cell_type": "code",
   "execution_count": 8,
   "id": "cosmetic-lesbian",
   "metadata": {},
   "outputs": [],
   "source": [
    "def tokenize(corpus):\n",
    "    tokenizer = tf.keras.preprocessing.text.Tokenizer(filters='')\n",
    "    tokenizer.fit_on_texts(corpus)\n",
    "\n",
    "    tensor = tokenizer.texts_to_sequences(corpus)\n",
    "\n",
    "    tensor = tf.keras.preprocessing.sequence.pad_sequences(tensor, padding='post')\n",
    "\n",
    "    return tensor, tokenizer"
   ]
  },
  {
   "cell_type": "code",
   "execution_count": 9,
   "id": "fixed-secret",
   "metadata": {},
   "outputs": [
    {
     "name": "stdout",
     "output_type": "stream",
     "text": [
      "Korean Vocab Size: 10374\n",
      "English Vocab Size: 10417\n"
     ]
    }
   ],
   "source": [
    "# 토큰화하기\n",
    "enc_tensor, enc_tokenizer = tokenize(enc_corpus)\n",
    "dec_tensor, dec_tokenizer = tokenize(dec_corpus)\n",
    "\n",
    "enc_train = enc_tensor\n",
    "dec_train = dec_tensor\n",
    "\n",
    "print(\"Korean Vocab Size:\", len(enc_tokenizer.index_word))\n",
    "print(\"English Vocab Size:\", len(dec_tokenizer.index_word))"
   ]
  },
  {
   "cell_type": "code",
   "execution_count": 10,
   "id": "silver-spain",
   "metadata": {},
   "outputs": [
    {
     "name": "stdout",
     "output_type": "stream",
     "text": [
      "[  63    5  348   12 1516   11    3  494   17  705    6 1818    9    2\n",
      "    1    0    0    0    0    0    0    0    0    0]\n",
      "[   1 2579  590 3399  106    5   10   39   46   24  444    5   65   17\n",
      "  131    3    2    0    0    0    0    0    0    0    0    0    0    0\n",
      "    0    0    0    0    0    0    0    0    0    0    0    0    0    0\n",
      "    0    0    0    0    0    0    0    0    0    0    0    0    0    0\n",
      "    0    0    0    0    0    0    0    0    0    0    0    0    0    0\n",
      "    0]\n"
     ]
    }
   ],
   "source": [
    "print(enc_tensor[10])\n",
    "print(dec_tensor[10])"
   ]
  },
  {
   "cell_type": "markdown",
   "id": "returning-uganda",
   "metadata": {},
   "source": [
    "## Step 4. 모델 설계\n",
    "\n",
    "- 한국어를 영어로 잘 번역해 줄 멋진 **Attention 기반 Seq2seq 모델**을 설계해라.\n",
    "- 앞서 만든 모델에 Dropout모듈을 추가하면 성능이 더 좋아질 것이다.\n",
    "- ```Embedding Size```와 ```Hidden Size```는 실험을 통해 적당한 값을 맞춰 주도록 한다."
   ]
  },
  {
   "cell_type": "code",
   "execution_count": 11,
   "id": "generous-option",
   "metadata": {},
   "outputs": [],
   "source": [
    "class BahdanauAttention(tf.keras.layers.Layer):\n",
    "    def __init__(self, units):\n",
    "        super(BahdanauAttention, self).__init__()\n",
    "        self.w_dec = tf.keras.layers.Dense(units)\n",
    "        self.w_enc = tf.keras.layers.Dense(units)\n",
    "        self.w_com = tf.keras.layers.Dense(1)\n",
    "    \n",
    "    def call(self, h_enc, h_dec):\n",
    "        # h_enc shape: [batch x length x units]\n",
    "        # h_dec shape: [batch x units]\n",
    "\n",
    "        h_enc = self.w_enc(h_enc)\n",
    "        h_dec = tf.expand_dims(h_dec, 1)\n",
    "        h_dec = self.w_dec(h_dec)\n",
    "\n",
    "        score = self.w_com(tf.nn.tanh(h_dec + h_enc))\n",
    "        \n",
    "        attn = tf.nn.softmax(score, axis=1)\n",
    "\n",
    "        context_vec = attn * h_enc\n",
    "        context_vec = tf.reduce_sum(context_vec, axis=1)\n",
    "\n",
    "        return context_vec, attn"
   ]
  },
  {
   "cell_type": "code",
   "execution_count": 12,
   "id": "crucial-invention",
   "metadata": {},
   "outputs": [],
   "source": [
    "class Encoder(tf.keras.Model):\n",
    "    def __init__(self, vocab_size, embedding_dim, enc_units):\n",
    "        super(Encoder, self).__init__()\n",
    "\n",
    "        self.enc_units = enc_units\n",
    "        self.embedding = tf.keras.layers.Embedding(vocab_size, embedding_dim)\n",
    "        self.gru = tf.keras.layers.GRU(enc_units, return_sequences=True)\n",
    "\n",
    "    def call(self, x):\n",
    "        out = self.embedding(x)\n",
    "        out = self.gru(out)\n",
    "\n",
    "        return out"
   ]
  },
  {
   "cell_type": "code",
   "execution_count": 13,
   "id": "outstanding-difference",
   "metadata": {},
   "outputs": [],
   "source": [
    "class Decoder(tf.keras.Model):\n",
    "    def __init__(self, vocab_size, embedding_dim, dec_units):\n",
    "        super(Decoder, self).__init__()\n",
    "        self.dec_units = dec_units\n",
    "        self.embedding = tf.keras.layers.Embedding(vocab_size, embedding_dim)\n",
    "        self.gru = tf.keras.layers.GRU(dec_units,\n",
    "                                       return_sequences=True,\n",
    "                                       return_state=True)\n",
    "        self.fc = tf.keras.layers.Dense(vocab_size)\n",
    "\n",
    "        self.attention = BahdanauAttention(self.dec_units)\n",
    "\n",
    "    def call(self, x, h_dec, enc_out):\n",
    "        context_vec, attn = self.attention(enc_out, h_dec)\n",
    "\n",
    "        out = self.embedding(x)\n",
    "        out = tf.concat([tf.expand_dims(context_vec, 1), out], axis=-1)\n",
    "\n",
    "        out, h_dec = self.gru(out)\n",
    "        out = tf.reshape(out, (-1, out.shape[2]))\n",
    "        out = self.fc(out)\n",
    "\n",
    "        return out, h_dec, attn"
   ]
  },
  {
   "cell_type": "code",
   "execution_count": 22,
   "id": "southeast-glasgow",
   "metadata": {},
   "outputs": [
    {
     "name": "stdout",
     "output_type": "stream",
     "text": [
      "Encoder Output: (64, 40, 512)\n",
      "Decoder Output: (64, 10418)\n",
      "Decoder Hidden State: (64, 512)\n",
      "Attention: (64, 40, 1)\n"
     ]
    }
   ],
   "source": [
    "BATCH_SIZE     = 64\n",
    "SRC_VOCAB_SIZE = len(enc_tokenizer.index_word) + 1\n",
    "TGT_VOCAB_SIZE = len(dec_tokenizer.index_word) + 1\n",
    "\n",
    "units         = 512\n",
    "embedding_dim = 256\n",
    "\n",
    "encoder = Encoder(SRC_VOCAB_SIZE, embedding_dim, units)\n",
    "decoder = Decoder(TGT_VOCAB_SIZE, embedding_dim, units)\n",
    "\n",
    "# sample input\n",
    "sequence_len = 40\n",
    "\n",
    "sample_enc = tf.random.uniform((BATCH_SIZE, sequence_len))\n",
    "sample_output = encoder(sample_enc)\n",
    "\n",
    "print ('Encoder Output:', sample_output.shape)\n",
    "\n",
    "sample_state = tf.random.uniform((BATCH_SIZE, units))\n",
    "\n",
    "sample_logits, h_dec, attn = decoder(tf.random.uniform((BATCH_SIZE, 1)),\n",
    "                                     sample_state, sample_output)\n",
    "\n",
    "print ('Decoder Output:', sample_logits.shape)\n",
    "print ('Decoder Hidden State:', h_dec.shape)\n",
    "print ('Attention:', attn.shape)"
   ]
  },
  {
   "cell_type": "markdown",
   "id": "thick-boutique",
   "metadata": {},
   "source": [
    "## Step 5. 훈련하기\n",
    "\n",
    "- 훈련엔 위에서 사용한 코드를 그대로 사용하되, ```eval_step()```부분이 없음에 유의하자.\n",
    "- 매 스텝 아래의 예문에 대한 번역을 생성하여 **본인이 생각하기에 가장 멋지게 번역한 Case를 제출**하여라\n",
    "- Attention Map을 시각화해보는 것도 권고 사항이다.\n",
    "\n",
    "    \n",
    "*참고: 데이터의 난이도가 높은 편이므로 생각만큼 결과가 잘 안나올 수 있다.*\n",
    "    \n",
    "\n",
    "```c\n",
    "## 예문 ##\n",
    "K1) 오바마는 대통령이다.\n",
    "K2) 시민들은 도시 속에 산다.\n",
    "K3) 커피는 필요 없다.\n",
    "K4) 일곱 명의 사망자가 발생했다.\n",
    "\n",
    "## 제출 ##\n",
    "E1) obama is the president . <end>\n",
    "E2) people are victims of the city . <end>\n",
    "E2) the price is not enough . <end>\n",
    "E2) seven people have died . <end>\n",
    "```"
   ]
  },
  {
   "cell_type": "code",
   "execution_count": 23,
   "id": "meaningful-photographer",
   "metadata": {},
   "outputs": [],
   "source": [
    "# Optimizer와 Loss 구현하기\n",
    "optimizer = tf.keras.optimizers.Adam()\n",
    "loss_object = tf.keras.losses.SparseCategoricalCrossentropy(\n",
    "    from_logits=True, reduction='none')\n",
    "\n",
    "def loss_function(real, pred):\n",
    "    mask = tf.math.logical_not(tf.math.equal(real, 0))\n",
    "    # tf.math.logical_not(x)는 NOT x의 원소별 참값(True value)을 반환\n",
    "    # tf.math.equal는 (x == y)의 원소별 참값(True value)을 반환\n",
    "    # --> real이 0인 원소별 참값을 반환 한 것에 NOT를 붙여 원소별로 논리값을 뒤집음\n",
    "    loss = loss_object(real, pred)\n",
    "    \n",
    "    mask = tf.cast(mask, dtype=loss.dtype) # 텐서를 새로운 형태로 캐스팅\n",
    "    loss *= mask # loss = loss*mask\n",
    "    \n",
    "    return tf.reduce_mean(loss)"
   ]
  },
  {
   "cell_type": "code",
   "execution_count": 24,
   "id": "rubber-classification",
   "metadata": {},
   "outputs": [],
   "source": [
    "# train_step 구현하기\n",
    "@tf.function\n",
    "def train_step(src, tgt, encoder, decoder, optimizer, dec_tok):\n",
    "    bsz = src.shape[0]\n",
    "    loss = 0\n",
    "\n",
    "    with tf.GradientTape() as tape:\n",
    "        enc_out = encoder(src)\n",
    "        h_dec = enc_out[:, -1]\n",
    "        \n",
    "        dec_src = tf.expand_dims([dec_tok.word_index['<start>']] * bsz, 1)\n",
    "\n",
    "        for t in range(1, tgt.shape[1]):\n",
    "            pred, h_dec, _ = decoder(dec_src, h_dec, enc_out)\n",
    "\n",
    "            loss += loss_function(tgt[:, t], pred)\n",
    "            dec_src = tf.expand_dims(tgt[:, t], 1)\n",
    "        \n",
    "    batch_loss = (loss / int(tgt.shape[1]))\n",
    "\n",
    "    variables = encoder.trainable_variables + decoder.trainable_variables\n",
    "    gradients = tape.gradient(loss, variables)\n",
    "    optimizer.apply_gradients(zip(gradients, variables))\n",
    "    \n",
    "    return batch_loss"
   ]
  },
  {
   "cell_type": "code",
   "execution_count": 44,
   "id": "champion-european",
   "metadata": {},
   "outputs": [
    {
     "name": "stderr",
     "output_type": "stream",
     "text": [
      "Epoch  1: 100%|██████████| 96/96 [00:20<00:00,  4.60it/s, Loss 1.3967]\n",
      "Epoch  2: 100%|██████████| 96/96 [00:21<00:00,  4.55it/s, Loss 1.3961]\n",
      "Epoch  3: 100%|██████████| 96/96 [00:21<00:00,  4.51it/s, Loss 1.3961]\n",
      "Epoch  4: 100%|██████████| 96/96 [00:22<00:00,  4.35it/s, Loss 1.3953]\n",
      "Epoch  5: 100%|██████████| 96/96 [00:22<00:00,  4.32it/s, Loss 1.3960]\n",
      "Epoch  6: 100%|██████████| 96/96 [00:22<00:00,  4.32it/s, Loss 1.3963]\n",
      "Epoch  7: 100%|██████████| 96/96 [00:22<00:00,  4.32it/s, Loss 1.3936]\n",
      "Epoch  8: 100%|██████████| 96/96 [00:22<00:00,  4.31it/s, Loss 1.3955]\n",
      "Epoch  9: 100%|██████████| 96/96 [00:22<00:00,  4.30it/s, Loss 1.3944]\n",
      "Epoch 10: 100%|██████████| 96/96 [00:22<00:00,  4.29it/s, Loss 1.3971]\n",
      "Epoch 11: 100%|██████████| 96/96 [00:22<00:00,  4.29it/s, Loss 1.3964]\n",
      "Epoch 12: 100%|██████████| 96/96 [00:22<00:00,  4.28it/s, Loss 1.3955]\n",
      "Epoch 13: 100%|██████████| 96/96 [00:22<00:00,  4.28it/s, Loss 1.3962]\n",
      "Epoch 14: 100%|██████████| 96/96 [00:22<00:00,  4.29it/s, Loss 1.3968]\n",
      "Epoch 15: 100%|██████████| 96/96 [00:22<00:00,  4.30it/s, Loss 1.3953]\n",
      "Epoch 16: 100%|██████████| 96/96 [00:22<00:00,  4.28it/s, Loss 1.3944]\n",
      "Epoch 17: 100%|██████████| 96/96 [00:22<00:00,  4.30it/s, Loss 1.3964]\n",
      "Epoch 18: 100%|██████████| 96/96 [00:22<00:00,  4.29it/s, Loss 1.3951]\n",
      "Epoch 19: 100%|██████████| 96/96 [00:22<00:00,  4.29it/s, Loss 1.3948]\n",
      "Epoch 20: 100%|██████████| 96/96 [00:22<00:00,  4.29it/s, Loss 1.3950]\n"
     ]
    }
   ],
   "source": [
    "# 훈련하기\n",
    "from tqdm import tqdm\n",
    "import random \n",
    "\n",
    "EPOCHS = 20\n",
    "\n",
    "for epoch in range(EPOCHS):\n",
    "    total_loss = 0\n",
    "\n",
    "    idx_list = list(range(0, enc_train.shape[0], BATCH_SIZE))\n",
    "    random.shuffle(idx_list)\n",
    "    t = tqdm(idx_list)\n",
    "\n",
    "    for (batch, idx) in enumerate(t):\n",
    "        batch_loss = train_step(enc_train[idx:idx+BATCH_SIZE],\n",
    "                                dec_train[idx:idx+BATCH_SIZE],\n",
    "                                encoder,\n",
    "                                decoder,\n",
    "                                optimizer,\n",
    "                                dec_tokenizer)\n",
    "\n",
    "        total_loss += batch_loss\n",
    "\n",
    "        t.set_description_str('Epoch %2d' % (epoch + 1))\n",
    "        t.set_postfix_str('Loss %.4f' % (total_loss.numpy() / (batch + 1)))"
   ]
  },
  {
   "cell_type": "code",
   "execution_count": 61,
   "id": "outside-consequence",
   "metadata": {},
   "outputs": [],
   "source": [
    "# 평가하기\n",
    "def evaluate(sentence, encoder, decoder):\n",
    "    attention = np.zeros((dec_train.shape[-1], enc_train.shape[-1]))\n",
    "    \n",
    "    sentence = preprocess_sentence_ko(sentence)\n",
    "    inputs = enc_tokenizer.texts_to_sequences([str(sentence).split()])\n",
    "    inputs = tf.keras.preprocessing.sequence.pad_sequences(inputs,\n",
    "                                                           maxlen=enc_train.shape[-1],\n",
    "                                                           padding='post')\n",
    "    \n",
    "    result = ''\n",
    "\n",
    "    enc_out = encoder(inputs)\n",
    "\n",
    "    dec_hidden = enc_out[:, -1]\n",
    "    dec_input = tf.expand_dims([dec_tokenizer.word_index['<start>']], 0)\n",
    "\n",
    "    for t in range(dec_train.shape[-1]):\n",
    "        predictions, dec_hidden, attention_weights = decoder(dec_input,\n",
    "                                                             dec_hidden,\n",
    "                                                             enc_out)\n",
    "\n",
    "        attention_weights = tf.reshape(attention_weights, (-1, ))\n",
    "        attention[t] = attention_weights.numpy()\n",
    "\n",
    "        predicted_id = \\\n",
    "        tf.argmax(tf.math.softmax(predictions, axis=-1)[0]).numpy()\n",
    "\n",
    "        result += dec_tokenizer.index_word[predicted_id] + ' '\n",
    "\n",
    "        if dec_tokenizer.index_word[predicted_id] == '<end>':\n",
    "            return result, sentence, attention\n",
    "\n",
    "        dec_input = tf.expand_dims([predicted_id], 0)\n",
    "\n",
    "    return result, sentence, attention\n",
    "\n",
    "\n",
    "def plot_attention(attention, sentence, predicted_sentence):\n",
    "    fig = plt.figure(figsize=(10,10))\n",
    "    ax = fig.add_subplot(1, 1, 1)\n",
    "    ax.matshow(attention, cmap='viridis')\n",
    "\n",
    "    fontdict = {'fontsize': 14}\n",
    "\n",
    "    ax.set_xticklabels([''] + sentence, fontdict=fontdict, rotation=90)\n",
    "    ax.set_yticklabels([''] + predicted_sentence, fontdict=fontdict)\n",
    "\n",
    "    ax.xaxis.set_major_locator(ticker.MultipleLocator(1))\n",
    "    ax.yaxis.set_major_locator(ticker.MultipleLocator(1))\n",
    "\n",
    "    plt.show()\n",
    "\n",
    "\n",
    "def translate(sentence, encoder, decoder):\n",
    "    result, sentence, attention = evaluate(sentence, encoder, decoder)\n",
    "\n",
    "    print('Input: %s' % (sentence))\n",
    "    print('Predicted translation: {}'.format(result))\n",
    "    \n",
    "    attention = attention[:len(str(result).split()), :len(str(sentence).split())]\n",
    "    plot_attention(attention, str(sentence).split(), str(result).split(' '))"
   ]
  },
  {
   "cell_type": "code",
   "execution_count": 62,
   "id": "limited-being",
   "metadata": {},
   "outputs": [
    {
     "name": "stdout",
     "output_type": "stream",
     "text": [
      "Input: ['오바마', '는', '대통령', '이', '다', '.']\n",
      "Predicted translation: <end> \n"
     ]
    },
    {
     "name": "stderr",
     "output_type": "stream",
     "text": [
      "/home/aiffel-dj20/anaconda3/envs/aiffel/lib/python3.7/site-packages/ipykernel_launcher.py:46: UserWarning: FixedFormatter should only be used together with FixedLocator\n",
      "/home/aiffel-dj20/anaconda3/envs/aiffel/lib/python3.7/site-packages/ipykernel_launcher.py:47: UserWarning: FixedFormatter should only be used together with FixedLocator\n"
     ]
    },
    {
     "data": {
      "image/png": "[encoded data removed]",
      "text/plain": [
       "<Figure size 720x720 with 1 Axes>"
      ]
     },
     "metadata": {
      "image/png": {
       "height": 174,
       "width": 616
      },
      "needs_background": "light"
     },
     "output_type": "display_data"
    }
   ],
   "source": [
    "translate(\"오바마는 대통령이다.\", encoder, decoder)"
   ]
  },
  {
   "cell_type": "code",
   "execution_count": 63,
   "id": "attached-hopkins",
   "metadata": {},
   "outputs": [
    {
     "name": "stdout",
     "output_type": "stream",
     "text": [
      "Input: ['시민', '들', '은', '도시', '속', '에', '산다', '.']\n",
      "Predicted translation: <end> \n"
     ]
    },
    {
     "name": "stderr",
     "output_type": "stream",
     "text": [
      "/home/aiffel-dj20/anaconda3/envs/aiffel/lib/python3.7/site-packages/ipykernel_launcher.py:46: UserWarning: FixedFormatter should only be used together with FixedLocator\n",
      "/home/aiffel-dj20/anaconda3/envs/aiffel/lib/python3.7/site-packages/ipykernel_launcher.py:47: UserWarning: FixedFormatter should only be used together with FixedLocator\n"
     ]
    },
    {
     "data": {
      "image/png": "[encoded data removed]",
      "text/plain": [
       "<Figure size 720x720 with 1 Axes>"
      ]
     },
     "metadata": {
      "image/png": {
       "height": 138,
       "width": 616
      },
      "needs_background": "light"
     },
     "output_type": "display_data"
    }
   ],
   "source": [
    "translate(\"시민들은 도시 속에 산다.\", encoder, decoder)"
   ]
  },
  {
   "cell_type": "code",
   "execution_count": 64,
   "id": "creative-restaurant",
   "metadata": {},
   "outputs": [
    {
     "name": "stdout",
     "output_type": "stream",
     "text": [
      "Input: ['커피', '는', '필요', '없', '다', '.']\n",
      "Predicted translation: <end> \n"
     ]
    },
    {
     "name": "stderr",
     "output_type": "stream",
     "text": [
      "/home/aiffel-dj20/anaconda3/envs/aiffel/lib/python3.7/site-packages/ipykernel_launcher.py:46: UserWarning: FixedFormatter should only be used together with FixedLocator\n",
      "/home/aiffel-dj20/anaconda3/envs/aiffel/lib/python3.7/site-packages/ipykernel_launcher.py:47: UserWarning: FixedFormatter should only be used together with FixedLocator\n"
     ]
    },
    {
     "data": {
      "image/png": "[encoded data removed]",
      "text/plain": [
       "<Figure size 720x720 with 1 Axes>"
      ]
     },
     "metadata": {
      "image/png": {
       "height": 161,
       "width": 616
      },
      "needs_background": "light"
     },
     "output_type": "display_data"
    }
   ],
   "source": [
    "translate(\"커피는 필요 없다.\", encoder, decoder)"
   ]
  },
  {
   "cell_type": "code",
   "execution_count": 65,
   "id": "compressed-category",
   "metadata": {},
   "outputs": [
    {
     "name": "stdout",
     "output_type": "stream",
     "text": [
      "Input: ['일곱', '명', '의', '사망자', '가', '발생', '했', '다', '.']\n",
      "Predicted translation: <end> \n"
     ]
    },
    {
     "name": "stderr",
     "output_type": "stream",
     "text": [
      "/home/aiffel-dj20/anaconda3/envs/aiffel/lib/python3.7/site-packages/ipykernel_launcher.py:46: UserWarning: FixedFormatter should only be used together with FixedLocator\n",
      "/home/aiffel-dj20/anaconda3/envs/aiffel/lib/python3.7/site-packages/ipykernel_launcher.py:47: UserWarning: FixedFormatter should only be used together with FixedLocator\n"
     ]
    },
    {
     "data": {
      "image/png": "[encoded data removed]",
      "text/plain": [
       "<Figure size 720x720 with 1 Axes>"
      ]
     },
     "metadata": {
      "image/png": {
       "height": 136,
       "width": 616
      },
      "needs_background": "light"
     },
     "output_type": "display_data"
    }
   ],
   "source": [
    "translate(\"일곱 명의 사망자가 발생했다.\", encoder, decoder)"
   ]
  },
  {
   "cell_type": "markdown",
   "id": "inside-consequence",
   "metadata": {},
   "source": [
    "****\n",
    "# 루브릭 평가\n",
    "\n",
    "|평가문항|상세기준|\n",
    "|:------|:-----|\n",
    "|1. 번역기 모델 학습에 필요한 텍스트 데이터 전처리가 한국어 포함하여 잘 이루어졌다.|구두점, 대소문자, 띄어쓰기, 한글 형태소분석 등 번역기 모델에 요구되는 전처리가 정상적으로 진행되었다.|\n",
    "|2. Attentional Seq2seq 모델이 정상적으로 구동된다.|seq2seq 모델 훈련 과정에서 training loss가 안정적으로 떨어지면서 학습이 진행됨이 확인되었다.|\n",
    "|3. 테스트 결과 의미가 통하는 수준의 번역문이 생성되었다.|테스트용 디코더 모델이 정상적으로 만들어져서, 정답과 어느 정도 유사한 영어 번역이 진행됨을 확인하였다.|"
   ]
  },
  {
   "cell_type": "markdown",
   "id": "union-armenia",
   "metadata": {},
   "source": [
    "1. 전처리는 정상적으로 처리했다고 생각한다.\n",
    "\n",
    "2. 모델이 돌아가기는 했다. 하지만 loss가 안정적으로 떨어지는지는 그래프를 그리지 않아 확인해보지 못했다.\n",
    "\n",
    "3. 미치고 팔짝 뛸 노릇이다. 분명 첫 시도에는 이상하지만 영어 문장이 나왔는데, 이제는 아예 영어 문장이 나오지 않는다. 아까랑 달라진 점이 없는데 왜 이러는지 정말 환장하겠다. 모델도 CUDA 에러랑 OOM 에러 때문에 안되다가 간신히 되게 돌려놨는데! 영어가 안나오다니! 머리 아프다... "
   ]
  },
  {
   "cell_type": "markdown",
   "id": "marked-arbitration",
   "metadata": {},
   "source": [
    "# 회고"
   ]
  },
  {
   "cell_type": "markdown",
   "id": "worth-paraguay",
   "metadata": {},
   "source": [
    "정말 재밌는 프로젝트겠다하고 임했는데, 끝에 다다르니 허파가 뒤집어질 것 같다. 이걸 끝내고 한국어-힌디어 번역기를 만들어보면 좋겠다는 생각을 했었는데, 이미 그 생각은 기억의 저편으로 사라진 지 오래이다.\n",
    "\n",
    "\n",
    "도대체 내가 무슨 잘못을 했길래 있었던 영어 문장이 없어진 걸까? 있었는데 없었습니다라는 말이 꼭 맞다. 머리가 터질 것 같아서 이대로 내려고 한다. 퍼실님께서 보시다가 문제점이 보이면 알려주시면 좋겠습니다..."
   ]
  },
  {
   "cell_type": "code",
   "execution_count": null,
   "id": "environmental-international",
   "metadata": {},
   "outputs": [],
   "source": []
  }
 ],
 "metadata": {
  "kernelspec": {
   "display_name": "aiffel",
   "language": "python",
   "name": "aiffel"
  }
 },
 "nbformat": 4,
 "nbformat_minor": 5
}
