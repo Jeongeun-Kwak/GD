{
 "cells": [
  {
   "cell_type": "markdown",
   "id": "awful-invite",
   "metadata": {},
   "source": [
    "# 프로젝트: 한국어 QA 모델 만들기\n",
    "\n",
    "- 아래 데이터셋은 bAbI 데이터셋을 필자가 한국어로 변환한 한국어 버전의 bAbI 데이터셋이다.\n",
    "- 데이터셋에 대한 소개는 다음과 같다.\n",
    "> 1. 형태는 아래와 같이영어 데이터셋과 동일한 형태를 가진다.\n",
    "> ```c\n",
    "1 은경이는 복도로 가버렸습니다.\n",
    "2 필웅이는 화장실로 뛰어갔습니다.\n",
    "3 은경이는 어디야?     복도  1\n",
    "4 수종이는 화장실로 복귀했습니다.\n",
    "5 은경이는 침실로 갔습니다.\n",
    "6 필웅이는 어디야?     화장실 2\n",
    "7 은경이는 복도로 이동했습니다.\n",
    "8 경임이는 부엌으로 뛰어갔습니다.\n",
    "9 경임이는 어디야?     부엌  8\n",
    "10 경임이는 복도로 가버렸습니다.\n",
    "11 은경이는 정원으로 이동했습니다.\n",
    "12 경임이는 어디야?     복도  10\n",
    "13 경임이는 화장실로 복귀했습니다.\n",
    "14 경임이는 부엌으로 갔습니다.\n",
    "15 경임이는 어디야?     부엌  14\n",
    "> ```\n",
    "\n",
    "\n",
    "- 이번 플로젝트에서는 위 한국어 버전의 데이터셋에 대해서 동장하는 QA 모델을 만들어보자.\n",
    "> (주의!) 기존 케라스 공식 문서의 babi_rnn, babi_memn 구현은 파이썬 3.6을 기준으로 하고 있으며, 파이썬 3.7에서는 정상작동 하지 않을 수 있으니 실습 시에 참고바랍니다.\n",
    "\n",
    "\n",
    "## Step 1. 데이터 다운로드\n",
    "\n",
    "- 다운로드 받아서 압축 해제 후 사용한다.\n",
    "- [e-28-korean.zip](https://drive.google.com/file/d/1GWwjTvSolEKGVuXxPsXJeVH8WCvaS-In/view?usp=sharing)"
   ]
  },
  {
   "cell_type": "code",
   "execution_count": 50,
   "id": "atlantic-polish",
   "metadata": {},
   "outputs": [],
   "source": [
    "# 필요한 도구들 import\n",
    "from tensorflow.keras.utils import get_file\n",
    "from tensorflow.keras.preprocessing.sequence import pad_sequences\n",
    "from tensorflow.keras.utils import to_categorical\n",
    "import numpy as np\n",
    "import tarfile\n",
    "from nltk import FreqDist\n",
    "from functools import reduce\n",
    "import os\n",
    "import re"
   ]
  },
  {
   "cell_type": "code",
   "execution_count": 51,
   "id": "varying-wiring",
   "metadata": {},
   "outputs": [],
   "source": [
    "# 환경에 맞게 경로 적절히 수정\n",
    "home_dir = os.getenv('HOME')+'/aiffel/babi_memory_net'\n",
    "DATA_DIR = home_dir + '/e-28-korean'\n",
    "\n",
    "# 훈련 데이터와 시험 데이터의 경로 지정\n",
    "TRAIN_FILE = os.path.join(DATA_DIR, \"qa1_single-supporting-fact_train_kor.txt\")\n",
    "TEST_FILE = os.path.join(DATA_DIR, \"qa1_single-supporting-fact_test_kor.txt\")"
   ]
  },
  {
   "cell_type": "code",
   "execution_count": 52,
   "id": "rolled-validity",
   "metadata": {},
   "outputs": [
    {
     "name": "stdout",
     "output_type": "stream",
     "text": [
      "93\n",
      "92\n"
     ]
    }
   ],
   "source": [
    "print(len(TRAIN_FILE))\n",
    "print(len(TEST_FILE))"
   ]
  },
  {
   "cell_type": "markdown",
   "id": "according-colon",
   "metadata": {},
   "source": [
    "- 훈련 데이터에서 20개의 문장을 출력해보자."
   ]
  },
  {
   "cell_type": "code",
   "execution_count": 53,
   "id": "defined-compensation",
   "metadata": {},
   "outputs": [
    {
     "name": "stdout",
     "output_type": "stream",
     "text": [
      "1 필웅이는 화장실로 갔습니다.\n",
      "2 은경이는 복도로 이동했습니다.\n",
      "3 필웅이는 어디야? \t화장실\t1\n",
      "4 수종이는 복도로 복귀했습니다.\n",
      "5 경임이는 정원으로 갔습니다.\n",
      "6 수종이는 어디야? \t복도\t4\n",
      "7 은경이는 사무실로 갔습니다.\n",
      "8 경임이는 화장실로 뛰어갔습니다.\n",
      "9 수종이는 어디야? \t복도\t4\n",
      "10 필웅이는 복도로 갔습니다.\n",
      "11 수종이는 사무실로 가버렸습니다.\n",
      "12 수종이는 어디야? \t사무실\t11\n",
      "13 은경이는 정원으로 복귀했습니다.\n",
      "14 은경이는 침실로 갔습니다.\n",
      "15 경임이는 어디야? \t화장실\t8\n",
      "1 경임이는 사무실로 가버렸습니다.\n",
      "2 경임이는 화장실로 이동했습니다.\n",
      "3 경임이는 어디야? \t화장실\t2\n",
      "4 필웅이는 침실로 이동했습니다.\n",
      "5 수종이는 복도로 갔습니다.\n"
     ]
    }
   ],
   "source": [
    "i = 0\n",
    "lines = open(TRAIN_FILE , \"rb\")\n",
    "for line in lines:\n",
    "    line = line.decode(\"utf-8\").strip()\n",
    "    # lno, text = line.split(\" \", 1) # ID와 TEXT 분리\n",
    "    i = i + 1\n",
    "    print(line)\n",
    "    if i == 20:\n",
    "        break"
   ]
  },
  {
   "cell_type": "markdown",
   "id": "given-diana",
   "metadata": {},
   "source": [
    "# Step 2. 토크나이저 변경하기 (매우 중요!!!)\n",
    "\n",
    "- 영어권 언어는 띄어쓰기만해도 단어들이 잘 분리되지만, 한국어는 그렇지 않다고 앞에서 몇 차례 언급했다.\n",
    "- 한국어 데이터를 사용하여 모델을 구현하는 것만큼 이번에는 형태소 분석기를 사용해서 단어 토큰화를 해보자.\n",
    "\n",
    "\n",
    "- 그런데 형태소 분석기를 사용할 때, 이런 상황에 봉착한다면 어떻게 해야할까?\n",
    "```\n",
    "형태소 분석 입력 : '은경이는 사무실로 갔습니다.'\n",
    "형태소 분석 결과 : ['은', '경이', '는', '사무실', '로', '갔습니다', '.']\n",
    "```\n",
    "\n",
    "\n",
    "- 사실 위 문장에서 '은경이'는 사람 이름이므로 제대로 된 결과를 얻기 위해서는 '은', '경이'와 같이 글자가 분리되는 것이 아니라 '은경이' 또는 최소한 '은경'이라는 단어 토큰을 얻어야만 한다.\n",
    "\n",
    "\n",
    "- 이런 경우에는 형태소 분석기에 사용자 사전을 추가해줄 수 있다.\n",
    "- '은경이'는 하나의 단어이기 때문에 분리하지말라고 형태소 분석기에 알려주는 것이다.\n",
    "\n",
    "\n",
    "- 사용자 사전을 추가하는 방법은 형태소 분석기마다 다소 다른데, 생각보다 복잡한 경우도 많다.\n",
    "- 이번 실습에서는 Customized Konlpy라는 사용자 사전 추가가 매우 쉬운 패키지를 사용하자.\n",
    "\n",
    "\n",
    "## Customized Konlpy 설치 방법\n",
    "\n",
    "- 설치 방법과 사용 방법에 대한 자세한 설명은 아래의 링크를 참고하라.\n",
    "- [Customized Konlpy 사용하기](https://inspiringpeople.github.io/data%20analysis/ckonlpy/)\n",
    "\n",
    "\n",
    "- 가령, 트위터라는 형태소 분석기를 사용한다고 했을 때, '은경이'라는 단어를 사용자 사전에 추가하고 나서 문장을 형태소 분석하려면 어떻게 해야 할까?"
   ]
  },
  {
   "cell_type": "code",
   "execution_count": 54,
   "id": "formal-ladder",
   "metadata": {},
   "outputs": [
    {
     "name": "stderr",
     "output_type": "stream",
     "text": [
      "/home/aiffel-dj20/anaconda3/envs/aiffel/lib/python3.7/site-packages/konlpy/tag/_okt.py:16: UserWarning: \"Twitter\" has changed to \"Okt\" since KoNLPy v0.4.5.\n",
      "  warn('\"Twitter\" has changed to \"Okt\" since KoNLPy v0.4.5.')\n"
     ]
    },
    {
     "data": {
      "text/plain": [
       "['은경이', '는', '사무실', '로', '갔습니다', '.']"
      ]
     },
     "execution_count": 54,
     "metadata": {},
     "output_type": "execute_result"
    }
   ],
   "source": [
    "# 예시 코드\n",
    "from ckonlpy.tag import Twitter\n",
    "twitter = Twitter()\n",
    "twitter.add_dictionary('은경이', 'Noun')\n",
    "twitter.morphs('은경이는 사무실로 갔습니다.')"
   ]
  },
  {
   "cell_type": "markdown",
   "id": "chemical-guitar",
   "metadata": {},
   "source": [
    "- 모든 문장의 주어 부분을 자른 다음에 리스트에 넣고, set()을 사용하면 주어에 어떤 이름이 들어갔는지 볼 수 있지 않을까?"
   ]
  },
  {
   "cell_type": "code",
   "execution_count": 55,
   "id": "ranging-satin",
   "metadata": {},
   "outputs": [],
   "source": [
    "subjects = []\n",
    "temp = []\n",
    "\n",
    "lines = open(TRAIN_FILE , \"rb\")\n",
    "for line in lines:\n",
    "    line = line.decode(\"utf-8\").strip()\n",
    "    lno, text = line.split(\" \", 1) # ID와 TEXT 분리\n",
    "    temp = text[0:3]\n",
    "    subjects.append(temp)    "
   ]
  },
  {
   "cell_type": "code",
   "execution_count": 56,
   "id": "brazilian-labor",
   "metadata": {},
   "outputs": [
    {
     "data": {
      "text/plain": [
       "{'경임이', '수종이', '은경이', '필웅이'}"
      ]
     },
     "execution_count": 56,
     "metadata": {},
     "output_type": "execute_result"
    }
   ],
   "source": [
    "set(subjects)"
   ]
  },
  {
   "cell_type": "code",
   "execution_count": 57,
   "id": "unlikely-fellowship",
   "metadata": {},
   "outputs": [
    {
     "name": "stdout",
     "output_type": "stream",
     "text": [
      "['경임이', '는', '사무실', '로', '가버렸습니다', '.']\n",
      "['수종이', '는', '복도', '로', '갔습니다', '.']\n",
      "['은경이', '는', '사무실', '로', '갔습니다', '.']\n",
      "['필웅이', '는', '어디', '야', '?']\n"
     ]
    }
   ],
   "source": [
    "twitter.add_dictionary('경임이', 'Noun')\n",
    "print(twitter.morphs('경임이는 사무실로 가버렸습니다.'))\n",
    "\n",
    "twitter.add_dictionary('수종이', 'Noun')\n",
    "print(twitter.morphs('수종이는 복도로 갔습니다.'))\n",
    "\n",
    "twitter.add_dictionary('은경이', 'Noun')\n",
    "print(twitter.morphs('은경이는 사무실로 갔습니다.'))\n",
    "\n",
    "twitter.add_dictionary('필웅이', 'Noun')\n",
    "print(twitter.morphs('필웅이는 어디야?'))"
   ]
  },
  {
   "cell_type": "code",
   "execution_count": 58,
   "id": "forward-monitor",
   "metadata": {},
   "outputs": [],
   "source": [
    "def read_data(dir):\n",
    "    stories, questions, answers = [], [], [] # 각각 스토리, 질문, 답변을 저장할 예정\n",
    "    story_temp = [] # 현재 시점의 스토리 임시 저장\n",
    "    lines = open(dir, \"rb\")\n",
    "\n",
    "    for line in lines:\n",
    "        line = line.decode(\"utf-8\") # b' 제거\n",
    "        line = line.strip() # '\\n' 제거\n",
    "        idx, text = line.split(\" \", 1) # 맨 앞에 있는 id number 분리\n",
    "        # 여기까지는 모든 줄에 적용되는 전처리\n",
    "\n",
    "        if int(idx) == 1:\n",
    "            story_temp = []\n",
    "        \n",
    "        if \"\\t\" in text: # 현재 읽는 줄이 질문 (tab) 답변 (tab)인 경우\n",
    "            question, answer, _ = text.split(\"\\t\") # 질문과 답변을 각각 저장\n",
    "            stories.append([x for x in story_temp if x]) # 지금까지의 누적 스토리를 스토리에 저장\n",
    "            questions.append(question)\n",
    "            answers.append(answer)\n",
    "\n",
    "        else: # 현재 읽는 줄이 스토리인 경우\n",
    "            story_temp.append(text) # 임시 저장\n",
    "\n",
    "    lines.close()\n",
    "    return stories, questions, answers"
   ]
  },
  {
   "cell_type": "code",
   "execution_count": 59,
   "id": "sexual-outreach",
   "metadata": {},
   "outputs": [],
   "source": [
    "train_data = read_data(TRAIN_FILE)\n",
    "test_data = read_data(TEST_FILE)"
   ]
  },
  {
   "cell_type": "code",
   "execution_count": 60,
   "id": "secure-buffer",
   "metadata": {},
   "outputs": [],
   "source": [
    "train_stories, train_questions, train_answers = read_data(TRAIN_FILE)\n",
    "test_stories, test_questions, test_answers = read_data(TEST_FILE)"
   ]
  },
  {
   "cell_type": "code",
   "execution_count": 61,
   "id": "dietary-captain",
   "metadata": {},
   "outputs": [
    {
     "name": "stdout",
     "output_type": "stream",
     "text": [
      "train 스토리 개수: 10000\n",
      "train 질문 개수: 10000\n",
      "train 답변 개수: 10000\n",
      "test 스토리 개수: 1000\n",
      "test 질문 개수: 1000\n",
      "test 답변 개수: 1000\n"
     ]
    }
   ],
   "source": [
    "print(\"train 스토리 개수:\", len(train_stories))\n",
    "print(\"train 질문 개수:\", len(train_questions))\n",
    "print(\"train 답변 개수:\", len(train_answers))\n",
    "print(\"test 스토리 개수:\", len(test_stories))\n",
    "print(\"test 질문 개수:\", len(test_questions))\n",
    "print(\"test 답변 개수:\", len(test_answers))"
   ]
  },
  {
   "cell_type": "code",
   "execution_count": 62,
   "id": "working-iraqi",
   "metadata": {},
   "outputs": [
    {
     "data": {
      "text/plain": [
       "['수종이는 화장실로 뛰어갔습니다.',\n",
       " '경임이는 사무실로 갔습니다.',\n",
       " '은경이는 부엌으로 이동했습니다.',\n",
       " '경임이는 화장실로 갔습니다.',\n",
       " '수종이는 복도로 갔습니다.',\n",
       " '필웅이는 부엌으로 가버렸습니다.',\n",
       " '수종이는 부엌으로 이동했습니다.',\n",
       " '수종이는 화장실로 가버렸습니다.',\n",
       " '필웅이는 사무실로 갔습니다.',\n",
       " '수종이는 사무실로 갔습니다.']"
      ]
     },
     "execution_count": 62,
     "metadata": {},
     "output_type": "execute_result"
    }
   ],
   "source": [
    "# 3879번째 스토리 출력\n",
    "train_stories[3879]"
   ]
  },
  {
   "cell_type": "code",
   "execution_count": 63,
   "id": "packed-campus",
   "metadata": {},
   "outputs": [
    {
     "data": {
      "text/plain": [
       "['필웅이는 어디야? ', '수종이는 어디야? ', '수종이는 어디야? ', '수종이는 어디야? ', '경임이는 어디야? ']"
      ]
     },
     "execution_count": 63,
     "metadata": {},
     "output_type": "execute_result"
    }
   ],
   "source": [
    "# 상위 5개 질문 출력\n",
    "train_questions[:5]"
   ]
  },
  {
   "cell_type": "code",
   "execution_count": 64,
   "id": "sacred-therapist",
   "metadata": {},
   "outputs": [
    {
     "data": {
      "text/plain": [
       "['화장실', '복도', '복도', '사무실', '화장실']"
      ]
     },
     "execution_count": 64,
     "metadata": {},
     "output_type": "execute_result"
    }
   ],
   "source": [
    "# 상위 5개 답변 출력\n",
    "train_answers[:5]"
   ]
  },
  {
   "cell_type": "markdown",
   "id": "brazilian-creator",
   "metadata": {},
   "source": [
    "## Step 2. 형태소 분석 후 불용어 처리하기\n",
    "- 형태소 분석기로 문자를 분석해보면 '는', '으로' 등 분석에 크게 도움이 되지 않을 것 같은 토큰들이 나올 것이다. \n",
    "- 처음에는 이 토큰들도 그대로 사용해서 모델을 구현해보고, 두 번째 구현에서는 이 토큰들을 전처리 과정에서 불용어 처리하여 제외해보자."
   ]
  },
  {
   "cell_type": "markdown",
   "id": "desirable-documentation",
   "metadata": {},
   "source": [
    "## 불용어 제거하지 않고 토큰화"
   ]
  },
  {
   "cell_type": "code",
   "execution_count": 65,
   "id": "sunset-cholesterol",
   "metadata": {},
   "outputs": [],
   "source": [
    "def tokenize(sent):\n",
    "    return [ x.strip() for x in re.sub(r\"\\s+|\\b\", '\\f', sent).split('\\f') if x.strip() ] # python 3.7의 경우 \n",
    "    # return [ x.strip() for x in re.split('(\\W+)?', sent) if x.strip()] # python 3.6의 경우"
   ]
  },
  {
   "cell_type": "code",
   "execution_count": 66,
   "id": "crazy-covering",
   "metadata": {},
   "outputs": [],
   "source": [
    "def preprocess_data(train_data, test_data):\n",
    "    counter = FreqDist()\n",
    "    \n",
    "    # 두 문장의 story를 하나의 문장으로 통합하는 함수\n",
    "    flatten = lambda data: reduce(lambda x, y: x + y, data)\n",
    "\n",
    "    # 각 샘플의 길이를 저장하는 리스트\n",
    "    story_len = []\n",
    "    question_len = []\n",
    "    \n",
    "    for stories, questions, answers in [train_data, test_data]:\n",
    "        for story in stories:\n",
    "            stories = tokenize(flatten(story)) # 스토리의 문장들을 펼친 후 토큰화\n",
    "            story_len.append(len(stories)) # 각 story의 길이 저장\n",
    "            \n",
    "            for word in stories: # 단어 집합에 단어 추가\n",
    "                counter[word] += 1\n",
    "        \n",
    "        for question in questions:\n",
    "            question = tokenize(question)\n",
    "            question_len.append(len(question))\n",
    "            \n",
    "            for word in question:\n",
    "                counter[word] += 1\n",
    "        \n",
    "        for answer in answers:\n",
    "            answer = tokenize(answer)\n",
    "            \n",
    "            for word in answer:\n",
    "                counter[word] += 1\n",
    "\n",
    "    # 단어장 생성\n",
    "    word2idx = {word : (idx + 1) for idx, (word, _) in enumerate(counter.most_common())}\n",
    "    idx2word = {idx : word for word, idx in word2idx.items()}\n",
    "\n",
    "    # 가장 긴 샘플의 길이\n",
    "    story_max_len = np.max(story_len)\n",
    "    question_max_len = np.max(question_len)\n",
    "\n",
    "    return word2idx, idx2word, story_max_len, question_max_len"
   ]
  },
  {
   "cell_type": "code",
   "execution_count": 67,
   "id": "induced-credit",
   "metadata": {},
   "outputs": [],
   "source": [
    "word2idx, idx2word, story_max_len, question_max_len = preprocess_data(train_data, test_data)"
   ]
  },
  {
   "cell_type": "code",
   "execution_count": 68,
   "id": "civilian-documentation",
   "metadata": {},
   "outputs": [
    {
     "name": "stdout",
     "output_type": "stream",
     "text": [
      "{'.': 1, '경임이는': 2, '은경이는': 3, '수종이는': 4, '필웅이는': 5, '이동했습니다': 6, '가버렸습니다': 7, '뛰어갔습니다': 8, '복귀했습니다': 9, '갔습니다': 10, '화장실로': 11, '정원으로': 12, '복도로': 13, '어디야': 14, '?': 15, '부엌으로': 16, '사무실로': 17, '침실로': 18, '화장실': 19, '정원': 20, '사무실': 21, '침실': 22, '복도': 23, '부엌': 24}\n"
     ]
    }
   ],
   "source": [
    "print(word2idx)"
   ]
  },
  {
   "cell_type": "code",
   "execution_count": 69,
   "id": "necessary-pixel",
   "metadata": {},
   "outputs": [],
   "source": [
    "vocab_size = len(word2idx) + 1"
   ]
  },
  {
   "cell_type": "code",
   "execution_count": 70,
   "id": "settled-greeting",
   "metadata": {},
   "outputs": [
    {
     "name": "stdout",
     "output_type": "stream",
     "text": [
      "스토리의 최대 길이 : 40\n",
      "질문의 최대 길이 : 3\n"
     ]
    }
   ],
   "source": [
    "print('스토리의 최대 길이 :',story_max_len)\n",
    "print('질문의 최대 길이 :',question_max_len)"
   ]
  },
  {
   "cell_type": "markdown",
   "id": "plastic-closer",
   "metadata": {},
   "source": [
    "## Step 3. 한국어에서의 모델 정확도 확인해보기\n",
    "\n",
    "- 앞서 만든 메모리 네트워크는 영어권 데이터에서는 보편적으로 약 96% 이상의 높은 성능을 보인다.\n",
    "- 하이퍼파라미터를 잘 조정하면 이보다 더 높은 정확도가 나오기도 한다.\n",
    "- 그렇다면 메모리 네트워크가 한국어에서도 영어만큼 잘 동작하는지 직접 확인해보자.\n",
    "\n",
    "\n",
    "## 1. 불용어를 제거하지 않은 데이터를 사용한 모델"
   ]
  },
  {
   "cell_type": "code",
   "execution_count": 71,
   "id": "mobile-knock",
   "metadata": {},
   "outputs": [],
   "source": [
    "def vectorize(data, word2idx, story_maxlen, question_maxlen):\n",
    "    Xs, Xq, Y = [], [], []\n",
    "    flatten = lambda data: reduce(lambda x, y: x + y, data)\n",
    "    \n",
    "    stories, questions, answers = data\n",
    "    for story, question, answer in zip(stories, questions, answers):\n",
    "        xs = [word2idx[w] for w in tokenize(flatten(story))]\n",
    "        xq = [word2idx[w] for w in tokenize(question)]\n",
    "        Xs.append(xs)\n",
    "        Xq.append(xq)\n",
    "        Y.append(word2idx[answer])\n",
    "\n",
    "    # 스토리와 질문은 각각의 최대 길이로 패딩\n",
    "    # 정답은 원-핫 인코딩\n",
    "    return pad_sequences(Xs, maxlen=story_maxlen),\\\n",
    "           pad_sequences(Xq, maxlen=question_maxlen),\\\n",
    "           to_categorical(Y, num_classes=len(word2idx) + 1)"
   ]
  },
  {
   "cell_type": "code",
   "execution_count": 72,
   "id": "systematic-marking",
   "metadata": {},
   "outputs": [],
   "source": [
    "Xstrain, Xqtrain, Ytrain = vectorize(train_data, word2idx, story_max_len, question_max_len)\n",
    "Xstest, Xqtest, Ytest = vectorize(test_data, word2idx, story_max_len, question_max_len)"
   ]
  },
  {
   "cell_type": "code",
   "execution_count": 73,
   "id": "liberal-identity",
   "metadata": {},
   "outputs": [
    {
     "name": "stdout",
     "output_type": "stream",
     "text": [
      "(10000, 40) (10000, 3) (10000, 25) (1000, 40) (1000, 3) (1000, 25)\n"
     ]
    }
   ],
   "source": [
    "print(Xstrain.shape, Xqtrain.shape, Ytrain.shape, Xstest.shape, Xqtest.shape, Ytest.shape)"
   ]
  },
  {
   "cell_type": "markdown",
   "id": "recorded-hebrew",
   "metadata": {},
   "source": [
    "## 1번의 메모리 네트워크 구현"
   ]
  },
  {
   "cell_type": "code",
   "execution_count": 74,
   "id": "three-joint",
   "metadata": {},
   "outputs": [],
   "source": [
    "from tensorflow.keras.models import Sequential, Model\n",
    "from tensorflow.keras.layers import Embedding\n",
    "from tensorflow.keras.layers import Permute, dot, add, concatenate\n",
    "from tensorflow.keras.layers import LSTM, Dense, Dropout, Input, Activation\n",
    "import matplotlib.pyplot as plt"
   ]
  },
  {
   "cell_type": "code",
   "execution_count": 75,
   "id": "particular-demand",
   "metadata": {},
   "outputs": [],
   "source": [
    "# 에포크 횟수\n",
    "train_epochs = 120\n",
    "# 배치 크기\n",
    "batch_size = 32\n",
    "# 임베딩 크기\n",
    "embed_size = 50\n",
    "# LSTM의 크기\n",
    "lstm_size = 64\n",
    "# 과적합 방지 기법인 드롭아웃 적용 비율\n",
    "dropout_rate = 0.30"
   ]
  },
  {
   "cell_type": "code",
   "execution_count": 76,
   "id": "engaged-glenn",
   "metadata": {},
   "outputs": [
    {
     "name": "stdout",
     "output_type": "stream",
     "text": [
      "Stories : KerasTensor(type_spec=TensorSpec(shape=(None, 40), dtype=tf.float32, name='input_3'), name='input_3', description=\"created by layer 'input_3'\")\n",
      "Question: KerasTensor(type_spec=TensorSpec(shape=(None, 3), dtype=tf.float32, name='input_4'), name='input_4', description=\"created by layer 'input_4'\")\n"
     ]
    }
   ],
   "source": [
    "input_sequence = Input((story_max_len,))\n",
    "question = Input((question_max_len,))\n",
    " \n",
    "print('Stories :', input_sequence)\n",
    "print('Question:', question)"
   ]
  },
  {
   "cell_type": "code",
   "execution_count": 77,
   "id": "tribal-mustang",
   "metadata": {},
   "outputs": [],
   "source": [
    "# 스토리를 위한 첫 번째 임베딩. 그림에서의 Embedding A\n",
    "input_encoder_m = Sequential()\n",
    "input_encoder_m.add(Embedding(input_dim=vocab_size,\n",
    "                              output_dim=embed_size))\n",
    "input_encoder_m.add(Dropout(dropout_rate))\n",
    "# 결과 : (samples, story_max_len, embed_size) / 샘플의 수, 문장의 최대 길이, 임베딩 벡터의 차원\n",
    " \n",
    "# 스토리를 위한 두 번째 임베딩. 그림에서의 Embedding C\n",
    "# 임베딩 벡터의 차원을 question_max_len(질문의 최대 길이)로 한다.\n",
    "input_encoder_c = Sequential()\n",
    "input_encoder_c.add(Embedding(input_dim=vocab_size,\n",
    "                              output_dim=question_max_len))\n",
    "input_encoder_c.add(Dropout(dropout_rate))\n",
    "# 결과 : (samples, story_max_len, question_max_len) / 샘플의 수, 문장의 최대 길이, 질문의 최대 길이(임베딩 벡터의 차원)"
   ]
  },
  {
   "cell_type": "code",
   "execution_count": 78,
   "id": "sticky-implement",
   "metadata": {},
   "outputs": [],
   "source": [
    "# 질문을 위한 임베딩. 그림에서의 Embedding B\n",
    "question_encoder = Sequential()\n",
    "question_encoder.add(Embedding(input_dim=vocab_size,\n",
    "                               output_dim=embed_size,\n",
    "                               input_length=question_max_len))\n",
    "question_encoder.add(Dropout(dropout_rate))\n",
    "# 결과 : (samples, question_max_len, embed_size) / 샘플의 수, 질문의 최대 길이, 임베딩 벡터의 차원"
   ]
  },
  {
   "cell_type": "code",
   "execution_count": 79,
   "id": "specified-request",
   "metadata": {},
   "outputs": [
    {
     "name": "stdout",
     "output_type": "stream",
     "text": [
      "Input encoded m KerasTensor(type_spec=TensorSpec(shape=(None, 40, 50), dtype=tf.float32, name=None), name='sequential_3/dropout_4/Identity:0', description=\"created by layer 'sequential_3'\") \n",
      "\n",
      "Input encoded c KerasTensor(type_spec=TensorSpec(shape=(None, 40, 3), dtype=tf.float32, name=None), name='sequential_4/dropout_5/Identity:0', description=\"created by layer 'sequential_4'\") \n",
      "\n",
      "Question encoded KerasTensor(type_spec=TensorSpec(shape=(None, 3, 50), dtype=tf.float32, name=None), name='sequential_5/dropout_6/Identity:0', description=\"created by layer 'sequential_5'\") \n",
      "\n"
     ]
    }
   ],
   "source": [
    "# 실질적인 임베딩 과정\n",
    "input_encoded_m = input_encoder_m(input_sequence)\n",
    "input_encoded_c = input_encoder_c(input_sequence)\n",
    "question_encoded = question_encoder(question)\n",
    "\n",
    "print('Input encoded m', input_encoded_m, '\\n')\n",
    "print('Input encoded c', input_encoded_c, '\\n')\n",
    "print('Question encoded', question_encoded, '\\n')"
   ]
  },
  {
   "cell_type": "code",
   "execution_count": 80,
   "id": "light-windsor",
   "metadata": {},
   "outputs": [
    {
     "name": "stdout",
     "output_type": "stream",
     "text": [
      "Match shape KerasTensor(type_spec=TensorSpec(shape=(None, 40, 3), dtype=tf.float32, name=None), name='activation_2/truediv:0', description=\"created by layer 'activation_2'\")\n"
     ]
    }
   ],
   "source": [
    "# 스토리 단어들과 질문 단어들 간의 유사도를 구하는 과정\n",
    "# 유사도는 내적을 사용한다.\n",
    "match = dot([input_encoded_m, question_encoded], axes=-1, normalize=False)\n",
    "match = Activation('softmax')(match)\n",
    "print('Match shape', match)\n",
    "# 결과 : (samples, story_max_len, question_max_len) / 샘플의 수, 문장의 최대 길이, 질문의 최대 길이"
   ]
  },
  {
   "cell_type": "code",
   "execution_count": 81,
   "id": "cooked-accessory",
   "metadata": {},
   "outputs": [
    {
     "name": "stdout",
     "output_type": "stream",
     "text": [
      "Response shape KerasTensor(type_spec=TensorSpec(shape=(None, 3, 40), dtype=tf.float32, name=None), name='permute_1/transpose:0', description=\"created by layer 'permute_1'\")\n"
     ]
    }
   ],
   "source": [
    "# 매칭 유사도 행렬과 질문에 대한 임베딩을 더한다.\n",
    "response = add([match, input_encoded_c])  # (samples, story_maxlen, question_max_len)\n",
    "response = Permute((2, 1))(response)  # (samples, question_max_len, story_maxlen)\n",
    "print('Response shape', response)"
   ]
  },
  {
   "cell_type": "code",
   "execution_count": 82,
   "id": "acceptable-protection",
   "metadata": {},
   "outputs": [
    {
     "name": "stdout",
     "output_type": "stream",
     "text": [
      "Answer shape KerasTensor(type_spec=TensorSpec(shape=(None, 3, 90), dtype=tf.float32, name=None), name='concatenate_1/concat:0', description=\"created by layer 'concatenate_1'\")\n"
     ]
    }
   ],
   "source": [
    "# concatenate the response vector with the question vector sequence\n",
    "answer = concatenate([response, question_encoded])\n",
    "print('Answer shape', answer)\n",
    " \n",
    "answer = LSTM(lstm_size)(answer)  # Generate tensors of shape 32\n",
    "answer = Dropout(dropout_rate)(answer)\n",
    "answer = Dense(vocab_size)(answer)  # (samples, vocab_size)\n",
    "# we output a probability distribution over the vocabulary\n",
    "answer = Activation('softmax')(answer)"
   ]
  },
  {
   "cell_type": "markdown",
   "id": "dangerous-selling",
   "metadata": {},
   "source": [
    "## 모델 학습"
   ]
  },
  {
   "cell_type": "code",
   "execution_count": 83,
   "id": "pressed-matter",
   "metadata": {},
   "outputs": [
    {
     "name": "stdout",
     "output_type": "stream",
     "text": [
      "Epoch 1/120\n",
      "313/313 [==============================] - 3s 5ms/step - loss: 2.0449 - acc: 0.1699 - val_loss: 1.7897 - val_acc: 0.1670\n",
      "Epoch 2/120\n",
      "313/313 [==============================] - 1s 4ms/step - loss: 1.7634 - acc: 0.2227 - val_loss: 1.6056 - val_acc: 0.3740\n",
      "Epoch 3/120\n",
      "313/313 [==============================] - 1s 3ms/step - loss: 1.5777 - acc: 0.3765 - val_loss: 1.4875 - val_acc: 0.4200\n",
      "Epoch 4/120\n",
      "313/313 [==============================] - 1s 3ms/step - loss: 1.5144 - acc: 0.3925 - val_loss: 1.4606 - val_acc: 0.4480\n",
      "Epoch 5/120\n",
      "313/313 [==============================] - 1s 3ms/step - loss: 1.4690 - acc: 0.4318 - val_loss: 1.3894 - val_acc: 0.4760\n",
      "Epoch 6/120\n",
      "313/313 [==============================] - 1s 3ms/step - loss: 1.4065 - acc: 0.4485 - val_loss: 1.3509 - val_acc: 0.4640\n",
      "Epoch 7/120\n",
      "313/313 [==============================] - 1s 3ms/step - loss: 1.3662 - acc: 0.4644 - val_loss: 1.3141 - val_acc: 0.4850\n",
      "Epoch 8/120\n",
      "313/313 [==============================] - 1s 3ms/step - loss: 1.3502 - acc: 0.4624 - val_loss: 1.3241 - val_acc: 0.4710\n",
      "Epoch 9/120\n",
      "313/313 [==============================] - 1s 3ms/step - loss: 1.3450 - acc: 0.4613 - val_loss: 1.3185 - val_acc: 0.4610\n",
      "Epoch 10/120\n",
      "313/313 [==============================] - 1s 3ms/step - loss: 1.3379 - acc: 0.4695 - val_loss: 1.3020 - val_acc: 0.4970\n",
      "Epoch 11/120\n",
      "313/313 [==============================] - 1s 3ms/step - loss: 1.3039 - acc: 0.4864 - val_loss: 1.2731 - val_acc: 0.5050\n",
      "Epoch 12/120\n",
      "313/313 [==============================] - 1s 3ms/step - loss: 1.3035 - acc: 0.4897 - val_loss: 1.2512 - val_acc: 0.5210\n",
      "Epoch 13/120\n",
      "313/313 [==============================] - 1s 3ms/step - loss: 1.2667 - acc: 0.5102 - val_loss: 1.2536 - val_acc: 0.5240\n",
      "Epoch 14/120\n",
      "313/313 [==============================] - 1s 3ms/step - loss: 1.2570 - acc: 0.5093 - val_loss: 1.2312 - val_acc: 0.5160\n",
      "Epoch 15/120\n",
      "313/313 [==============================] - 1s 3ms/step - loss: 1.2398 - acc: 0.5174 - val_loss: 1.2167 - val_acc: 0.5100\n",
      "Epoch 16/120\n",
      "313/313 [==============================] - 1s 3ms/step - loss: 1.2387 - acc: 0.5111 - val_loss: 1.2412 - val_acc: 0.5040\n",
      "Epoch 17/120\n",
      "313/313 [==============================] - 1s 3ms/step - loss: 1.2380 - acc: 0.5119 - val_loss: 1.2281 - val_acc: 0.5010\n",
      "Epoch 18/120\n",
      "313/313 [==============================] - 1s 3ms/step - loss: 1.2348 - acc: 0.5170 - val_loss: 1.1976 - val_acc: 0.5260\n",
      "Epoch 19/120\n",
      "313/313 [==============================] - 1s 3ms/step - loss: 1.2192 - acc: 0.5193 - val_loss: 1.2262 - val_acc: 0.5170\n",
      "Epoch 20/120\n",
      "313/313 [==============================] - 1s 3ms/step - loss: 1.1929 - acc: 0.5265 - val_loss: 1.2010 - val_acc: 0.5230\n",
      "Epoch 21/120\n",
      "313/313 [==============================] - 1s 3ms/step - loss: 1.2093 - acc: 0.5150 - val_loss: 1.1579 - val_acc: 0.5330\n",
      "Epoch 22/120\n",
      "313/313 [==============================] - 1s 3ms/step - loss: 1.1087 - acc: 0.5628 - val_loss: 0.9301 - val_acc: 0.6670\n",
      "Epoch 23/120\n",
      "313/313 [==============================] - 1s 3ms/step - loss: 0.8676 - acc: 0.6772 - val_loss: 0.7198 - val_acc: 0.7370\n",
      "Epoch 24/120\n",
      "313/313 [==============================] - 1s 3ms/step - loss: 0.7083 - acc: 0.7466 - val_loss: 0.6438 - val_acc: 0.7590\n",
      "Epoch 25/120\n",
      "313/313 [==============================] - 1s 3ms/step - loss: 0.6339 - acc: 0.7563 - val_loss: 0.5615 - val_acc: 0.7810\n",
      "Epoch 26/120\n",
      "313/313 [==============================] - 1s 3ms/step - loss: 0.5323 - acc: 0.7909 - val_loss: 0.4439 - val_acc: 0.8210\n",
      "Epoch 27/120\n",
      "313/313 [==============================] - 1s 3ms/step - loss: 0.4353 - acc: 0.8387 - val_loss: 0.3871 - val_acc: 0.8460\n",
      "Epoch 28/120\n",
      "313/313 [==============================] - 1s 3ms/step - loss: 0.4102 - acc: 0.8406 - val_loss: 0.3784 - val_acc: 0.8570\n",
      "Epoch 29/120\n",
      "313/313 [==============================] - 1s 3ms/step - loss: 0.3695 - acc: 0.8558 - val_loss: 0.3507 - val_acc: 0.8670\n",
      "Epoch 30/120\n",
      "313/313 [==============================] - 1s 4ms/step - loss: 0.3554 - acc: 0.8594 - val_loss: 0.3328 - val_acc: 0.8600\n",
      "Epoch 31/120\n",
      "313/313 [==============================] - 1s 4ms/step - loss: 0.3314 - acc: 0.8702 - val_loss: 0.3055 - val_acc: 0.8750\n",
      "Epoch 32/120\n",
      "313/313 [==============================] - 1s 4ms/step - loss: 0.2957 - acc: 0.8911 - val_loss: 0.2832 - val_acc: 0.8920\n",
      "Epoch 33/120\n",
      "313/313 [==============================] - 1s 3ms/step - loss: 0.2875 - acc: 0.8923 - val_loss: 0.2460 - val_acc: 0.9090\n",
      "Epoch 34/120\n",
      "313/313 [==============================] - 1s 3ms/step - loss: 0.2552 - acc: 0.9045 - val_loss: 0.2178 - val_acc: 0.9210\n",
      "Epoch 35/120\n",
      "313/313 [==============================] - 1s 3ms/step - loss: 0.2286 - acc: 0.9199 - val_loss: 0.1919 - val_acc: 0.9240\n",
      "Epoch 36/120\n",
      "313/313 [==============================] - 1s 4ms/step - loss: 0.2050 - acc: 0.9264 - val_loss: 0.1734 - val_acc: 0.9330\n",
      "Epoch 37/120\n",
      "313/313 [==============================] - 1s 4ms/step - loss: 0.1903 - acc: 0.9276 - val_loss: 0.1562 - val_acc: 0.9410\n",
      "Epoch 38/120\n",
      "313/313 [==============================] - 1s 3ms/step - loss: 0.1789 - acc: 0.9368 - val_loss: 0.1496 - val_acc: 0.9390\n",
      "Epoch 39/120\n",
      "313/313 [==============================] - 1s 3ms/step - loss: 0.1681 - acc: 0.9417 - val_loss: 0.1363 - val_acc: 0.9550\n",
      "Epoch 40/120\n",
      "313/313 [==============================] - 1s 3ms/step - loss: 0.1586 - acc: 0.9451 - val_loss: 0.1215 - val_acc: 0.9530\n",
      "Epoch 41/120\n",
      "313/313 [==============================] - 1s 3ms/step - loss: 0.1475 - acc: 0.9508 - val_loss: 0.1100 - val_acc: 0.9510\n",
      "Epoch 42/120\n",
      "313/313 [==============================] - 1s 3ms/step - loss: 0.1337 - acc: 0.9532 - val_loss: 0.1036 - val_acc: 0.9700\n",
      "Epoch 43/120\n",
      "313/313 [==============================] - 1s 3ms/step - loss: 0.1260 - acc: 0.9572 - val_loss: 0.0980 - val_acc: 0.9610\n",
      "Epoch 44/120\n",
      "313/313 [==============================] - 1s 3ms/step - loss: 0.1118 - acc: 0.9607 - val_loss: 0.0714 - val_acc: 0.9740\n",
      "Epoch 45/120\n",
      "313/313 [==============================] - 1s 4ms/step - loss: 0.1002 - acc: 0.9642 - val_loss: 0.0809 - val_acc: 0.9680\n",
      "Epoch 46/120\n",
      "313/313 [==============================] - 1s 4ms/step - loss: 0.0893 - acc: 0.9676 - val_loss: 0.0612 - val_acc: 0.9770\n",
      "Epoch 47/120\n",
      "313/313 [==============================] - 1s 4ms/step - loss: 0.0960 - acc: 0.9665 - val_loss: 0.0543 - val_acc: 0.9800\n",
      "Epoch 48/120\n",
      "313/313 [==============================] - 1s 4ms/step - loss: 0.0881 - acc: 0.9702 - val_loss: 0.0533 - val_acc: 0.9790\n",
      "Epoch 49/120\n",
      "313/313 [==============================] - 1s 4ms/step - loss: 0.0858 - acc: 0.9721 - val_loss: 0.0422 - val_acc: 0.9830\n",
      "Epoch 50/120\n",
      "313/313 [==============================] - 1s 3ms/step - loss: 0.0743 - acc: 0.9755 - val_loss: 0.0357 - val_acc: 0.9890\n",
      "Epoch 51/120\n",
      "313/313 [==============================] - 1s 4ms/step - loss: 0.0551 - acc: 0.9816 - val_loss: 0.0296 - val_acc: 0.9880\n",
      "Epoch 52/120\n",
      "313/313 [==============================] - 1s 4ms/step - loss: 0.0546 - acc: 0.9804 - val_loss: 0.0255 - val_acc: 0.9920\n",
      "Epoch 53/120\n",
      "313/313 [==============================] - 1s 3ms/step - loss: 0.0514 - acc: 0.9826 - val_loss: 0.0281 - val_acc: 0.9910\n",
      "Epoch 54/120\n",
      "313/313 [==============================] - 1s 4ms/step - loss: 0.0486 - acc: 0.9863 - val_loss: 0.0228 - val_acc: 0.9950\n",
      "Epoch 55/120\n",
      "313/313 [==============================] - 1s 3ms/step - loss: 0.0408 - acc: 0.9868 - val_loss: 0.0293 - val_acc: 0.9920\n",
      "Epoch 56/120\n",
      "313/313 [==============================] - 1s 3ms/step - loss: 0.0414 - acc: 0.9871 - val_loss: 0.0181 - val_acc: 0.9950\n",
      "Epoch 57/120\n",
      "313/313 [==============================] - 1s 3ms/step - loss: 0.0391 - acc: 0.9866 - val_loss: 0.0177 - val_acc: 0.9910\n",
      "Epoch 58/120\n",
      "313/313 [==============================] - 1s 3ms/step - loss: 0.0377 - acc: 0.9881 - val_loss: 0.0143 - val_acc: 0.9960\n",
      "Epoch 59/120\n",
      "313/313 [==============================] - 1s 3ms/step - loss: 0.0313 - acc: 0.9883 - val_loss: 0.0109 - val_acc: 0.9970\n",
      "Epoch 60/120\n",
      "313/313 [==============================] - 1s 3ms/step - loss: 0.0380 - acc: 0.9898 - val_loss: 0.0184 - val_acc: 0.9960\n",
      "Epoch 61/120\n",
      "313/313 [==============================] - 1s 3ms/step - loss: 0.0341 - acc: 0.9910 - val_loss: 0.0056 - val_acc: 1.0000\n",
      "Epoch 62/120\n"
     ]
    },
    {
     "name": "stdout",
     "output_type": "stream",
     "text": [
      "313/313 [==============================] - 1s 3ms/step - loss: 0.0305 - acc: 0.9921 - val_loss: 0.0068 - val_acc: 0.9980\n",
      "Epoch 63/120\n",
      "313/313 [==============================] - 1s 3ms/step - loss: 0.0252 - acc: 0.9934 - val_loss: 0.0051 - val_acc: 0.9980\n",
      "Epoch 64/120\n",
      "313/313 [==============================] - 1s 3ms/step - loss: 0.0338 - acc: 0.9918 - val_loss: 0.0129 - val_acc: 0.9970\n",
      "Epoch 65/120\n",
      "313/313 [==============================] - 1s 3ms/step - loss: 0.0171 - acc: 0.9948 - val_loss: 0.0064 - val_acc: 0.9990\n",
      "Epoch 66/120\n",
      "313/313 [==============================] - 1s 3ms/step - loss: 0.0228 - acc: 0.9928 - val_loss: 0.0031 - val_acc: 1.0000\n",
      "Epoch 67/120\n",
      "313/313 [==============================] - 1s 3ms/step - loss: 0.0193 - acc: 0.9935 - val_loss: 0.0084 - val_acc: 0.9970\n",
      "Epoch 68/120\n",
      "313/313 [==============================] - 1s 4ms/step - loss: 0.0171 - acc: 0.9954 - val_loss: 0.0053 - val_acc: 0.9990\n",
      "Epoch 69/120\n",
      "313/313 [==============================] - 1s 4ms/step - loss: 0.0170 - acc: 0.9954 - val_loss: 0.0079 - val_acc: 0.9980\n",
      "Epoch 70/120\n",
      "313/313 [==============================] - 1s 4ms/step - loss: 0.0260 - acc: 0.9951 - val_loss: 0.0078 - val_acc: 0.9960\n",
      "Epoch 71/120\n",
      "313/313 [==============================] - 1s 3ms/step - loss: 0.0141 - acc: 0.9961 - val_loss: 0.0071 - val_acc: 0.9980\n",
      "Epoch 72/120\n",
      "313/313 [==============================] - 1s 4ms/step - loss: 0.0182 - acc: 0.9945 - val_loss: 0.0022 - val_acc: 0.9990\n",
      "Epoch 73/120\n",
      "313/313 [==============================] - 1s 3ms/step - loss: 0.0281 - acc: 0.9927 - val_loss: 9.9085e-04 - val_acc: 1.0000\n",
      "Epoch 74/120\n",
      "313/313 [==============================] - 1s 3ms/step - loss: 0.0238 - acc: 0.9933 - val_loss: 0.0023 - val_acc: 1.0000\n",
      "Epoch 75/120\n",
      "313/313 [==============================] - 1s 3ms/step - loss: 0.0206 - acc: 0.9949 - val_loss: 6.9850e-04 - val_acc: 1.0000\n",
      "Epoch 76/120\n",
      "313/313 [==============================] - 1s 3ms/step - loss: 0.0141 - acc: 0.9964 - val_loss: 0.0011 - val_acc: 1.0000\n",
      "Epoch 77/120\n",
      "313/313 [==============================] - 1s 4ms/step - loss: 0.0221 - acc: 0.9948 - val_loss: 0.0012 - val_acc: 1.0000\n",
      "Epoch 78/120\n",
      "313/313 [==============================] - 1s 4ms/step - loss: 0.0287 - acc: 0.9932 - val_loss: 3.8368e-04 - val_acc: 1.0000\n",
      "Epoch 79/120\n",
      "313/313 [==============================] - 1s 4ms/step - loss: 0.0268 - acc: 0.9946 - val_loss: 6.4196e-04 - val_acc: 1.0000\n",
      "Epoch 80/120\n",
      "313/313 [==============================] - 1s 4ms/step - loss: 0.0124 - acc: 0.9969 - val_loss: 8.5067e-04 - val_acc: 1.0000\n",
      "Epoch 81/120\n",
      "313/313 [==============================] - 1s 4ms/step - loss: 0.0136 - acc: 0.9944 - val_loss: 0.0074 - val_acc: 0.9980\n",
      "Epoch 82/120\n",
      "313/313 [==============================] - 1s 4ms/step - loss: 0.0183 - acc: 0.9954 - val_loss: 5.8746e-04 - val_acc: 1.0000\n",
      "Epoch 83/120\n",
      "313/313 [==============================] - 1s 4ms/step - loss: 0.0150 - acc: 0.9963 - val_loss: 5.4470e-04 - val_acc: 1.0000\n",
      "Epoch 84/120\n",
      "313/313 [==============================] - 1s 3ms/step - loss: 0.0127 - acc: 0.9974 - val_loss: 8.9373e-04 - val_acc: 1.0000\n",
      "Epoch 85/120\n",
      "313/313 [==============================] - 1s 3ms/step - loss: 0.0116 - acc: 0.9963 - val_loss: 4.4212e-04 - val_acc: 1.0000\n",
      "Epoch 86/120\n",
      "313/313 [==============================] - 1s 3ms/step - loss: 0.0107 - acc: 0.9982 - val_loss: 3.3715e-04 - val_acc: 1.0000\n",
      "Epoch 87/120\n",
      "313/313 [==============================] - 1s 3ms/step - loss: 0.0138 - acc: 0.9965 - val_loss: 0.0047 - val_acc: 0.9980\n",
      "Epoch 88/120\n",
      "313/313 [==============================] - 1s 3ms/step - loss: 0.0131 - acc: 0.9960 - val_loss: 3.5258e-04 - val_acc: 1.0000\n",
      "Epoch 89/120\n",
      "313/313 [==============================] - 1s 3ms/step - loss: 0.0165 - acc: 0.9960 - val_loss: 5.2561e-04 - val_acc: 1.0000\n",
      "Epoch 90/120\n",
      "313/313 [==============================] - 1s 3ms/step - loss: 0.0099 - acc: 0.9972 - val_loss: 6.7341e-04 - val_acc: 1.0000\n",
      "Epoch 91/120\n",
      "313/313 [==============================] - 1s 3ms/step - loss: 0.0128 - acc: 0.9962 - val_loss: 4.5756e-04 - val_acc: 1.0000\n",
      "Epoch 92/120\n",
      "313/313 [==============================] - 1s 3ms/step - loss: 0.0218 - acc: 0.9935 - val_loss: 0.0033 - val_acc: 0.9990\n",
      "Epoch 93/120\n",
      "313/313 [==============================] - 1s 3ms/step - loss: 0.0332 - acc: 0.9947 - val_loss: 1.7514e-04 - val_acc: 1.0000\n",
      "Epoch 94/120\n",
      "313/313 [==============================] - 1s 3ms/step - loss: 0.0113 - acc: 0.9960 - val_loss: 2.0058e-04 - val_acc: 1.0000\n",
      "Epoch 95/120\n",
      "313/313 [==============================] - 1s 3ms/step - loss: 0.0130 - acc: 0.9959 - val_loss: 1.1494e-04 - val_acc: 1.0000\n",
      "Epoch 96/120\n",
      "313/313 [==============================] - 1s 3ms/step - loss: 0.0161 - acc: 0.9963 - val_loss: 0.0045 - val_acc: 0.9980\n",
      "Epoch 97/120\n",
      "313/313 [==============================] - 1s 3ms/step - loss: 0.0165 - acc: 0.9959 - val_loss: 6.0486e-04 - val_acc: 1.0000\n",
      "Epoch 98/120\n",
      "313/313 [==============================] - 1s 3ms/step - loss: 0.0111 - acc: 0.9978 - val_loss: 3.5824e-04 - val_acc: 1.0000\n",
      "Epoch 99/120\n",
      "313/313 [==============================] - 1s 3ms/step - loss: 0.0118 - acc: 0.9960 - val_loss: 0.0029 - val_acc: 0.9980\n",
      "Epoch 100/120\n",
      "313/313 [==============================] - 1s 3ms/step - loss: 0.0135 - acc: 0.9965 - val_loss: 1.5481e-04 - val_acc: 1.0000\n",
      "Epoch 101/120\n",
      "313/313 [==============================] - 1s 3ms/step - loss: 0.0130 - acc: 0.9966 - val_loss: 1.4247e-04 - val_acc: 1.0000\n",
      "Epoch 102/120\n",
      "313/313 [==============================] - 1s 3ms/step - loss: 0.0143 - acc: 0.9966 - val_loss: 9.9917e-05 - val_acc: 1.0000\n",
      "Epoch 103/120\n",
      "313/313 [==============================] - 1s 3ms/step - loss: 0.0226 - acc: 0.9960 - val_loss: 5.4545e-05 - val_acc: 1.0000\n",
      "Epoch 104/120\n",
      "313/313 [==============================] - 1s 3ms/step - loss: 0.0124 - acc: 0.9969 - val_loss: 4.0965e-05 - val_acc: 1.0000\n",
      "Epoch 105/120\n",
      "313/313 [==============================] - 1s 3ms/step - loss: 0.0204 - acc: 0.9953 - val_loss: 2.7096e-04 - val_acc: 1.0000\n",
      "Epoch 106/120\n",
      "313/313 [==============================] - 1s 3ms/step - loss: 0.0234 - acc: 0.9963 - val_loss: 4.9833e-05 - val_acc: 1.0000\n",
      "Epoch 107/120\n",
      "313/313 [==============================] - 1s 3ms/step - loss: 0.0135 - acc: 0.9974 - val_loss: 6.3722e-05 - val_acc: 1.0000\n",
      "Epoch 108/120\n",
      "313/313 [==============================] - 1s 3ms/step - loss: 0.0161 - acc: 0.9965 - val_loss: 6.7336e-04 - val_acc: 1.0000\n",
      "Epoch 109/120\n",
      "313/313 [==============================] - 1s 3ms/step - loss: 0.0126 - acc: 0.9962 - val_loss: 5.4799e-05 - val_acc: 1.0000\n",
      "Epoch 110/120\n",
      "313/313 [==============================] - 1s 3ms/step - loss: 0.0166 - acc: 0.9966 - val_loss: 6.3938e-05 - val_acc: 1.0000\n",
      "Epoch 111/120\n",
      "313/313 [==============================] - 1s 4ms/step - loss: 0.0194 - acc: 0.9975 - val_loss: 0.0025 - val_acc: 0.9990\n",
      "Epoch 112/120\n",
      "313/313 [==============================] - 1s 4ms/step - loss: 0.0242 - acc: 0.9950 - val_loss: 1.2436e-04 - val_acc: 1.0000\n",
      "Epoch 113/120\n",
      "313/313 [==============================] - 1s 4ms/step - loss: 0.0156 - acc: 0.9967 - val_loss: 3.5797e-04 - val_acc: 1.0000\n",
      "Epoch 114/120\n",
      "313/313 [==============================] - 1s 3ms/step - loss: 0.0159 - acc: 0.9947 - val_loss: 1.0980e-04 - val_acc: 1.0000\n",
      "Epoch 115/120\n",
      "313/313 [==============================] - 1s 4ms/step - loss: 0.0193 - acc: 0.9962 - val_loss: 4.2399e-05 - val_acc: 1.0000\n",
      "Epoch 116/120\n",
      "313/313 [==============================] - 1s 4ms/step - loss: 0.0072 - acc: 0.9979 - val_loss: 1.9742e-05 - val_acc: 1.0000\n",
      "Epoch 117/120\n",
      "313/313 [==============================] - 1s 3ms/step - loss: 0.0113 - acc: 0.9964 - val_loss: 1.0130e-04 - val_acc: 1.0000\n",
      "Epoch 118/120\n",
      "313/313 [==============================] - 1s 3ms/step - loss: 0.0148 - acc: 0.9972 - val_loss: 5.4391e-05 - val_acc: 1.0000\n",
      "Epoch 119/120\n",
      "313/313 [==============================] - 1s 3ms/step - loss: 0.0118 - acc: 0.9954 - val_loss: 1.2111e-04 - val_acc: 1.0000\n",
      "Epoch 120/120\n",
      "313/313 [==============================] - 1s 3ms/step - loss: 0.0147 - acc: 0.9966 - val_loss: 3.8931e-04 - val_acc: 1.0000\n"
     ]
    }
   ],
   "source": [
    "import os\n",
    "\n",
    "# 모델 컴파일\n",
    "model = Model([input_sequence, question], answer)\n",
    "model.compile(optimizer='rmsprop', loss='categorical_crossentropy',\n",
    "              metrics=['acc'])\n",
    " \n",
    "# 테스트 데이터를 검증 데이터로 사용하면서 모델 훈련 시작\n",
    "history = model.fit([Xstrain, Xqtrain],\n",
    "         Ytrain, batch_size, train_epochs,\n",
    "         validation_data=([Xstest, Xqtest], Ytest))\n",
    " \n",
    "# 훈련 후에는 모델 저장\n",
    "model_path = os.getenv('HOME')+'/aiffel/babi_memory_net/model.h5'\n",
    "model.save(model_path)"
   ]
  },
  {
   "cell_type": "code",
   "execution_count": 84,
   "id": "visible-pride",
   "metadata": {},
   "outputs": [
    {
     "name": "stdout",
     "output_type": "stream",
     "text": [
      "32/32 [==============================] - 0s 2ms/step - loss: 3.8931e-04 - acc: 1.0000\n",
      "\n",
      " 테스트 정확도: 1.0000\n"
     ]
    }
   ],
   "source": [
    "print(\"\\n 테스트 정확도: %.4f\" % (model.evaluate([Xstest, Xqtest], Ytest)[1]))"
   ]
  },
  {
   "cell_type": "code",
   "execution_count": 85,
   "id": "rough-indianapolis",
   "metadata": {},
   "outputs": [
    {
     "data": {
      "image/png": "[encoded data removed]",
      "text/plain": [
       "<Figure size 432x288 with 2 Axes>"
      ]
     },
     "metadata": {
      "needs_background": "light"
     },
     "output_type": "display_data"
    }
   ],
   "source": [
    "# plot accuracy and loss plot\n",
    "plt.subplot(211)\n",
    "plt.title(\"Accuracy\")\n",
    "plt.plot(history.history[\"acc\"], color=\"g\", label=\"train\")\n",
    "plt.plot(history.history[\"val_acc\"], color=\"b\", label=\"validation\")\n",
    "plt.legend(loc=\"best\")\n",
    "\n",
    "plt.subplot(212)\n",
    "plt.title(\"Loss\")\n",
    "plt.plot(history.history[\"loss\"], color=\"g\", label=\"train\")\n",
    "plt.plot(history.history[\"val_loss\"], color=\"b\", label=\"validation\")\n",
    "plt.legend(loc=\"best\")\n",
    "\n",
    "plt.tight_layout()\n",
    "plt.show()\n",
    "\n",
    "# labels\n",
    "ytest = np.argmax(Ytest, axis=1)\n",
    "\n",
    "# get predictions\n",
    "Ytest_ = model.predict([Xstest, Xqtest])\n",
    "ytest_ = np.argmax(Ytest_, axis=1)"
   ]
  },
  {
   "cell_type": "code",
   "execution_count": 86,
   "id": "smart-reach",
   "metadata": {},
   "outputs": [
    {
     "name": "stdout",
     "output_type": "stream",
     "text": [
      "질문                  |실제값    |예측값\n",
      "---------------------------------------\n",
      "은경이는 어디야 ?          : 복도       복도\n",
      "필웅이는 어디야 ?          : 화장실      화장실\n",
      "경임이는 어디야 ?          : 부엌       부엌\n",
      "경임이는 어디야 ?          : 복도       복도\n",
      "경임이는 어디야 ?          : 부엌       부엌\n",
      "경임이는 어디야 ?          : 복도       복도\n",
      "경임이는 어디야 ?          : 정원       정원\n",
      "수종이는 어디야 ?          : 복도       복도\n",
      "경임이는 어디야 ?          : 사무실      사무실\n",
      "수종이는 어디야 ?          : 사무실      사무실\n",
      "필웅이는 어디야 ?          : 부엌       부엌\n",
      "필웅이는 어디야 ?          : 정원       정원\n",
      "수종이는 어디야 ?          : 사무실      사무실\n",
      "필웅이는 어디야 ?          : 침실       침실\n",
      "필웅이는 어디야 ?          : 침실       침실\n",
      "은경이는 어디야 ?          : 부엌       부엌\n",
      "은경이는 어디야 ?          : 정원       정원\n",
      "은경이는 어디야 ?          : 부엌       부엌\n",
      "수종이는 어디야 ?          : 사무실      사무실\n",
      "은경이는 어디야 ?          : 부엌       부엌\n",
      "필웅이는 어디야 ?          : 복도       복도\n",
      "은경이는 어디야 ?          : 사무실      사무실\n",
      "은경이는 어디야 ?          : 사무실      사무실\n",
      "경임이는 어디야 ?          : 복도       복도\n",
      "수종이는 어디야 ?          : 침실       침실\n",
      "경임이는 어디야 ?          : 침실       침실\n",
      "필웅이는 어디야 ?          : 침실       침실\n",
      "수종이는 어디야 ?          : 부엌       부엌\n",
      "수종이는 어디야 ?          : 부엌       부엌\n",
      "수종이는 어디야 ?          : 부엌       부엌\n"
     ]
    }
   ],
   "source": [
    "NUM_DISPLAY = 30\n",
    "\n",
    "print(\"{:20}|{:7}|{}\".format(\"질문\", \"실제값\", \"예측값\"))\n",
    "print(39 * \"-\")\n",
    "\n",
    "for i in range(NUM_DISPLAY):\n",
    "    question = \" \".join([idx2word[x] for x in Xqtest[i].tolist()])\n",
    "    label = idx2word[ytest[i]]\n",
    "    prediction = idx2word[ytest_[i]]\n",
    "    print(\"{:20}: {:8} {}\".format(question, label, prediction))"
   ]
  },
  {
   "cell_type": "markdown",
   "id": "veterinary-customer",
   "metadata": {},
   "source": [
    "## 2. 불용어를 제거한 데이터를 사용한 모델"
   ]
  },
  {
   "cell_type": "markdown",
   "id": "satisfactory-finnish",
   "metadata": {},
   "source": [
    "## 불용어를 제거하고 토큰화"
   ]
  },
  {
   "cell_type": "code",
   "execution_count": 88,
   "id": "angry-makeup",
   "metadata": {},
   "outputs": [],
   "source": [
    "twitter = Twitter()"
   ]
  },
  {
   "cell_type": "code",
   "execution_count": 89,
   "id": "wireless-combat",
   "metadata": {},
   "outputs": [],
   "source": [
    "twitter.add_dictionary('은경이', 'Noun')\n",
    "twitter.add_dictionary('경임이', 'Noun')\n",
    "twitter.add_dictionary('수종이', 'Noun')"
   ]
  },
  {
   "cell_type": "code",
   "execution_count": 90,
   "id": "aerial-organic",
   "metadata": {},
   "outputs": [],
   "source": [
    "# stopwords = ['의','가','이','은','들','는','좀','잘','걍','과','도','를','으로','자','에','와','한','하다'] \n",
    "def tokenize_stop(sent):\n",
    "    return twitter.morphs(sent) # 토큰화"
   ]
  },
  {
   "cell_type": "code",
   "execution_count": 91,
   "id": "intermediate-dimension",
   "metadata": {},
   "outputs": [],
   "source": [
    "def preprocess_data_stop(train_data, test_data):\n",
    "    counter = FreqDist()\n",
    "    \n",
    "    # 두 문장의 story를 하나의 문장으로 통합하는 함수\n",
    "    flatten = lambda data: reduce(lambda x, y: x + y, data)\n",
    "\n",
    "    # 각 샘플의 길이를 저장하는 리스트\n",
    "    story_len = []\n",
    "    question_len = []\n",
    "    stopwords = ['의','가','이','야','은','들','는','좀','잘','걍','과','도','를','으로','로','자','에','와','한','하다'] \n",
    "    for stories, questions, answers in [train_data, test_data]:\n",
    "        for story in stories:\n",
    "            stories = tokenize_stop(flatten(story)) # 스토리의 문장들을 펼친 후 토큰화\n",
    "            stories = [word for word in stories if not word in stopwords]\n",
    "            story_len.append(len(stories)) # 각 story의 길이 저장\n",
    "            for word in stories: # 단어 집합에 단어 추가\n",
    "                counter[word] += 1\n",
    "        for question in questions:\n",
    "            question = tokenize_stop(question)\n",
    "            question = [word for word in question if not word in stopwords]\n",
    "            question_len.append(len(question))\n",
    "            for word in question:\n",
    "                counter[word] += 1\n",
    "        for answer in answers:\n",
    "            answer = tokenize_stop(answer)\n",
    "            answer = [word for word in answer if not word in stopwords]\n",
    "            for word in answer:\n",
    "                counter[word] += 1\n",
    "\n",
    "    # 단어장 생성\n",
    "    word2idx = {word : (idx + 1) for idx, (word, _) in enumerate(counter.most_common())}\n",
    "    idx2word = {idx : word for word, idx in word2idx.items()}\n",
    "\n",
    "    # 가장 긴 샘플의 길이\n",
    "    story_max_len = np.max(story_len)\n",
    "    question_max_len = np.max(question_len)\n",
    "\n",
    "    return word2idx, idx2word, story_max_len, question_max_len"
   ]
  },
  {
   "cell_type": "code",
   "execution_count": 92,
   "id": "demographic-citation",
   "metadata": {},
   "outputs": [],
   "source": [
    "word2idx_stop, idx2word_stop, story_max_len_stop, question_max_len_stop = preprocess_data_stop(train_data, test_data)"
   ]
  },
  {
   "cell_type": "code",
   "execution_count": 93,
   "id": "decimal-preparation",
   "metadata": {},
   "outputs": [
    {
     "name": "stdout",
     "output_type": "stream",
     "text": [
      "{'.': 1, '했습니다': 2, '경임이': 3, '은경이': 4, '수종이': 5, '필웅이': 6, '이동': 7, '가버렸습니다': 8, '뛰어갔습니다': 9, '복귀': 10, '화장실': 11, '정원': 12, '복도': 13, '갔습니다': 14, '사무실': 15, '부엌': 16, '침실': 17, '어디': 18, '?': 19}\n"
     ]
    }
   ],
   "source": [
    "print(word2idx_stop)"
   ]
  },
  {
   "cell_type": "code",
   "execution_count": 94,
   "id": "limited-editing",
   "metadata": {},
   "outputs": [],
   "source": [
    "vocab_size = len(word2idx_stop) + 1"
   ]
  },
  {
   "cell_type": "code",
   "execution_count": 95,
   "id": "arbitrary-proceeding",
   "metadata": {},
   "outputs": [
    {
     "name": "stdout",
     "output_type": "stream",
     "text": [
      "스토리의 최대 길이 : 50\n",
      "질문의 최대 길이 : 3\n"
     ]
    }
   ],
   "source": [
    "print('스토리의 최대 길이 :',story_max_len_stop)\n",
    "print('질문의 최대 길이 :',question_max_len_stop)"
   ]
  },
  {
   "cell_type": "code",
   "execution_count": 96,
   "id": "engaging-cause",
   "metadata": {},
   "outputs": [],
   "source": [
    "def vectorize_stop(data, word2idx, story_maxlen, question_maxlen):\n",
    "    Xs, Xq, Y = [], [], []\n",
    "    flatten = lambda data: reduce(lambda x, y: x + y, data)\n",
    "     \n",
    "    stopwords = ['의','가','이','야','은','들','는','좀','잘','걍','과','도','를','으로','로','자','에','와','한','하다']\n",
    "    \n",
    "    stories, questions, answers = data\n",
    "    \n",
    "    for story, question, answer in zip(stories, questions, answers):\n",
    "        xs = [word2idx[w] for w in tokenize_stop(flatten(story))]\n",
    "        xs = [word for word in xs if not word in stopwords]\n",
    "        \n",
    "        xq = [word2idx[w] for w in tokenize_stop(question)]\n",
    "        xq = [word for word in xq if not word in stopwords]\n",
    "        \n",
    "        Xs.append(xs)\n",
    "        Xq.append(xq)\n",
    "        Y.append(word2idx[answer])\n",
    "\n",
    "    # 스토리와 질문은 각각의 최대 길이로 패딩\n",
    "    # 정답은 원-핫 인코딩\n",
    "    return pad_sequences(Xs, maxlen=story_maxlen),\\\n",
    "           pad_sequences(Xq, maxlen=question_maxlen),\\\n",
    "           to_categorical(Y, num_classes=len(word2idx) + 1)"
   ]
  },
  {
   "cell_type": "code",
   "execution_count": 97,
   "id": "fifth-karma",
   "metadata": {},
   "outputs": [],
   "source": [
    "def vectorize_stop(data, word2idx, story_maxlen, question_maxlen):\n",
    "    Xs, Xq, Y = [], [], []\n",
    "    flatten = lambda data: reduce(lambda x, y: x + y, data)\n",
    "     \n",
    "    stopwords = ['의','가','이','야','은','들','는','좀','잘','걍','과','도','를','으로','로','자','에','와','한','하다']\n",
    "    \n",
    "    stories, questions, answers = data\n",
    "    \n",
    "    for story, question, answer in zip(stories, questions, answers):\n",
    "        xs = [w for w in tokenize_stop(flatten(story))]\n",
    "        xs = [w for w in xs if not w in stopwords]\n",
    "        xs = [word2idx[w] for w in xs]\n",
    "        \n",
    "        xq = [w for w in tokenize_stop(question)]\n",
    "        xq = [w for w in xq if not w in stopwords]\n",
    "        xq = [word2idx[w] for w in xq]\n",
    "        \n",
    "        Xs.append(xs)\n",
    "        Xq.append(xq)\n",
    "        Y.append(word2idx[answer])\n",
    "\n",
    "    # 스토리와 질문은 각각의 최대 길이로 패딩\n",
    "    # 정답은 원-핫 인코딩\n",
    "    return pad_sequences(Xs, maxlen=story_maxlen),\\\n",
    "           pad_sequences(Xq, maxlen=question_maxlen),\\\n",
    "           to_categorical(Y, num_classes=len(word2idx) + 1)"
   ]
  },
  {
   "cell_type": "code",
   "execution_count": 98,
   "id": "leading-exhibition",
   "metadata": {},
   "outputs": [],
   "source": [
    "Xstrain_stop, Xqtrain_stop, Ytrain_stop = vectorize_stop(train_data, word2idx_stop, story_max_len_stop, question_max_len_stop)\n",
    "Xstest_stop, Xqtest_stop, Ytest_stop = vectorize_stop(test_data, word2idx_stop, story_max_len_stop, question_max_len_stop)"
   ]
  },
  {
   "cell_type": "code",
   "execution_count": 99,
   "id": "agricultural-exception",
   "metadata": {},
   "outputs": [
    {
     "name": "stdout",
     "output_type": "stream",
     "text": [
      "(10000, 50) (10000, 3) (10000, 20) (1000, 50) (1000, 3) (1000, 20)\n"
     ]
    }
   ],
   "source": [
    "print(Xstrain_stop.shape, Xqtrain_stop.shape, Ytrain_stop.shape, Xstest_stop.shape, Xqtest_stop.shape, Ytest_stop.shape)"
   ]
  },
  {
   "cell_type": "markdown",
   "id": "stopped-walnut",
   "metadata": {},
   "source": [
    "## 2번의 메모리 네트워크 구현"
   ]
  },
  {
   "cell_type": "code",
   "execution_count": 100,
   "id": "worse-payday",
   "metadata": {},
   "outputs": [],
   "source": [
    "from tensorflow.keras.models import Sequential, Model\n",
    "from tensorflow.keras.layers import Embedding\n",
    "from tensorflow.keras.layers import Permute, dot, add, concatenate\n",
    "from tensorflow.keras.layers import LSTM, Dense, Dropout, Input, Activation\n",
    "import matplotlib.pyplot as plt"
   ]
  },
  {
   "cell_type": "code",
   "execution_count": 101,
   "id": "advised-participant",
   "metadata": {},
   "outputs": [],
   "source": [
    "# 에포크 횟수\n",
    "train_epochs = 120\n",
    "# 배치 크기\n",
    "batch_size = 32\n",
    "# 임베딩 크기\n",
    "embed_size = 50\n",
    "# LSTM의 크기\n",
    "lstm_size = 64\n",
    "# 과적합 방지 기법인 드롭아웃 적용 비율\n",
    "dropout_rate = 0.30"
   ]
  },
  {
   "cell_type": "code",
   "execution_count": 102,
   "id": "assigned-attempt",
   "metadata": {},
   "outputs": [
    {
     "name": "stdout",
     "output_type": "stream",
     "text": [
      "Stories : KerasTensor(type_spec=TensorSpec(shape=(None, 50), dtype=tf.float32, name='input_5'), name='input_5', description=\"created by layer 'input_5'\")\n",
      "Question: KerasTensor(type_spec=TensorSpec(shape=(None, 3), dtype=tf.float32, name='input_6'), name='input_6', description=\"created by layer 'input_6'\")\n"
     ]
    }
   ],
   "source": [
    "input_sequence = Input((story_max_len_stop,))\n",
    "question = Input((question_max_len_stop,))\n",
    " \n",
    "print('Stories :', input_sequence)\n",
    "print('Question:', question)"
   ]
  },
  {
   "cell_type": "code",
   "execution_count": 103,
   "id": "interior-timer",
   "metadata": {},
   "outputs": [],
   "source": [
    "# 스토리를 위한 첫 번째 임베딩. 그림에서의 Embedding A\n",
    "input_encoder_m = Sequential()\n",
    "input_encoder_m.add(Embedding(input_dim=vocab_size,\n",
    "                              output_dim=embed_size))\n",
    "input_encoder_m.add(Dropout(dropout_rate))\n",
    "# 결과 : (samples, story_max_len, embed_size) / 샘플의 수, 문장의 최대 길이, 임베딩 벡터의 차원\n",
    " \n",
    "# 스토리를 위한 두 번째 임베딩. 그림에서의 Embedding C\n",
    "# 임베딩 벡터의 차원을 question_max_len(질문의 최대 길이)로 한다.\n",
    "input_encoder_c = Sequential()\n",
    "input_encoder_c.add(Embedding(input_dim=vocab_size,\n",
    "                              output_dim=question_max_len))\n",
    "input_encoder_c.add(Dropout(dropout_rate))\n",
    "# 결과 : (samples, story_max_len, question_max_len) / 샘플의 수, 문장의 최대 길이, 질문의 최대 길이(임베딩 벡터의 차원)"
   ]
  },
  {
   "cell_type": "code",
   "execution_count": 104,
   "id": "apparent-concord",
   "metadata": {},
   "outputs": [],
   "source": [
    "# 질문을 위한 임베딩. 그림에서의 Embedding B\n",
    "question_encoder = Sequential()\n",
    "question_encoder.add(Embedding(input_dim=vocab_size,\n",
    "                               output_dim=embed_size,\n",
    "                               input_length=question_max_len))\n",
    "question_encoder.add(Dropout(dropout_rate))\n",
    "# 결과 : (samples, question_max_len, embed_size) / 샘플의 수, 질문의 최대 길이, 임베딩 벡터의 차원"
   ]
  },
  {
   "cell_type": "code",
   "execution_count": 105,
   "id": "different-furniture",
   "metadata": {},
   "outputs": [
    {
     "name": "stdout",
     "output_type": "stream",
     "text": [
      "Input encoded m KerasTensor(type_spec=TensorSpec(shape=(None, 50, 50), dtype=tf.float32, name=None), name='sequential_6/dropout_8/Identity:0', description=\"created by layer 'sequential_6'\") \n",
      "\n",
      "Input encoded c KerasTensor(type_spec=TensorSpec(shape=(None, 50, 3), dtype=tf.float32, name=None), name='sequential_7/dropout_9/Identity:0', description=\"created by layer 'sequential_7'\") \n",
      "\n",
      "Question encoded KerasTensor(type_spec=TensorSpec(shape=(None, 3, 50), dtype=tf.float32, name=None), name='sequential_8/dropout_10/Identity:0', description=\"created by layer 'sequential_8'\") \n",
      "\n"
     ]
    }
   ],
   "source": [
    "# 실질적인 임베딩 과정\n",
    "input_encoded_m = input_encoder_m(input_sequence)\n",
    "input_encoded_c = input_encoder_c(input_sequence)\n",
    "question_encoded = question_encoder(question)\n",
    "\n",
    "print('Input encoded m', input_encoded_m, '\\n')\n",
    "print('Input encoded c', input_encoded_c, '\\n')\n",
    "print('Question encoded', question_encoded, '\\n')"
   ]
  },
  {
   "cell_type": "code",
   "execution_count": 106,
   "id": "collective-davis",
   "metadata": {},
   "outputs": [
    {
     "name": "stdout",
     "output_type": "stream",
     "text": [
      "Match shape KerasTensor(type_spec=TensorSpec(shape=(None, 50, 3), dtype=tf.float32, name=None), name='activation_4/truediv:0', description=\"created by layer 'activation_4'\")\n"
     ]
    }
   ],
   "source": [
    "# 스토리 단어들과 질문 단어들 간의 유사도를 구하는 과정\n",
    "# 유사도는 내적을 사용한다.\n",
    "match = dot([input_encoded_m, question_encoded], axes=-1, normalize=False)\n",
    "match = Activation('softmax')(match)\n",
    "print('Match shape', match)\n",
    "# 결과 : (samples, story_max_len, question_max_len) / 샘플의 수, 문장의 최대 길이, 질문의 최대 길이"
   ]
  },
  {
   "cell_type": "code",
   "execution_count": 107,
   "id": "historic-password",
   "metadata": {},
   "outputs": [
    {
     "name": "stdout",
     "output_type": "stream",
     "text": [
      "Response shape KerasTensor(type_spec=TensorSpec(shape=(None, 3, 50), dtype=tf.float32, name=None), name='permute_2/transpose:0', description=\"created by layer 'permute_2'\")\n"
     ]
    }
   ],
   "source": [
    "# 매칭 유사도 행렬과 질문에 대한 임베딩을 더한다.\n",
    "response = add([match, input_encoded_c])  # (samples, story_maxlen, question_max_len)\n",
    "response = Permute((2, 1))(response)  # (samples, question_max_len, story_maxlen)\n",
    "print('Response shape', response)"
   ]
  },
  {
   "cell_type": "code",
   "execution_count": 108,
   "id": "verbal-topic",
   "metadata": {},
   "outputs": [
    {
     "name": "stdout",
     "output_type": "stream",
     "text": [
      "Answer shape KerasTensor(type_spec=TensorSpec(shape=(None, 3, 100), dtype=tf.float32, name=None), name='concatenate_2/concat:0', description=\"created by layer 'concatenate_2'\")\n"
     ]
    }
   ],
   "source": [
    "# concatenate the response vector with the question vector sequence\n",
    "answer = concatenate([response, question_encoded])\n",
    "print('Answer shape', answer)\n",
    " \n",
    "answer = LSTM(lstm_size)(answer)  # Generate tensors of shape 32\n",
    "answer = Dropout(dropout_rate)(answer)\n",
    "answer = Dense(vocab_size)(answer)  # (samples, vocab_size)\n",
    "# we output a probability distribution over the vocabulary\n",
    "answer = Activation('softmax')(answer)"
   ]
  },
  {
   "cell_type": "markdown",
   "id": "loved-daily",
   "metadata": {},
   "source": [
    "## 모델 학습"
   ]
  },
  {
   "cell_type": "code",
   "execution_count": 109,
   "id": "joined-current",
   "metadata": {},
   "outputs": [
    {
     "name": "stdout",
     "output_type": "stream",
     "text": [
      "Epoch 1/120\n",
      "313/313 [==============================] - 4s 5ms/step - loss: 2.0161 - acc: 0.1569 - val_loss: 1.7855 - val_acc: 0.1860\n",
      "Epoch 2/120\n",
      "313/313 [==============================] - 1s 3ms/step - loss: 1.7722 - acc: 0.2054 - val_loss: 1.6673 - val_acc: 0.2570\n",
      "Epoch 3/120\n",
      "313/313 [==============================] - 1s 3ms/step - loss: 1.6447 - acc: 0.2845 - val_loss: 1.5573 - val_acc: 0.3710\n",
      "Epoch 4/120\n",
      "313/313 [==============================] - 1s 3ms/step - loss: 1.5440 - acc: 0.3660 - val_loss: 1.5359 - val_acc: 0.3620\n",
      "Epoch 5/120\n",
      "313/313 [==============================] - 1s 3ms/step - loss: 1.5061 - acc: 0.3943 - val_loss: 1.5302 - val_acc: 0.3800\n",
      "Epoch 6/120\n",
      "313/313 [==============================] - 1s 3ms/step - loss: 1.4661 - acc: 0.4262 - val_loss: 1.3830 - val_acc: 0.4790\n",
      "Epoch 7/120\n",
      "313/313 [==============================] - 1s 4ms/step - loss: 1.4089 - acc: 0.4587 - val_loss: 1.3573 - val_acc: 0.4890\n",
      "Epoch 8/120\n",
      "313/313 [==============================] - 1s 4ms/step - loss: 1.3751 - acc: 0.4701 - val_loss: 1.3521 - val_acc: 0.4870\n",
      "Epoch 9/120\n",
      "313/313 [==============================] - 1s 3ms/step - loss: 1.3659 - acc: 0.4699 - val_loss: 1.3850 - val_acc: 0.4700\n",
      "Epoch 10/120\n",
      "313/313 [==============================] - 1s 3ms/step - loss: 1.3644 - acc: 0.4640 - val_loss: 1.3313 - val_acc: 0.4990\n",
      "Epoch 11/120\n",
      "313/313 [==============================] - 1s 3ms/step - loss: 1.3446 - acc: 0.4788 - val_loss: 1.3434 - val_acc: 0.4850\n",
      "Epoch 12/120\n",
      "313/313 [==============================] - 1s 3ms/step - loss: 1.3398 - acc: 0.4755 - val_loss: 1.3329 - val_acc: 0.5030\n",
      "Epoch 13/120\n",
      "313/313 [==============================] - 1s 3ms/step - loss: 1.3296 - acc: 0.4996 - val_loss: 1.3354 - val_acc: 0.4750\n",
      "Epoch 14/120\n",
      "313/313 [==============================] - 1s 3ms/step - loss: 1.3309 - acc: 0.4845 - val_loss: 1.3378 - val_acc: 0.4820\n",
      "Epoch 15/120\n",
      "313/313 [==============================] - 1s 3ms/step - loss: 1.3218 - acc: 0.4813 - val_loss: 1.3231 - val_acc: 0.5050\n",
      "Epoch 16/120\n",
      "313/313 [==============================] - 1s 3ms/step - loss: 1.3094 - acc: 0.5005 - val_loss: 1.3545 - val_acc: 0.4630\n",
      "Epoch 17/120\n",
      "313/313 [==============================] - 1s 3ms/step - loss: 1.3117 - acc: 0.4890 - val_loss: 1.2798 - val_acc: 0.5210\n",
      "Epoch 18/120\n",
      "313/313 [==============================] - 1s 3ms/step - loss: 1.2921 - acc: 0.5026 - val_loss: 1.2699 - val_acc: 0.5290\n",
      "Epoch 19/120\n",
      "313/313 [==============================] - 1s 3ms/step - loss: 1.2923 - acc: 0.4980 - val_loss: 1.2927 - val_acc: 0.5230\n",
      "Epoch 20/120\n",
      "313/313 [==============================] - 1s 3ms/step - loss: 1.2806 - acc: 0.5063 - val_loss: 1.2710 - val_acc: 0.5120\n",
      "Epoch 21/120\n",
      "313/313 [==============================] - 1s 3ms/step - loss: 1.2621 - acc: 0.5156 - val_loss: 1.2679 - val_acc: 0.5320\n",
      "Epoch 22/120\n",
      "313/313 [==============================] - 1s 3ms/step - loss: 1.2493 - acc: 0.5229 - val_loss: 1.2988 - val_acc: 0.5070\n",
      "Epoch 23/120\n",
      "313/313 [==============================] - 1s 3ms/step - loss: 1.2268 - acc: 0.5232 - val_loss: 1.2516 - val_acc: 0.5230\n",
      "Epoch 24/120\n",
      "313/313 [==============================] - 1s 3ms/step - loss: 1.2232 - acc: 0.5308 - val_loss: 1.2500 - val_acc: 0.5370\n",
      "Epoch 25/120\n",
      "313/313 [==============================] - 1s 3ms/step - loss: 1.2216 - acc: 0.5294 - val_loss: 1.2568 - val_acc: 0.5270\n",
      "Epoch 26/120\n",
      "313/313 [==============================] - 1s 3ms/step - loss: 1.2073 - acc: 0.5364 - val_loss: 1.2489 - val_acc: 0.5390\n",
      "Epoch 27/120\n",
      "313/313 [==============================] - 1s 3ms/step - loss: 1.1935 - acc: 0.5449 - val_loss: 1.1906 - val_acc: 0.5770\n",
      "Epoch 28/120\n",
      "313/313 [==============================] - 1s 3ms/step - loss: 1.1411 - acc: 0.5756 - val_loss: 1.1221 - val_acc: 0.6080\n",
      "Epoch 29/120\n",
      "313/313 [==============================] - 1s 3ms/step - loss: 1.0610 - acc: 0.6207 - val_loss: 0.9738 - val_acc: 0.6740\n",
      "Epoch 30/120\n",
      "313/313 [==============================] - 1s 3ms/step - loss: 0.9363 - acc: 0.6670 - val_loss: 0.8713 - val_acc: 0.7120\n",
      "Epoch 31/120\n",
      "313/313 [==============================] - 1s 3ms/step - loss: 0.8448 - acc: 0.7059 - val_loss: 0.8270 - val_acc: 0.7170\n",
      "Epoch 32/120\n",
      "313/313 [==============================] - 1s 3ms/step - loss: 0.7838 - acc: 0.7222 - val_loss: 0.7985 - val_acc: 0.7380\n",
      "Epoch 33/120\n",
      "313/313 [==============================] - 1s 3ms/step - loss: 0.7509 - acc: 0.7312 - val_loss: 0.7274 - val_acc: 0.7530\n",
      "Epoch 34/120\n",
      "313/313 [==============================] - 1s 3ms/step - loss: 0.6916 - acc: 0.7540 - val_loss: 0.6570 - val_acc: 0.7610\n",
      "Epoch 35/120\n",
      "313/313 [==============================] - 1s 3ms/step - loss: 0.6578 - acc: 0.7629 - val_loss: 0.6174 - val_acc: 0.7660\n",
      "Epoch 36/120\n",
      "313/313 [==============================] - 1s 3ms/step - loss: 0.5939 - acc: 0.7861 - val_loss: 0.5632 - val_acc: 0.7820\n",
      "Epoch 37/120\n",
      "313/313 [==============================] - 1s 3ms/step - loss: 0.5821 - acc: 0.7842 - val_loss: 0.5274 - val_acc: 0.8080\n",
      "Epoch 38/120\n",
      "313/313 [==============================] - 1s 3ms/step - loss: 0.5331 - acc: 0.8064 - val_loss: 0.5037 - val_acc: 0.8210\n",
      "Epoch 39/120\n",
      "313/313 [==============================] - 1s 3ms/step - loss: 0.5023 - acc: 0.8115 - val_loss: 0.5078 - val_acc: 0.8220\n",
      "Epoch 40/120\n",
      "313/313 [==============================] - 1s 3ms/step - loss: 0.4944 - acc: 0.8171 - val_loss: 0.4700 - val_acc: 0.8260\n",
      "Epoch 41/120\n",
      "313/313 [==============================] - 1s 3ms/step - loss: 0.4617 - acc: 0.8330 - val_loss: 0.4602 - val_acc: 0.8160\n",
      "Epoch 42/120\n",
      "313/313 [==============================] - 1s 3ms/step - loss: 0.4623 - acc: 0.8328 - val_loss: 0.4253 - val_acc: 0.8420\n",
      "Epoch 43/120\n",
      "313/313 [==============================] - 1s 3ms/step - loss: 0.4432 - acc: 0.8348 - val_loss: 0.4215 - val_acc: 0.8530\n",
      "Epoch 44/120\n",
      "313/313 [==============================] - 1s 3ms/step - loss: 0.4245 - acc: 0.8440 - val_loss: 0.4178 - val_acc: 0.8460\n",
      "Epoch 45/120\n",
      "313/313 [==============================] - 1s 3ms/step - loss: 0.4109 - acc: 0.8520 - val_loss: 0.4041 - val_acc: 0.8440\n",
      "Epoch 46/120\n",
      "313/313 [==============================] - 1s 3ms/step - loss: 0.3937 - acc: 0.8561 - val_loss: 0.4004 - val_acc: 0.8570\n",
      "Epoch 47/120\n",
      "313/313 [==============================] - 1s 3ms/step - loss: 0.3884 - acc: 0.8597 - val_loss: 0.3904 - val_acc: 0.8670\n",
      "Epoch 48/120\n",
      "313/313 [==============================] - 1s 3ms/step - loss: 0.3760 - acc: 0.8592 - val_loss: 0.3739 - val_acc: 0.8650\n",
      "Epoch 49/120\n",
      "313/313 [==============================] - 1s 3ms/step - loss: 0.3748 - acc: 0.8595 - val_loss: 0.3855 - val_acc: 0.8640\n",
      "Epoch 50/120\n",
      "313/313 [==============================] - 1s 3ms/step - loss: 0.3511 - acc: 0.8742 - val_loss: 0.3342 - val_acc: 0.8860\n",
      "Epoch 51/120\n",
      "313/313 [==============================] - 1s 3ms/step - loss: 0.3312 - acc: 0.8846 - val_loss: 0.3401 - val_acc: 0.8790\n",
      "Epoch 52/120\n",
      "313/313 [==============================] - 1s 3ms/step - loss: 0.3247 - acc: 0.8831 - val_loss: 0.3217 - val_acc: 0.8810\n",
      "Epoch 53/120\n",
      "313/313 [==============================] - 1s 3ms/step - loss: 0.3192 - acc: 0.8814 - val_loss: 0.3434 - val_acc: 0.8680\n",
      "Epoch 54/120\n",
      "313/313 [==============================] - 1s 3ms/step - loss: 0.3083 - acc: 0.8868 - val_loss: 0.3026 - val_acc: 0.9010\n",
      "Epoch 55/120\n",
      "313/313 [==============================] - 1s 3ms/step - loss: 0.2990 - acc: 0.8847 - val_loss: 0.3065 - val_acc: 0.8980\n",
      "Epoch 56/120\n",
      "313/313 [==============================] - 1s 3ms/step - loss: 0.2974 - acc: 0.8915 - val_loss: 0.2917 - val_acc: 0.8940\n",
      "Epoch 57/120\n",
      "313/313 [==============================] - 1s 3ms/step - loss: 0.2915 - acc: 0.8934 - val_loss: 0.2869 - val_acc: 0.9040\n",
      "Epoch 58/120\n",
      "313/313 [==============================] - 1s 3ms/step - loss: 0.2821 - acc: 0.8982 - val_loss: 0.2942 - val_acc: 0.8970\n",
      "Epoch 59/120\n",
      "313/313 [==============================] - 1s 3ms/step - loss: 0.2667 - acc: 0.9036 - val_loss: 0.3211 - val_acc: 0.8930\n",
      "Epoch 60/120\n",
      "313/313 [==============================] - 1s 3ms/step - loss: 0.2656 - acc: 0.9106 - val_loss: 0.2958 - val_acc: 0.9000\n",
      "Epoch 61/120\n",
      "313/313 [==============================] - 1s 3ms/step - loss: 0.2625 - acc: 0.9085 - val_loss: 0.2789 - val_acc: 0.9030\n",
      "Epoch 62/120\n"
     ]
    },
    {
     "name": "stdout",
     "output_type": "stream",
     "text": [
      "313/313 [==============================] - 1s 3ms/step - loss: 0.2457 - acc: 0.9131 - val_loss: 0.2765 - val_acc: 0.9080\n",
      "Epoch 63/120\n",
      "313/313 [==============================] - 1s 3ms/step - loss: 0.2470 - acc: 0.9120 - val_loss: 0.2616 - val_acc: 0.9050\n",
      "Epoch 64/120\n",
      "313/313 [==============================] - 1s 3ms/step - loss: 0.2412 - acc: 0.9171 - val_loss: 0.2938 - val_acc: 0.8990\n",
      "Epoch 65/120\n",
      "313/313 [==============================] - 1s 3ms/step - loss: 0.2423 - acc: 0.9151 - val_loss: 0.2581 - val_acc: 0.9160\n",
      "Epoch 66/120\n",
      "313/313 [==============================] - 1s 3ms/step - loss: 0.2268 - acc: 0.9175 - val_loss: 0.2647 - val_acc: 0.9130\n",
      "Epoch 67/120\n",
      "313/313 [==============================] - 1s 3ms/step - loss: 0.2366 - acc: 0.9148 - val_loss: 0.2506 - val_acc: 0.9070\n",
      "Epoch 68/120\n",
      "313/313 [==============================] - 1s 3ms/step - loss: 0.2320 - acc: 0.9176 - val_loss: 0.2577 - val_acc: 0.9080\n",
      "Epoch 69/120\n",
      "313/313 [==============================] - 1s 3ms/step - loss: 0.2164 - acc: 0.9230 - val_loss: 0.2545 - val_acc: 0.9060\n",
      "Epoch 70/120\n",
      "313/313 [==============================] - 1s 3ms/step - loss: 0.2076 - acc: 0.9264 - val_loss: 0.2452 - val_acc: 0.9110\n",
      "Epoch 71/120\n",
      "313/313 [==============================] - 1s 3ms/step - loss: 0.2004 - acc: 0.9289 - val_loss: 0.2543 - val_acc: 0.9140\n",
      "Epoch 72/120\n",
      "313/313 [==============================] - 1s 3ms/step - loss: 0.1930 - acc: 0.9322 - val_loss: 0.2488 - val_acc: 0.9120\n",
      "Epoch 73/120\n",
      "313/313 [==============================] - 1s 3ms/step - loss: 0.1936 - acc: 0.9315 - val_loss: 0.2279 - val_acc: 0.9210\n",
      "Epoch 74/120\n",
      "313/313 [==============================] - 1s 3ms/step - loss: 0.1897 - acc: 0.9310 - val_loss: 0.2287 - val_acc: 0.9190\n",
      "Epoch 75/120\n",
      "313/313 [==============================] - 1s 3ms/step - loss: 0.1855 - acc: 0.9346 - val_loss: 0.2258 - val_acc: 0.9280\n",
      "Epoch 76/120\n",
      "313/313 [==============================] - 1s 3ms/step - loss: 0.1817 - acc: 0.9368 - val_loss: 0.2751 - val_acc: 0.9200\n",
      "Epoch 77/120\n",
      "313/313 [==============================] - 1s 3ms/step - loss: 0.1801 - acc: 0.9366 - val_loss: 0.2171 - val_acc: 0.9310\n",
      "Epoch 78/120\n",
      "313/313 [==============================] - 1s 3ms/step - loss: 0.1838 - acc: 0.9336 - val_loss: 0.2095 - val_acc: 0.9320\n",
      "Epoch 79/120\n",
      "313/313 [==============================] - 1s 3ms/step - loss: 0.1701 - acc: 0.9439 - val_loss: 0.2217 - val_acc: 0.9260\n",
      "Epoch 80/120\n",
      "313/313 [==============================] - 1s 3ms/step - loss: 0.1639 - acc: 0.9417 - val_loss: 0.2416 - val_acc: 0.9190\n",
      "Epoch 81/120\n",
      "313/313 [==============================] - 1s 3ms/step - loss: 0.1632 - acc: 0.9429 - val_loss: 0.2052 - val_acc: 0.9320\n",
      "Epoch 82/120\n",
      "313/313 [==============================] - 1s 3ms/step - loss: 0.1655 - acc: 0.9395 - val_loss: 0.2237 - val_acc: 0.9320\n",
      "Epoch 83/120\n",
      "313/313 [==============================] - 1s 3ms/step - loss: 0.1560 - acc: 0.9472 - val_loss: 0.1868 - val_acc: 0.9390\n",
      "Epoch 84/120\n",
      "313/313 [==============================] - 1s 3ms/step - loss: 0.1506 - acc: 0.9459 - val_loss: 0.2194 - val_acc: 0.9290\n",
      "Epoch 85/120\n",
      "313/313 [==============================] - 1s 3ms/step - loss: 0.1475 - acc: 0.9471 - val_loss: 0.2239 - val_acc: 0.9230\n",
      "Epoch 86/120\n",
      "313/313 [==============================] - 1s 4ms/step - loss: 0.1581 - acc: 0.9465 - val_loss: 0.1985 - val_acc: 0.9370\n",
      "Epoch 87/120\n",
      "313/313 [==============================] - 1s 4ms/step - loss: 0.1496 - acc: 0.9493 - val_loss: 0.2171 - val_acc: 0.9320\n",
      "Epoch 88/120\n",
      "313/313 [==============================] - 1s 4ms/step - loss: 0.1423 - acc: 0.9558 - val_loss: 0.2089 - val_acc: 0.9380\n",
      "Epoch 89/120\n",
      "313/313 [==============================] - 1s 3ms/step - loss: 0.1424 - acc: 0.9528 - val_loss: 0.1821 - val_acc: 0.9340\n",
      "Epoch 90/120\n",
      "313/313 [==============================] - 1s 3ms/step - loss: 0.1389 - acc: 0.9487 - val_loss: 0.1986 - val_acc: 0.9300\n",
      "Epoch 91/120\n",
      "313/313 [==============================] - 1s 3ms/step - loss: 0.1428 - acc: 0.9518 - val_loss: 0.1839 - val_acc: 0.9430\n",
      "Epoch 92/120\n",
      "313/313 [==============================] - 1s 3ms/step - loss: 0.1424 - acc: 0.9525 - val_loss: 0.2123 - val_acc: 0.9290\n",
      "Epoch 93/120\n",
      "313/313 [==============================] - 1s 4ms/step - loss: 0.1256 - acc: 0.9562 - val_loss: 0.1758 - val_acc: 0.9450\n",
      "Epoch 94/120\n",
      "313/313 [==============================] - 1s 3ms/step - loss: 0.1406 - acc: 0.9537 - val_loss: 0.1895 - val_acc: 0.9420\n",
      "Epoch 95/120\n",
      "313/313 [==============================] - 1s 3ms/step - loss: 0.1269 - acc: 0.9586 - val_loss: 0.1783 - val_acc: 0.9430\n",
      "Epoch 96/120\n",
      "313/313 [==============================] - 1s 3ms/step - loss: 0.1090 - acc: 0.9628 - val_loss: 0.2142 - val_acc: 0.9250\n",
      "Epoch 97/120\n",
      "313/313 [==============================] - 1s 4ms/step - loss: 0.1286 - acc: 0.9559 - val_loss: 0.1811 - val_acc: 0.9390\n",
      "Epoch 98/120\n",
      "313/313 [==============================] - 1s 3ms/step - loss: 0.1258 - acc: 0.9550 - val_loss: 0.1808 - val_acc: 0.9450\n",
      "Epoch 99/120\n",
      "313/313 [==============================] - 1s 3ms/step - loss: 0.1181 - acc: 0.9590 - val_loss: 0.1888 - val_acc: 0.9430\n",
      "Epoch 100/120\n",
      "313/313 [==============================] - 1s 3ms/step - loss: 0.1281 - acc: 0.9561 - val_loss: 0.1965 - val_acc: 0.9390\n",
      "Epoch 101/120\n",
      "313/313 [==============================] - 1s 3ms/step - loss: 0.1097 - acc: 0.9628 - val_loss: 0.1852 - val_acc: 0.9350\n",
      "Epoch 102/120\n",
      "313/313 [==============================] - 1s 3ms/step - loss: 0.1090 - acc: 0.9670 - val_loss: 0.1796 - val_acc: 0.9390\n",
      "Epoch 103/120\n",
      "313/313 [==============================] - 1s 3ms/step - loss: 0.1161 - acc: 0.9605 - val_loss: 0.2073 - val_acc: 0.9340\n",
      "Epoch 104/120\n",
      "313/313 [==============================] - 1s 4ms/step - loss: 0.1025 - acc: 0.9689 - val_loss: 0.1733 - val_acc: 0.9390\n",
      "Epoch 105/120\n",
      "313/313 [==============================] - 1s 3ms/step - loss: 0.1061 - acc: 0.9636 - val_loss: 0.1861 - val_acc: 0.9390\n",
      "Epoch 106/120\n",
      "313/313 [==============================] - 1s 4ms/step - loss: 0.1158 - acc: 0.9616 - val_loss: 0.2160 - val_acc: 0.9260\n",
      "Epoch 107/120\n",
      "313/313 [==============================] - 1s 3ms/step - loss: 0.1059 - acc: 0.9633 - val_loss: 0.1577 - val_acc: 0.9500\n",
      "Epoch 108/120\n",
      "313/313 [==============================] - 1s 3ms/step - loss: 0.1054 - acc: 0.9613 - val_loss: 0.1868 - val_acc: 0.9430\n",
      "Epoch 109/120\n",
      "313/313 [==============================] - 1s 3ms/step - loss: 0.1043 - acc: 0.9660 - val_loss: 0.1587 - val_acc: 0.9460\n",
      "Epoch 110/120\n",
      "313/313 [==============================] - 1s 3ms/step - loss: 0.1001 - acc: 0.9682 - val_loss: 0.1626 - val_acc: 0.9510\n",
      "Epoch 111/120\n",
      "313/313 [==============================] - 1s 3ms/step - loss: 0.0907 - acc: 0.9688 - val_loss: 0.1714 - val_acc: 0.9510\n",
      "Epoch 112/120\n",
      "313/313 [==============================] - 1s 3ms/step - loss: 0.0980 - acc: 0.9685 - val_loss: 0.1728 - val_acc: 0.9430\n",
      "Epoch 113/120\n",
      "313/313 [==============================] - 1s 3ms/step - loss: 0.0821 - acc: 0.9724 - val_loss: 0.1709 - val_acc: 0.9410\n",
      "Epoch 114/120\n",
      "313/313 [==============================] - 1s 3ms/step - loss: 0.0922 - acc: 0.9703 - val_loss: 0.1512 - val_acc: 0.9520\n",
      "Epoch 115/120\n",
      "313/313 [==============================] - 1s 3ms/step - loss: 0.1012 - acc: 0.9692 - val_loss: 0.1734 - val_acc: 0.9540\n",
      "Epoch 116/120\n",
      "313/313 [==============================] - 1s 3ms/step - loss: 0.0902 - acc: 0.9729 - val_loss: 0.1659 - val_acc: 0.9530\n",
      "Epoch 117/120\n",
      "313/313 [==============================] - 1s 3ms/step - loss: 0.0938 - acc: 0.9680 - val_loss: 0.1827 - val_acc: 0.9480\n",
      "Epoch 118/120\n",
      "313/313 [==============================] - 1s 3ms/step - loss: 0.0795 - acc: 0.9729 - val_loss: 0.1624 - val_acc: 0.9530\n",
      "Epoch 119/120\n",
      "313/313 [==============================] - 1s 3ms/step - loss: 0.1049 - acc: 0.9706 - val_loss: 0.1482 - val_acc: 0.9520\n",
      "Epoch 120/120\n",
      "313/313 [==============================] - 1s 3ms/step - loss: 0.0744 - acc: 0.9782 - val_loss: 0.1575 - val_acc: 0.9520\n"
     ]
    }
   ],
   "source": [
    "import os\n",
    "\n",
    "# 모델 컴파일\n",
    "model = Model([input_sequence, question], answer)\n",
    "model.compile(optimizer='rmsprop', loss='categorical_crossentropy',\n",
    "              metrics=['acc'])\n",
    " \n",
    "# 테스트 데이터를 검증 데이터로 사용하면서 모델 훈련 시작\n",
    "history = model.fit([Xstrain_stop, Xqtrain_stop],\n",
    "         Ytrain_stop, batch_size, train_epochs,\n",
    "         validation_data=([Xstest_stop, Xqtest_stop], Ytest_stop))\n",
    " \n",
    "# 훈련 후에는 모델 저장\n",
    "model_path = os.getenv('HOME')+'/aiffel/babi_memory_net/model.h5'\n",
    "model.save(model_path)"
   ]
  },
  {
   "cell_type": "code",
   "execution_count": 110,
   "id": "directed-participant",
   "metadata": {},
   "outputs": [
    {
     "name": "stdout",
     "output_type": "stream",
     "text": [
      "32/32 [==============================] - 0s 2ms/step - loss: 0.1575 - acc: 0.9520\n",
      "\n",
      " 테스트 정확도: 0.9520\n"
     ]
    }
   ],
   "source": [
    "print(\"\\n 테스트 정확도: %.4f\" % (model.evaluate([Xstest_stop, Xqtest_stop], Ytest_stop)[1]))"
   ]
  },
  {
   "cell_type": "code",
   "execution_count": 117,
   "id": "statistical-framework",
   "metadata": {},
   "outputs": [
    {
     "data": {
      "image/png": "[encoded data removed]",
      "text/plain": [
       "<Figure size 432x288 with 2 Axes>"
      ]
     },
     "metadata": {
      "needs_background": "light"
     },
     "output_type": "display_data"
    }
   ],
   "source": [
    "# plot accuracy and loss plot\n",
    "plt.subplot(211)\n",
    "plt.title(\"Accuracy\")\n",
    "plt.plot(history.history[\"acc\"], color=\"g\", label=\"train\")\n",
    "plt.plot(history.history[\"val_acc\"], color=\"b\", label=\"validation\")\n",
    "plt.legend(loc=\"best\")\n",
    "\n",
    "plt.subplot(212)\n",
    "plt.title(\"Loss\")\n",
    "plt.plot(history.history[\"loss\"], color=\"g\", label=\"train\")\n",
    "plt.plot(history.history[\"val_loss\"], color=\"b\", label=\"validation\")\n",
    "plt.legend(loc=\"best\")\n",
    "\n",
    "plt.tight_layout()\n",
    "plt.show()\n",
    "\n",
    "# labels\n",
    "ytest = np.argmax(Ytest_stop, axis=1)\n",
    "\n",
    "# get predictions\n",
    "Ytest_ = model.predict([Xstest_stop, Xqtest_stop])\n",
    "ytest_ = np.argmax(Ytest_, axis=1)"
   ]
  },
  {
   "cell_type": "code",
   "execution_count": 119,
   "id": "comic-boxing",
   "metadata": {},
   "outputs": [
    {
     "name": "stdout",
     "output_type": "stream",
     "text": [
      "질문                  |실제값    |예측값\n",
      "---------------------------------------\n",
      "은경이 어디 ?            : 복도       복도\n",
      "필웅이 어디 ?            : 화장실      화장실\n",
      "경임이 어디 ?            : 부엌       부엌\n",
      "경임이 어디 ?            : 복도       복도\n",
      "경임이 어디 ?            : 부엌       부엌\n",
      "경임이 어디 ?            : 복도       복도\n",
      "경임이 어디 ?            : 정원       정원\n",
      "수종이 어디 ?            : 복도       복도\n",
      "경임이 어디 ?            : 사무실      사무실\n",
      "수종이 어디 ?            : 사무실      사무실\n",
      "필웅이 어디 ?            : 부엌       부엌\n",
      "필웅이 어디 ?            : 정원       정원\n",
      "수종이 어디 ?            : 사무실      사무실\n",
      "필웅이 어디 ?            : 침실       침실\n",
      "필웅이 어디 ?            : 침실       침실\n",
      "은경이 어디 ?            : 부엌       부엌\n",
      "은경이 어디 ?            : 정원       정원\n",
      "은경이 어디 ?            : 부엌       부엌\n",
      "수종이 어디 ?            : 사무실      사무실\n",
      "은경이 어디 ?            : 침실       침실\n",
      "필웅이 어디 ?            : 복도       복도\n",
      "은경이 어디 ?            : 사무실      사무실\n",
      "은경이 어디 ?            : 사무실      사무실\n",
      "경임이 어디 ?            : 복도       복도\n",
      "수종이 어디 ?            : 침실       침실\n",
      "경임이 어디 ?            : 침실       침실\n",
      "필웅이 어디 ?            : 침실       침실\n",
      "수종이 어디 ?            : 부엌       부엌\n",
      "수종이 어디 ?            : 부엌       부엌\n",
      "수종이 어디 ?            : 정원       정원\n"
     ]
    }
   ],
   "source": [
    "NUM_DISPLAY = 30\n",
    "\n",
    "print(\"{:20}|{:7}|{}\".format(\"질문\", \"실제값\", \"예측값\"))\n",
    "print(39 * \"-\")\n",
    "\n",
    "for i in range(NUM_DISPLAY):\n",
    "    question = \" \".join([idx2word_stop[x] for x in Xqtest_stop[i].tolist()])\n",
    "    label = idx2word_stop[ytest_[i]]\n",
    "    prediction = idx2word_stop[ytest_[i]]\n",
    "    print(\"{:20}: {:8} {}\".format(question, label, prediction))"
   ]
  },
  {
   "cell_type": "markdown",
   "id": "checked-moment",
   "metadata": {},
   "source": [
    "*****\n",
    "# 루브릭 평가"
   ]
  },
  {
   "cell_type": "markdown",
   "id": "elegant-module",
   "metadata": {},
   "source": [
    "|평가문항|상세기준|\n",
    "|:----|:----|\n",
    "|1. 한국어의 특성에 알맞게 전처리가 진행되었다.|한국어 특성에 따른 토큰화, 임베딩을 거쳐 데이터셋이 적절히 구성되었다.|\n",
    "|2. 메모리 네트워크가 정상적으로 구현되어 학습이 안정적으로 진행되었다.|validation loss가 안정적으로 수렴하는 것을 확인하고 이를 시각화하였다.|\n",
    "|3. 메모리 네트워크를 통해 한국어 bAbI 태스크의 높은 정확도를 달성하였다.|추론 태스크의 테스트 정확도가 90% 이상 달성하였다.|"
   ]
  },
  {
   "cell_type": "markdown",
   "id": "purple-sheriff",
   "metadata": {},
   "source": [
    "1. mecab은 사용하지 않았다. 왜냐하면 이번 문장들은 다소 쉬운 문장구조를 가지고 있었기 때문이다. 결과도 좋게 나온 것 같다. 불용어는 제거하지 않은 버전과 제거한 버전을 가지고 모델을 돌려보았다. 불용어를 제거한 쪽이 조금 성능이 덜 나왔다.\n",
    "\n",
    "\n",
    "2. 정확도가 안정적으로 수렴하는 것을 표로 도출하여 확인하였다.\n",
    "\n",
    "\n",
    "3. 불용어 제거하지 않은 버전과 제거한 버전 모두 정확도가 90%이상 나옴을 확인했다."
   ]
  },
  {
   "cell_type": "markdown",
   "id": "refined-telescope",
   "metadata": {},
   "source": [
    "# 회고"
   ]
  },
  {
   "cell_type": "markdown",
   "id": "automotive-junction",
   "metadata": {},
   "source": [
    "오랜만에 끝까지 한 노드였다. 중간에 모델 학습 부분에서 incompatible Error가 떠서 포기할까 했는데 셀의 위치를 변경시키니 돌아갔다. 분명 내가 잘못 전처리를 한 것도 아니고 규격을 다 맞췄는데, 에러가 나서 좀 당황했다. 그래도 됐으니 다행이다."
   ]
  },
  {
   "cell_type": "code",
   "execution_count": null,
   "id": "whole-pride",
   "metadata": {},
   "outputs": [],
   "source": []
  }
 ],
 "metadata": {
  "kernelspec": {
   "display_name": "aiffel",
   "language": "python",
   "name": "aiffel"
  },
  "language_info": {
   "codemirror_mode": {
    "name": "ipython",
    "version": 3
   },
   "file_extension": ".py",
   "mimetype": "text/x-python",
   "name": "python",
   "nbconvert_exporter": "python",
   "pygments_lexer": "ipython3",
   "version": "3.7.9"
  }
 },
 "nbformat": 4,
 "nbformat_minor": 5
}
